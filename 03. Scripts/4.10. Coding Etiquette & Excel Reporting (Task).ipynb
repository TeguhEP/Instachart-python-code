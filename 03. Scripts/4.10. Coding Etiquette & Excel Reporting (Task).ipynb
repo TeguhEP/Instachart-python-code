{
 "cells": [
  {
   "cell_type": "markdown",
   "id": "802da9eb",
   "metadata": {},
   "source": [
    "# 4.10. Coding Etiquette & Excel Reporting"
   ]
  },
  {
   "cell_type": "markdown",
   "id": "1456b1f3",
   "metadata": {},
   "source": [
    "### Table of Contents"
   ]
  },
  {
   "cell_type": "markdown",
   "id": "5a603b29",
   "metadata": {},
   "source": [
    "1. Importing Data\n",
    "\n",
    "2. Addressing PII Data\n",
    "\n",
    "3. Comparing Customer Behavior\n",
    "\n",
    "    3.1. Comparing Customer Behavior in Different Geographic Areas\n",
    "    \n",
    "    3.2. Determine the Difference in Spending between the Different U.S. Regions\n",
    "    \n",
    "4. Creating an Exclusion Flag & Excluding the Low Activity Customers\n",
    "\n",
    "    4.1. Creating an Exclusion Flag\n",
    "    \n",
    "    4.2. Excluding Low Acticity Customers\n",
    "    \n",
    "5. Profiling Customers\n",
    "\n",
    "    5.1. Customer by Age\n",
    "    \n",
    "    5.2. Profiling Customers by Income\n",
    "    \n",
    "    5.3. Profiling Customers by Certain Goods in the 'department_id'\n",
    "    \n",
    "        5.3.1. Profiling Customer by Alcohol Behavior\n",
    "        \n",
    "        5.3.2. Profiling Customer by Pet Ownership\n",
    "        \n",
    "    5.4. Profiling Customers by Number of Dependants & Family Status\n",
    "    \n",
    "6. Creating Visualization\n",
    "\n",
    "    6.1. Creating Bar Chart from the 'region' Variable\n",
    "    \n",
    "    6.2. Creating Bar Chart from the 'Customer Activity' Variable\n",
    "    \n",
    "    6.3. Creating Bar Chart from the 'Age Group' Variable\n",
    "    \n",
    "    6.4. Creating Bar Chart from the 'Income Group' Variable\n",
    "    \n",
    "    6.5. Creating Bar Chart from the 'Alcohol Behavior' Variable\n",
    "    \n",
    "    6.6. Creating Pie Chart from the 'Pet Ownership' Variable\n",
    "    \n",
    "    6.7. Creating Pie Chart from the 'Household' Variable\n",
    "    \n",
    "    6.8. Creating Bar Chart from the 'Busiest Day of the Week' Variable\n",
    "    \n",
    "    6.9. Creating Bar Chart from the 'Order Hour of the Day' Variable\n",
    "    \n",
    "    6.10. Creating Bar Chart from the 'Age Group' & 'Household' Variables\n",
    "    \n",
    "7. Creating A Customer-Profile Aggregation for Usage Frequency and Expenditure\n",
    "\n",
    "    7.1. Creating the Region Frequency Aggregation\n",
    "    \n",
    "    7.2. Creating the Customer Activity Expenditure Aggregation\n",
    "    \n",
    "    7.3. Creating the Age Group Expenditure Aggregation\n",
    "    \n",
    "    7.4. Creating the Income Group Expenditure Aggregation\n",
    "    \n",
    "    7.5. Creating the Alcohol Behavior Frequency Aggregation\n",
    "    \n",
    "    7.6. Creating the Pet Ownership Frequency Aggregation\n",
    "    \n",
    "    7.7. Creating the Household Expenditure Aggregation\n",
    "    \n",
    "8. Comparing Customer Profiles with Region and Departments\n",
    "\n",
    "    8.1. Comparing Income Group with Department\n",
    "    \n",
    "    8.2. Comparing Age Group with Department\n",
    "    \n",
    "    8.3. Comparing Alcohol Behavior with Region\n",
    "    \n",
    "    8.4. Comparing Pet Ownership with Region\n",
    "    \n",
    "    8.5. Comparing Household with Region\n",
    "    \n",
    "    8.6. Comparing the Busiest Period of Day with Department\n",
    "    \n",
    "9. Exporting the Final Data Set    \n"
   ]
  },
  {
   "cell_type": "markdown",
   "id": "3983d26e",
   "metadata": {},
   "source": [
    "## Importing Libraries"
   ]
  },
  {
   "cell_type": "code",
   "execution_count": 1,
   "id": "460ba992",
   "metadata": {},
   "outputs": [],
   "source": [
    "#Import libraries\n",
    "import pandas as pd\n",
    "import numpy as np\n",
    "import os\n",
    "import matplotlib.pyplot as plt\n",
    "import seaborn as sns\n",
    "import scipy"
   ]
  },
  {
   "cell_type": "markdown",
   "id": "6787358f",
   "metadata": {},
   "source": [
    "## 1. Importing Data"
   ]
  },
  {
   "cell_type": "code",
   "execution_count": 2,
   "id": "650e6fd0",
   "metadata": {},
   "outputs": [],
   "source": [
    "#Create Path\n",
    "path = r'C:\\Users\\praha\\OneDrive\\Documents\\Python\\02-2023 Instachart Basket Analysis'"
   ]
  },
  {
   "cell_type": "code",
   "execution_count": 3,
   "id": "a5d8b052",
   "metadata": {},
   "outputs": [],
   "source": [
    "#import dataframe 'customers_orders_products_merged.pkl'\n",
    "df = pd.read_pickle(os.path.join(path, '02. Data', 'Prepared Data', 'customers_orders_products_merged.pkl'))"
   ]
  },
  {
   "cell_type": "code",
   "execution_count": 4,
   "id": "5878bb8c",
   "metadata": {},
   "outputs": [],
   "source": [
    "#import dataframe'departments_wrangled'csv\n",
    "df_dept = pd.read_csv(os.path.join(path, '02. Data', 'Prepared Data', 'departments_wrangled.csv'), index_col = False)"
   ]
  },
  {
   "cell_type": "markdown",
   "id": "fea0d054",
   "metadata": {},
   "source": [
    "## 2. Addressing PII Data"
   ]
  },
  {
   "cell_type": "code",
   "execution_count": 5,
   "id": "1de40638",
   "metadata": {},
   "outputs": [
    {
     "data": {
      "text/plain": [
       "(30629741, 35)"
      ]
     },
     "execution_count": 5,
     "metadata": {},
     "output_type": "execute_result"
    }
   ],
   "source": [
    "#check df size\n",
    "df.shape"
   ]
  },
  {
   "cell_type": "code",
   "execution_count": 6,
   "id": "7bc2503b",
   "metadata": {},
   "outputs": [
    {
     "data": {
      "text/plain": [
       "Index(['user_id', 'first_name', 'surname', 'gender', 'state', 'age',\n",
       "       'date_joined', 'n_dependants', 'fam_status', 'income', 'product_id',\n",
       "       'product_name', 'aisle_id', 'department_id', 'prices', 'order_id',\n",
       "       'order_number', 'orders_day_of_week', 'order_hour_of_day',\n",
       "       'days_since_prior_order', 'add_to_cart_order', 'reordered', '_merge',\n",
       "       'price_label', 'busiest_day', 'busiest_days', 'busiest_period_of_day',\n",
       "       'max_order', 'loyalty_flag', 'max_prices', 'max_price', 'Spending_flag',\n",
       "       'average_price', 'regularity_of_users_ordering_behavior',\n",
       "       'frequency_flag'],\n",
       "      dtype='object')"
      ]
     },
     "execution_count": 6,
     "metadata": {},
     "output_type": "execute_result"
    }
   ],
   "source": [
    "#check df column's name\n",
    "df.columns"
   ]
  },
  {
   "cell_type": "markdown",
   "id": "213e1994",
   "metadata": {},
   "source": [
    "Analysis: \"first_name\" and \"surname\" columns are the part of PII data. Deleting columns is the one of the best ways to address PII data."
   ]
  },
  {
   "cell_type": "code",
   "execution_count": 7,
   "id": "2b702dd0",
   "metadata": {},
   "outputs": [],
   "source": [
    "#delete 'first_name' & 'surname' column\n",
    "df = df.drop(columns = ['first_name', 'surname'])"
   ]
  },
  {
   "cell_type": "code",
   "execution_count": 8,
   "id": "983de35d",
   "metadata": {},
   "outputs": [
    {
     "data": {
      "text/plain": [
       "(30629741, 33)"
      ]
     },
     "execution_count": 8,
     "metadata": {},
     "output_type": "execute_result"
    }
   ],
   "source": [
    "#check the result\n",
    "df.shape"
   ]
  },
  {
   "cell_type": "code",
   "execution_count": 9,
   "id": "ff78fc6e",
   "metadata": {},
   "outputs": [
    {
     "data": {
      "text/plain": [
       "Index(['user_id', 'gender', 'state', 'age', 'date_joined', 'n_dependants',\n",
       "       'fam_status', 'income', 'product_id', 'product_name', 'aisle_id',\n",
       "       'department_id', 'prices', 'order_id', 'order_number',\n",
       "       'orders_day_of_week', 'order_hour_of_day', 'days_since_prior_order',\n",
       "       'add_to_cart_order', 'reordered', '_merge', 'price_label',\n",
       "       'busiest_day', 'busiest_days', 'busiest_period_of_day', 'max_order',\n",
       "       'loyalty_flag', 'max_prices', 'max_price', 'Spending_flag',\n",
       "       'average_price', 'regularity_of_users_ordering_behavior',\n",
       "       'frequency_flag'],\n",
       "      dtype='object')"
      ]
     },
     "execution_count": 9,
     "metadata": {},
     "output_type": "execute_result"
    }
   ],
   "source": [
    "df.columns"
   ]
  },
  {
   "cell_type": "markdown",
   "id": "f9e5d936",
   "metadata": {},
   "source": [
    "Analysis: 'first_name' & 'surname' columns have been deleted"
   ]
  },
  {
   "cell_type": "code",
   "execution_count": 10,
   "id": "73637a57",
   "metadata": {},
   "outputs": [
    {
     "data": {
      "text/html": [
       "<div>\n",
       "<style scoped>\n",
       "    .dataframe tbody tr th:only-of-type {\n",
       "        vertical-align: middle;\n",
       "    }\n",
       "\n",
       "    .dataframe tbody tr th {\n",
       "        vertical-align: top;\n",
       "    }\n",
       "\n",
       "    .dataframe thead th {\n",
       "        text-align: right;\n",
       "    }\n",
       "</style>\n",
       "<table border=\"1\" class=\"dataframe\">\n",
       "  <thead>\n",
       "    <tr style=\"text-align: right;\">\n",
       "      <th></th>\n",
       "      <th>user_id</th>\n",
       "      <th>gender</th>\n",
       "      <th>state</th>\n",
       "      <th>age</th>\n",
       "      <th>date_joined</th>\n",
       "      <th>n_dependants</th>\n",
       "      <th>fam_status</th>\n",
       "      <th>income</th>\n",
       "      <th>product_id</th>\n",
       "      <th>product_name</th>\n",
       "      <th>...</th>\n",
       "      <th>busiest_days</th>\n",
       "      <th>busiest_period_of_day</th>\n",
       "      <th>max_order</th>\n",
       "      <th>loyalty_flag</th>\n",
       "      <th>max_prices</th>\n",
       "      <th>max_price</th>\n",
       "      <th>Spending_flag</th>\n",
       "      <th>average_price</th>\n",
       "      <th>regularity_of_users_ordering_behavior</th>\n",
       "      <th>frequency_flag</th>\n",
       "    </tr>\n",
       "  </thead>\n",
       "  <tbody>\n",
       "    <tr>\n",
       "      <th>0</th>\n",
       "      <td>26711</td>\n",
       "      <td>Female</td>\n",
       "      <td>Missouri</td>\n",
       "      <td>48</td>\n",
       "      <td>1/1/2017</td>\n",
       "      <td>3</td>\n",
       "      <td>married</td>\n",
       "      <td>165665</td>\n",
       "      <td>196</td>\n",
       "      <td>Soda</td>\n",
       "      <td>...</td>\n",
       "      <td>Busiest days</td>\n",
       "      <td>Average Orders</td>\n",
       "      <td>8</td>\n",
       "      <td>New customer</td>\n",
       "      <td>12.6</td>\n",
       "      <td>7.988889</td>\n",
       "      <td>Low spender</td>\n",
       "      <td>7.988889</td>\n",
       "      <td>19.0</td>\n",
       "      <td>Regular customer</td>\n",
       "    </tr>\n",
       "    <tr>\n",
       "      <th>1</th>\n",
       "      <td>26711</td>\n",
       "      <td>Female</td>\n",
       "      <td>Missouri</td>\n",
       "      <td>48</td>\n",
       "      <td>1/1/2017</td>\n",
       "      <td>3</td>\n",
       "      <td>married</td>\n",
       "      <td>165665</td>\n",
       "      <td>196</td>\n",
       "      <td>Soda</td>\n",
       "      <td>...</td>\n",
       "      <td>regularly busy</td>\n",
       "      <td>Most Orders</td>\n",
       "      <td>8</td>\n",
       "      <td>New customer</td>\n",
       "      <td>12.6</td>\n",
       "      <td>7.988889</td>\n",
       "      <td>Low spender</td>\n",
       "      <td>7.988889</td>\n",
       "      <td>19.0</td>\n",
       "      <td>Regular customer</td>\n",
       "    </tr>\n",
       "    <tr>\n",
       "      <th>2</th>\n",
       "      <td>26711</td>\n",
       "      <td>Female</td>\n",
       "      <td>Missouri</td>\n",
       "      <td>48</td>\n",
       "      <td>1/1/2017</td>\n",
       "      <td>3</td>\n",
       "      <td>married</td>\n",
       "      <td>165665</td>\n",
       "      <td>196</td>\n",
       "      <td>Soda</td>\n",
       "      <td>...</td>\n",
       "      <td>Busiest days</td>\n",
       "      <td>Most Orders</td>\n",
       "      <td>8</td>\n",
       "      <td>New customer</td>\n",
       "      <td>12.6</td>\n",
       "      <td>7.988889</td>\n",
       "      <td>Low spender</td>\n",
       "      <td>7.988889</td>\n",
       "      <td>19.0</td>\n",
       "      <td>Regular customer</td>\n",
       "    </tr>\n",
       "    <tr>\n",
       "      <th>3</th>\n",
       "      <td>26711</td>\n",
       "      <td>Female</td>\n",
       "      <td>Missouri</td>\n",
       "      <td>48</td>\n",
       "      <td>1/1/2017</td>\n",
       "      <td>3</td>\n",
       "      <td>married</td>\n",
       "      <td>165665</td>\n",
       "      <td>6184</td>\n",
       "      <td>Clementines</td>\n",
       "      <td>...</td>\n",
       "      <td>regularly busy</td>\n",
       "      <td>Average Orders</td>\n",
       "      <td>8</td>\n",
       "      <td>New customer</td>\n",
       "      <td>12.6</td>\n",
       "      <td>7.988889</td>\n",
       "      <td>Low spender</td>\n",
       "      <td>7.988889</td>\n",
       "      <td>19.0</td>\n",
       "      <td>Regular customer</td>\n",
       "    </tr>\n",
       "    <tr>\n",
       "      <th>4</th>\n",
       "      <td>26711</td>\n",
       "      <td>Female</td>\n",
       "      <td>Missouri</td>\n",
       "      <td>48</td>\n",
       "      <td>1/1/2017</td>\n",
       "      <td>3</td>\n",
       "      <td>married</td>\n",
       "      <td>165665</td>\n",
       "      <td>6184</td>\n",
       "      <td>Clementines</td>\n",
       "      <td>...</td>\n",
       "      <td>Slowest days</td>\n",
       "      <td>Most Orders</td>\n",
       "      <td>8</td>\n",
       "      <td>New customer</td>\n",
       "      <td>12.6</td>\n",
       "      <td>7.988889</td>\n",
       "      <td>Low spender</td>\n",
       "      <td>7.988889</td>\n",
       "      <td>19.0</td>\n",
       "      <td>Regular customer</td>\n",
       "    </tr>\n",
       "  </tbody>\n",
       "</table>\n",
       "<p>5 rows × 33 columns</p>\n",
       "</div>"
      ],
      "text/plain": [
       "   user_id  gender     state  age date_joined  n_dependants fam_status  \\\n",
       "0    26711  Female  Missouri   48    1/1/2017             3    married   \n",
       "1    26711  Female  Missouri   48    1/1/2017             3    married   \n",
       "2    26711  Female  Missouri   48    1/1/2017             3    married   \n",
       "3    26711  Female  Missouri   48    1/1/2017             3    married   \n",
       "4    26711  Female  Missouri   48    1/1/2017             3    married   \n",
       "\n",
       "   income  product_id product_name  ...    busiest_days  \\\n",
       "0  165665         196         Soda  ...    Busiest days   \n",
       "1  165665         196         Soda  ...  regularly busy   \n",
       "2  165665         196         Soda  ...    Busiest days   \n",
       "3  165665        6184  Clementines  ...  regularly busy   \n",
       "4  165665        6184  Clementines  ...    Slowest days   \n",
       "\n",
       "   busiest_period_of_day  max_order  loyalty_flag  max_prices  max_price  \\\n",
       "0         Average Orders          8  New customer        12.6   7.988889   \n",
       "1            Most Orders          8  New customer        12.6   7.988889   \n",
       "2            Most Orders          8  New customer        12.6   7.988889   \n",
       "3         Average Orders          8  New customer        12.6   7.988889   \n",
       "4            Most Orders          8  New customer        12.6   7.988889   \n",
       "\n",
       "   Spending_flag  average_price  regularity_of_users_ordering_behavior  \\\n",
       "0    Low spender       7.988889                                   19.0   \n",
       "1    Low spender       7.988889                                   19.0   \n",
       "2    Low spender       7.988889                                   19.0   \n",
       "3    Low spender       7.988889                                   19.0   \n",
       "4    Low spender       7.988889                                   19.0   \n",
       "\n",
       "     frequency_flag  \n",
       "0  Regular customer  \n",
       "1  Regular customer  \n",
       "2  Regular customer  \n",
       "3  Regular customer  \n",
       "4  Regular customer  \n",
       "\n",
       "[5 rows x 33 columns]"
      ]
     },
     "execution_count": 10,
     "metadata": {},
     "output_type": "execute_result"
    }
   ],
   "source": [
    "df.head()"
   ]
  },
  {
   "cell_type": "markdown",
   "id": "80fdfebb",
   "metadata": {},
   "source": [
    "## 3. Comparing Customer Behavior"
   ]
  },
  {
   "cell_type": "markdown",
   "id": "3c992814",
   "metadata": {},
   "source": [
    "### 3.1. Comparing Customer Behavior in Different Geographic Areas"
   ]
  },
  {
   "cell_type": "code",
   "execution_count": 11,
   "id": "f5bbaf87",
   "metadata": {},
   "outputs": [
    {
     "data": {
      "text/plain": [
       "California              630308\n",
       "Pennsylvania            629833\n",
       "Rhode Island            621341\n",
       "Georgia                 620618\n",
       "Arizona                 619810\n",
       "North Carolina          618268\n",
       "Oklahoma                615354\n",
       "Minnesota               613699\n",
       "New Mexico              611481\n",
       "Maine                   610309\n",
       "Alaska                  610279\n",
       "Wyoming                 609764\n",
       "Massachusetts           608964\n",
       "Arkansas                608035\n",
       "Mississippi             607362\n",
       "Texas                   605608\n",
       "North Dakota            605317\n",
       "Nevada                  605083\n",
       "Missouri                604383\n",
       "Virginia                603563\n",
       "South Dakota            602744\n",
       "Kansas                  602396\n",
       "Louisiana               602384\n",
       "Alabama                 602310\n",
       "South Carolina          602049\n",
       "New York                601409\n",
       "Washington              601352\n",
       "Montana                 600639\n",
       "Michigan                600593\n",
       "Kentucky                600323\n",
       "Colorado                599764\n",
       "Oregon                  599340\n",
       "Delaware                598973\n",
       "Indiana                 595942\n",
       "Hawaii                  593851\n",
       "Ohio                    593507\n",
       "Connecticut             593375\n",
       "Illinois                591762\n",
       "Iowa                    591579\n",
       "New Jersey              591386\n",
       "Maryland                589991\n",
       "Florida                 589376\n",
       "Nebraska                589136\n",
       "Wisconsin               585866\n",
       "New Hampshire           585187\n",
       "Tennessee               581885\n",
       "Vermont                 580221\n",
       "West Virginia           578118\n",
       "Utah                    577919\n",
       "District of Columbia    574765\n",
       "Idaho                   572220\n",
       "Name: state, dtype: int64"
      ]
     },
     "execution_count": 11,
     "metadata": {},
     "output_type": "execute_result"
    }
   ],
   "source": [
    "#check the frequency of 'state' column\n",
    "df['state'].value_counts(dropna = False)"
   ]
  },
  {
   "cell_type": "code",
   "execution_count": 12,
   "id": "dceaf7b2",
   "metadata": {},
   "outputs": [],
   "source": [
    "# Create lists to map states to regions\n",
    "region_NE = ['Maine', 'New Hampshire', 'Vermont', 'Massachusetts', 'Rhode Island', 'Connecticut', 'New York', 'Pennsylvania', 'New Jersey']\n",
    "region_MW = ['Wisconsin', 'Michigan', 'Illinois', 'Indiana', 'Ohio', 'North Dakota', 'South Dakota', 'Nebraska', 'Kansas', 'Minnesota', 'Iowa', 'Missouri']\n",
    "region_S = ['Delaware', 'Maryland', 'District of Columbia', 'Virginia', 'West Virginia', 'North Carolina', 'South Carolina', 'Georgia', 'Florida', 'Kentucky', 'Tennessee', 'Mississippi', 'Alabama', 'Oklahoma', 'Texas', 'Arkansas', 'Louisiana']\n",
    "region_W = ['Idaho', 'Montana', 'Wyoming', 'Nevada', 'Utah', 'Colorado', 'Arizona', 'New Mexico', 'Alaska', 'Washington', 'Oregon', 'California', 'Hawaii']"
   ]
  },
  {
   "cell_type": "code",
   "execution_count": 13,
   "id": "c3922238",
   "metadata": {},
   "outputs": [],
   "source": [
    "# Derive 'region' column with loc[]\n",
    "\n",
    "df.loc[df['state'].isin(region_NE), 'region'] = 'Northeast'\n",
    "df.loc[df['state'].isin(region_MW), 'region'] = 'Midwest'\n",
    "df.loc[df['state'].isin(region_S), 'region'] = 'South'\n",
    "df.loc[df['state'].isin(region_W), 'region'] = 'West'"
   ]
  },
  {
   "cell_type": "code",
   "execution_count": 14,
   "id": "8a382795",
   "metadata": {},
   "outputs": [
    {
     "data": {
      "text/plain": [
       "South        10198982\n",
       "West          7831810\n",
       "Midwest       7176924\n",
       "Northeast     5422025\n",
       "Name: region, dtype: int64"
      ]
     },
     "execution_count": 14,
     "metadata": {},
     "output_type": "execute_result"
    }
   ],
   "source": [
    "#check the frequency of 'region' column\n",
    "df['region'].value_counts(dropna = False)"
   ]
  },
  {
   "cell_type": "code",
   "execution_count": 15,
   "id": "6545b34b",
   "metadata": {},
   "outputs": [
    {
     "data": {
      "text/plain": [
       "(30629741, 34)"
      ]
     },
     "execution_count": 15,
     "metadata": {},
     "output_type": "execute_result"
    }
   ],
   "source": [
    "#check the output\n",
    "df.shape"
   ]
  },
  {
   "cell_type": "markdown",
   "id": "78e0973b",
   "metadata": {},
   "source": [
    "## 3.2. Determine the Difference in Spending between the Different U.S. Regions"
   ]
  },
  {
   "cell_type": "code",
   "execution_count": 16,
   "id": "6a6396e9",
   "metadata": {},
   "outputs": [],
   "source": [
    "#Create a crosstab between 'region' and Spending_flag'\n",
    "df_crosstab = pd.crosstab(df['region'], df['Spending_flag'], dropna = False)"
   ]
  },
  {
   "cell_type": "code",
   "execution_count": 17,
   "id": "5c9e1a6d",
   "metadata": {},
   "outputs": [
    {
     "data": {
      "text/html": [
       "<div>\n",
       "<style scoped>\n",
       "    .dataframe tbody tr th:only-of-type {\n",
       "        vertical-align: middle;\n",
       "    }\n",
       "\n",
       "    .dataframe tbody tr th {\n",
       "        vertical-align: top;\n",
       "    }\n",
       "\n",
       "    .dataframe thead th {\n",
       "        text-align: right;\n",
       "    }\n",
       "</style>\n",
       "<table border=\"1\" class=\"dataframe\">\n",
       "  <thead>\n",
       "    <tr style=\"text-align: right;\">\n",
       "      <th>Spending_flag</th>\n",
       "      <th>High spender</th>\n",
       "      <th>Low spender</th>\n",
       "    </tr>\n",
       "    <tr>\n",
       "      <th>region</th>\n",
       "      <th></th>\n",
       "      <th></th>\n",
       "    </tr>\n",
       "  </thead>\n",
       "  <tbody>\n",
       "    <tr>\n",
       "      <th>Midwest</th>\n",
       "      <td>149817</td>\n",
       "      <td>7027107</td>\n",
       "    </tr>\n",
       "    <tr>\n",
       "      <th>Northeast</th>\n",
       "      <td>101420</td>\n",
       "      <td>5320605</td>\n",
       "    </tr>\n",
       "    <tr>\n",
       "      <th>South</th>\n",
       "      <td>196523</td>\n",
       "      <td>10002459</td>\n",
       "    </tr>\n",
       "    <tr>\n",
       "      <th>West</th>\n",
       "      <td>147803</td>\n",
       "      <td>7684007</td>\n",
       "    </tr>\n",
       "  </tbody>\n",
       "</table>\n",
       "</div>"
      ],
      "text/plain": [
       "Spending_flag  High spender  Low spender\n",
       "region                                  \n",
       "Midwest              149817      7027107\n",
       "Northeast            101420      5320605\n",
       "South                196523     10002459\n",
       "West                 147803      7684007"
      ]
     },
     "execution_count": 17,
     "metadata": {},
     "output_type": "execute_result"
    }
   ],
   "source": [
    "df_crosstab"
   ]
  },
  {
   "cell_type": "code",
   "execution_count": 18,
   "id": "09d3aa4c",
   "metadata": {},
   "outputs": [],
   "source": [
    "#Create a crosstab between 'region' and 'Spending_flag' by Percentage\n",
    "df_crosstab_pct = pd.crosstab(df['region'], df['Spending_flag'], normalize='index') * 100"
   ]
  },
  {
   "cell_type": "code",
   "execution_count": 19,
   "id": "6cae124c",
   "metadata": {},
   "outputs": [
    {
     "data": {
      "text/html": [
       "<div>\n",
       "<style scoped>\n",
       "    .dataframe tbody tr th:only-of-type {\n",
       "        vertical-align: middle;\n",
       "    }\n",
       "\n",
       "    .dataframe tbody tr th {\n",
       "        vertical-align: top;\n",
       "    }\n",
       "\n",
       "    .dataframe thead th {\n",
       "        text-align: right;\n",
       "    }\n",
       "</style>\n",
       "<table border=\"1\" class=\"dataframe\">\n",
       "  <thead>\n",
       "    <tr style=\"text-align: right;\">\n",
       "      <th>Spending_flag</th>\n",
       "      <th>High spender</th>\n",
       "      <th>Low spender</th>\n",
       "    </tr>\n",
       "    <tr>\n",
       "      <th>region</th>\n",
       "      <th></th>\n",
       "      <th></th>\n",
       "    </tr>\n",
       "  </thead>\n",
       "  <tbody>\n",
       "    <tr>\n",
       "      <th>Midwest</th>\n",
       "      <td>2.087482</td>\n",
       "      <td>97.912518</td>\n",
       "    </tr>\n",
       "    <tr>\n",
       "      <th>Northeast</th>\n",
       "      <td>1.870519</td>\n",
       "      <td>98.129481</td>\n",
       "    </tr>\n",
       "    <tr>\n",
       "      <th>South</th>\n",
       "      <td>1.926888</td>\n",
       "      <td>98.073112</td>\n",
       "    </tr>\n",
       "    <tr>\n",
       "      <th>West</th>\n",
       "      <td>1.887214</td>\n",
       "      <td>98.112786</td>\n",
       "    </tr>\n",
       "  </tbody>\n",
       "</table>\n",
       "</div>"
      ],
      "text/plain": [
       "Spending_flag  High spender  Low spender\n",
       "region                                  \n",
       "Midwest            2.087482    97.912518\n",
       "Northeast          1.870519    98.129481\n",
       "South              1.926888    98.073112\n",
       "West               1.887214    98.112786"
      ]
     },
     "execution_count": 19,
     "metadata": {},
     "output_type": "execute_result"
    }
   ],
   "source": [
    "df_crosstab_pct"
   ]
  },
  {
   "cell_type": "markdown",
   "id": "c26e15df",
   "metadata": {},
   "source": [
    "Analysis: The south region is the highest region with high spender based on the number of customer, whereas the midwest region is the highest region with high spender based on percentage of customer."
   ]
  },
  {
   "cell_type": "markdown",
   "id": "a6051464",
   "metadata": {},
   "source": [
    "## 4. Creating an Exclusion Flag & Excluding the low activity customers"
   ]
  },
  {
   "cell_type": "markdown",
   "id": "88a46f50",
   "metadata": {},
   "source": [
    "### 4.1. Creating an Exclusion Flag"
   ]
  },
  {
   "cell_type": "code",
   "execution_count": 20,
   "id": "deb70572",
   "metadata": {},
   "outputs": [
    {
     "data": {
      "text/plain": [
       "1     1962703\n",
       "3     1936828\n",
       "2     1934448\n",
       "4     1719662\n",
       "5     1539425\n",
       "       ...   \n",
       "95      13700\n",
       "96      12995\n",
       "97      12522\n",
       "98      12078\n",
       "99      11708\n",
       "Name: order_number, Length: 99, dtype: int64"
      ]
     },
     "execution_count": 20,
     "metadata": {},
     "output_type": "execute_result"
    }
   ],
   "source": [
    "#check the frequency of 'state' column\n",
    "df['order_number'].value_counts(dropna = False)"
   ]
  },
  {
   "cell_type": "code",
   "execution_count": 21,
   "id": "085e1942",
   "metadata": {},
   "outputs": [
    {
     "data": {
      "text/plain": [
       "(30629741, 34)"
      ]
     },
     "execution_count": 21,
     "metadata": {},
     "output_type": "execute_result"
    }
   ],
   "source": [
    "#check dataframe size\n",
    "df.shape"
   ]
  },
  {
   "cell_type": "code",
   "execution_count": 22,
   "id": "7c321117",
   "metadata": {},
   "outputs": [],
   "source": [
    "#derive 'exclusion_flag' column with loc() \n",
    "df.loc[df['order_number'] < 5, 'exclusion_flag'] = 'low_activity_customer'"
   ]
  },
  {
   "cell_type": "code",
   "execution_count": 23,
   "id": "62844334",
   "metadata": {},
   "outputs": [],
   "source": [
    "df.loc[df['order_number'] >= 5, 'exclusion_flag'] = 'high_activity_customer'"
   ]
  },
  {
   "cell_type": "code",
   "execution_count": 24,
   "id": "69557266",
   "metadata": {},
   "outputs": [
    {
     "data": {
      "text/plain": [
       "(30629741, 35)"
      ]
     },
     "execution_count": 24,
     "metadata": {},
     "output_type": "execute_result"
    }
   ],
   "source": [
    "#check the result\n",
    "df.shape"
   ]
  },
  {
   "cell_type": "code",
   "execution_count": 25,
   "id": "651dd91f",
   "metadata": {},
   "outputs": [
    {
     "data": {
      "text/plain": [
       "high_activity_customer    23076100\n",
       "low_activity_customer      7553641\n",
       "Name: exclusion_flag, dtype: int64"
      ]
     },
     "execution_count": 25,
     "metadata": {},
     "output_type": "execute_result"
    }
   ],
   "source": [
    "#check the frequency of 'exclusion_flag' column\n",
    "df['exclusion_flag'].value_counts(dropna = False)"
   ]
  },
  {
   "cell_type": "markdown",
   "id": "b874c524",
   "metadata": {},
   "source": [
    "### 4.2. Excluding Low Activity Customers"
   ]
  },
  {
   "cell_type": "code",
   "execution_count": 26,
   "id": "a3596792",
   "metadata": {},
   "outputs": [],
   "source": [
    "# Create a subset which excludes low_activity customers\n",
    "df_high_activity = df[df['exclusion_flag'] == 'high_activity_customer']"
   ]
  },
  {
   "cell_type": "code",
   "execution_count": 27,
   "id": "b0d7d67e",
   "metadata": {},
   "outputs": [
    {
     "data": {
      "text/plain": [
       "high_activity_customer    23076100\n",
       "Name: exclusion_flag, dtype: int64"
      ]
     },
     "execution_count": 27,
     "metadata": {},
     "output_type": "execute_result"
    }
   ],
   "source": [
    "#check the frequency of 'exclusion_flag' column\n",
    "df_high_activity['exclusion_flag'].value_counts(dropna = False)"
   ]
  },
  {
   "cell_type": "code",
   "execution_count": 28,
   "id": "81dcc95c",
   "metadata": {},
   "outputs": [
    {
     "data": {
      "text/plain": [
       "(23076100, 35)"
      ]
     },
     "execution_count": 28,
     "metadata": {},
     "output_type": "execute_result"
    }
   ],
   "source": [
    "#check the result\n",
    "df_high_activity.shape"
   ]
  },
  {
   "cell_type": "code",
   "execution_count": 29,
   "id": "fa9104e4",
   "metadata": {},
   "outputs": [],
   "source": [
    "#Export the subset\n",
    "#df_high_activity.to_pickle(os.path.join(path, '02. Data', 'Prepared Data', 'Data_merged_high_activity.pkl'))"
   ]
  },
  {
   "cell_type": "markdown",
   "id": "429c52f6",
   "metadata": {},
   "source": [
    "## 5. Profiling Customers"
   ]
  },
  {
   "cell_type": "markdown",
   "id": "b718937e",
   "metadata": {},
   "source": [
    "### 5.1. Profiling Customers by Age"
   ]
  },
  {
   "cell_type": "code",
   "execution_count": 30,
   "id": "e30f5ab3",
   "metadata": {},
   "outputs": [],
   "source": [
    "#assign high activity customers as observed customers\n",
    "df_customers = df_high_activity"
   ]
  },
  {
   "cell_type": "code",
   "execution_count": 31,
   "id": "21efd3f8",
   "metadata": {},
   "outputs": [
    {
     "data": {
      "text/plain": [
       "(23076100, 35)"
      ]
     },
     "execution_count": 31,
     "metadata": {},
     "output_type": "execute_result"
    }
   ],
   "source": [
    "#check dataframe size\n",
    "df_customers.shape"
   ]
  },
  {
   "cell_type": "code",
   "execution_count": 32,
   "id": "8a0588b5",
   "metadata": {},
   "outputs": [
    {
     "data": {
      "text/plain": [
       "count    2.307610e+07\n",
       "mean     4.946644e+01\n",
       "std      1.847818e+01\n",
       "min      1.800000e+01\n",
       "25%      3.400000e+01\n",
       "50%      4.900000e+01\n",
       "75%      6.500000e+01\n",
       "max      8.100000e+01\n",
       "Name: age, dtype: float64"
      ]
     },
     "execution_count": 32,
     "metadata": {},
     "output_type": "execute_result"
    }
   ],
   "source": [
    "#check descriptive statistics for 'Age' column\n",
    "df_customers['age'].describe()"
   ]
  },
  {
   "cell_type": "markdown",
   "id": "721e289f",
   "metadata": {},
   "source": [
    "The age range of customers is between 18 and 81. Therefore, the age of customers can be grouped into:\n",
    "\n",
    "Young Adults = 18 - 39; \n",
    "\n",
    "Middle-Aged Adults = 40 - 59; and\n",
    "\n",
    "Old Adults >= 60"
   ]
  },
  {
   "cell_type": "code",
   "execution_count": 33,
   "id": "4328c2db",
   "metadata": {},
   "outputs": [
    {
     "name": "stderr",
     "output_type": "stream",
     "text": [
      "C:\\Users\\praha\\AppData\\Local\\Temp\\ipykernel_5464\\1251691085.py:2: SettingWithCopyWarning: \n",
      "A value is trying to be set on a copy of a slice from a DataFrame.\n",
      "Try using .loc[row_indexer,col_indexer] = value instead\n",
      "\n",
      "See the caveats in the documentation: https://pandas.pydata.org/pandas-docs/stable/user_guide/indexing.html#returning-a-view-versus-a-copy\n",
      "  df_customers.loc[df_customers['age'] <= 39, 'age_group'] = 'Young Adults'\n"
     ]
    }
   ],
   "source": [
    "#derive 'age_group' column with loc()\n",
    "df_customers.loc[df_customers['age'] <= 39, 'age_group'] = 'Young Adults'"
   ]
  },
  {
   "cell_type": "code",
   "execution_count": 34,
   "id": "e96b56c1",
   "metadata": {},
   "outputs": [],
   "source": [
    "df_customers.loc[(df_customers['age'] >= 40) & (df_customers['age'] <= 59), 'age_group'] = 'Middle-Aged Adults'"
   ]
  },
  {
   "cell_type": "code",
   "execution_count": 35,
   "id": "6d3b0e0b",
   "metadata": {},
   "outputs": [],
   "source": [
    "df_customers.loc[df_customers['age'] >= 60, 'age_group'] = 'Old Adults'"
   ]
  },
  {
   "cell_type": "code",
   "execution_count": 36,
   "id": "a0ce8ddf",
   "metadata": {},
   "outputs": [
    {
     "data": {
      "text/plain": [
       "Young Adults          7952082\n",
       "Old Adults            7876519\n",
       "Middle-Aged Adults    7247499\n",
       "Name: age_group, dtype: int64"
      ]
     },
     "execution_count": 36,
     "metadata": {},
     "output_type": "execute_result"
    }
   ],
   "source": [
    "#check the frequency of the 'age_group' column\n",
    "df_customers['age_group'].value_counts(dropna = False)"
   ]
  },
  {
   "cell_type": "code",
   "execution_count": 37,
   "id": "2903481c",
   "metadata": {},
   "outputs": [
    {
     "data": {
      "text/plain": [
       "(23076100, 36)"
      ]
     },
     "execution_count": 37,
     "metadata": {},
     "output_type": "execute_result"
    }
   ],
   "source": [
    "#check output size\n",
    "df_customers.shape"
   ]
  },
  {
   "cell_type": "code",
   "execution_count": 38,
   "id": "37899aba",
   "metadata": {},
   "outputs": [
    {
     "data": {
      "text/plain": [
       "Index(['user_id', 'gender', 'state', 'age', 'date_joined', 'n_dependants',\n",
       "       'fam_status', 'income', 'product_id', 'product_name', 'aisle_id',\n",
       "       'department_id', 'prices', 'order_id', 'order_number',\n",
       "       'orders_day_of_week', 'order_hour_of_day', 'days_since_prior_order',\n",
       "       'add_to_cart_order', 'reordered', '_merge', 'price_label',\n",
       "       'busiest_day', 'busiest_days', 'busiest_period_of_day', 'max_order',\n",
       "       'loyalty_flag', 'max_prices', 'max_price', 'Spending_flag',\n",
       "       'average_price', 'regularity_of_users_ordering_behavior',\n",
       "       'frequency_flag', 'region', 'exclusion_flag', 'age_group'],\n",
       "      dtype='object')"
      ]
     },
     "execution_count": 38,
     "metadata": {},
     "output_type": "execute_result"
    }
   ],
   "source": [
    "df_customers.columns"
   ]
  },
  {
   "cell_type": "markdown",
   "id": "65c91032",
   "metadata": {},
   "source": [
    "### 5.2. Profilling Customers by Income"
   ]
  },
  {
   "cell_type": "code",
   "execution_count": 39,
   "id": "49460b1a",
   "metadata": {},
   "outputs": [
    {
     "data": {
      "text/plain": [
       "count    2.307610e+07\n",
       "mean     9.991669e+04\n",
       "std      4.333860e+04\n",
       "min      2.590300e+04\n",
       "25%      6.757900e+04\n",
       "50%      9.682600e+04\n",
       "75%      1.282150e+05\n",
       "max      5.939010e+05\n",
       "Name: income, dtype: float64"
      ]
     },
     "execution_count": 39,
     "metadata": {},
     "output_type": "execute_result"
    }
   ],
   "source": [
    "#check descriptive statistics for 'income' column\n",
    "df_customers['income'].describe()"
   ]
  },
  {
   "cell_type": "markdown",
   "id": "805dd9c9",
   "metadata": {},
   "source": [
    "The income range of customers is between 25.903 and 593.901. Therefore, according to Few Study, the customer income range can be grouped into: \n",
    "\n",
    "Low Income : < 52.200; \n",
    "\n",
    "Middle Income : 52.200 - 156.000; and \n",
    "\n",
    "Upper Income : >= 156.000"
   ]
  },
  {
   "cell_type": "code",
   "execution_count": 40,
   "id": "f8c15d14",
   "metadata": {},
   "outputs": [
    {
     "name": "stderr",
     "output_type": "stream",
     "text": [
      "C:\\Users\\praha\\AppData\\Local\\Temp\\ipykernel_5464\\1290197034.py:2: SettingWithCopyWarning: \n",
      "A value is trying to be set on a copy of a slice from a DataFrame.\n",
      "Try using .loc[row_indexer,col_indexer] = value instead\n",
      "\n",
      "See the caveats in the documentation: https://pandas.pydata.org/pandas-docs/stable/user_guide/indexing.html#returning-a-view-versus-a-copy\n",
      "  df_customers.loc[df_customers['income'] < 52200, 'income_group'] = 'Low Income'\n"
     ]
    }
   ],
   "source": [
    "#derive 'income_group' column with loc()\n",
    "df_customers.loc[df_customers['income'] < 52200, 'income_group'] = 'Low Income'"
   ]
  },
  {
   "cell_type": "code",
   "execution_count": 41,
   "id": "7b9cbcf0",
   "metadata": {},
   "outputs": [],
   "source": [
    "df_customers.loc[(df_customers['income'] >= 52200) & (df_customers['income'] < 156000), 'income_group'] = 'Middle Income'"
   ]
  },
  {
   "cell_type": "code",
   "execution_count": 42,
   "id": "853320cd",
   "metadata": {},
   "outputs": [],
   "source": [
    "df_customers.loc[df_customers['income'] >= 156000, 'income_group'] = 'High Income'"
   ]
  },
  {
   "cell_type": "code",
   "execution_count": 43,
   "id": "d86bab39",
   "metadata": {},
   "outputs": [
    {
     "data": {
      "text/plain": [
       "Middle Income    18270884\n",
       "Low Income        2682328\n",
       "High Income       2122888\n",
       "Name: income_group, dtype: int64"
      ]
     },
     "execution_count": 43,
     "metadata": {},
     "output_type": "execute_result"
    }
   ],
   "source": [
    "#check the frequency of the 'income_group' column\n",
    "df_customers['income_group'].value_counts(dropna = False)"
   ]
  },
  {
   "cell_type": "code",
   "execution_count": 44,
   "id": "b1d8a2c9",
   "metadata": {},
   "outputs": [
    {
     "data": {
      "text/plain": [
       "(23076100, 37)"
      ]
     },
     "execution_count": 44,
     "metadata": {},
     "output_type": "execute_result"
    }
   ],
   "source": [
    "#check output size\n",
    "df_customers.shape"
   ]
  },
  {
   "cell_type": "markdown",
   "id": "1ed80cbf",
   "metadata": {},
   "source": [
    "### 5.3. Profilling Customers by Certain goods in the 'department_id'"
   ]
  },
  {
   "cell_type": "code",
   "execution_count": 45,
   "id": "1b678c08",
   "metadata": {},
   "outputs": [
    {
     "data": {
      "text/html": [
       "<div>\n",
       "<style scoped>\n",
       "    .dataframe tbody tr th:only-of-type {\n",
       "        vertical-align: middle;\n",
       "    }\n",
       "\n",
       "    .dataframe tbody tr th {\n",
       "        vertical-align: top;\n",
       "    }\n",
       "\n",
       "    .dataframe thead th {\n",
       "        text-align: right;\n",
       "    }\n",
       "</style>\n",
       "<table border=\"1\" class=\"dataframe\">\n",
       "  <thead>\n",
       "    <tr style=\"text-align: right;\">\n",
       "      <th></th>\n",
       "      <th>Unnamed: 0</th>\n",
       "      <th>department</th>\n",
       "    </tr>\n",
       "  </thead>\n",
       "  <tbody>\n",
       "    <tr>\n",
       "      <th>0</th>\n",
       "      <td>1</td>\n",
       "      <td>frozen</td>\n",
       "    </tr>\n",
       "    <tr>\n",
       "      <th>1</th>\n",
       "      <td>2</td>\n",
       "      <td>other</td>\n",
       "    </tr>\n",
       "    <tr>\n",
       "      <th>2</th>\n",
       "      <td>3</td>\n",
       "      <td>bakery</td>\n",
       "    </tr>\n",
       "    <tr>\n",
       "      <th>3</th>\n",
       "      <td>4</td>\n",
       "      <td>produce</td>\n",
       "    </tr>\n",
       "    <tr>\n",
       "      <th>4</th>\n",
       "      <td>5</td>\n",
       "      <td>alcohol</td>\n",
       "    </tr>\n",
       "    <tr>\n",
       "      <th>5</th>\n",
       "      <td>6</td>\n",
       "      <td>international</td>\n",
       "    </tr>\n",
       "    <tr>\n",
       "      <th>6</th>\n",
       "      <td>7</td>\n",
       "      <td>beverages</td>\n",
       "    </tr>\n",
       "    <tr>\n",
       "      <th>7</th>\n",
       "      <td>8</td>\n",
       "      <td>pets</td>\n",
       "    </tr>\n",
       "    <tr>\n",
       "      <th>8</th>\n",
       "      <td>9</td>\n",
       "      <td>dry goods pasta</td>\n",
       "    </tr>\n",
       "    <tr>\n",
       "      <th>9</th>\n",
       "      <td>10</td>\n",
       "      <td>bulk</td>\n",
       "    </tr>\n",
       "    <tr>\n",
       "      <th>10</th>\n",
       "      <td>11</td>\n",
       "      <td>personal care</td>\n",
       "    </tr>\n",
       "    <tr>\n",
       "      <th>11</th>\n",
       "      <td>12</td>\n",
       "      <td>meat seafood</td>\n",
       "    </tr>\n",
       "    <tr>\n",
       "      <th>12</th>\n",
       "      <td>13</td>\n",
       "      <td>pantry</td>\n",
       "    </tr>\n",
       "    <tr>\n",
       "      <th>13</th>\n",
       "      <td>14</td>\n",
       "      <td>breakfast</td>\n",
       "    </tr>\n",
       "    <tr>\n",
       "      <th>14</th>\n",
       "      <td>15</td>\n",
       "      <td>canned goods</td>\n",
       "    </tr>\n",
       "    <tr>\n",
       "      <th>15</th>\n",
       "      <td>16</td>\n",
       "      <td>dairy eggs</td>\n",
       "    </tr>\n",
       "    <tr>\n",
       "      <th>16</th>\n",
       "      <td>17</td>\n",
       "      <td>household</td>\n",
       "    </tr>\n",
       "    <tr>\n",
       "      <th>17</th>\n",
       "      <td>18</td>\n",
       "      <td>babies</td>\n",
       "    </tr>\n",
       "    <tr>\n",
       "      <th>18</th>\n",
       "      <td>19</td>\n",
       "      <td>snacks</td>\n",
       "    </tr>\n",
       "    <tr>\n",
       "      <th>19</th>\n",
       "      <td>20</td>\n",
       "      <td>deli</td>\n",
       "    </tr>\n",
       "    <tr>\n",
       "      <th>20</th>\n",
       "      <td>21</td>\n",
       "      <td>missing</td>\n",
       "    </tr>\n",
       "  </tbody>\n",
       "</table>\n",
       "</div>"
      ],
      "text/plain": [
       "    Unnamed: 0       department\n",
       "0            1           frozen\n",
       "1            2            other\n",
       "2            3           bakery\n",
       "3            4          produce\n",
       "4            5          alcohol\n",
       "5            6    international\n",
       "6            7        beverages\n",
       "7            8             pets\n",
       "8            9  dry goods pasta\n",
       "9           10             bulk\n",
       "10          11    personal care\n",
       "11          12     meat seafood\n",
       "12          13           pantry\n",
       "13          14        breakfast\n",
       "14          15     canned goods\n",
       "15          16       dairy eggs\n",
       "16          17        household\n",
       "17          18           babies\n",
       "18          19           snacks\n",
       "19          20             deli\n",
       "20          21          missing"
      ]
     },
     "execution_count": 45,
     "metadata": {},
     "output_type": "execute_result"
    }
   ],
   "source": [
    "#call 'df_dept' column\n",
    "df_dept"
   ]
  },
  {
   "cell_type": "code",
   "execution_count": 46,
   "id": "1cc3226f",
   "metadata": {},
   "outputs": [],
   "source": [
    "# Assign index column as 'department_id'\n",
    "\n",
    "df_dept.rename(columns= {\"Unnamed: 0\": \"department_id\"}, inplace=True)"
   ]
  },
  {
   "cell_type": "code",
   "execution_count": 47,
   "id": "c253563a",
   "metadata": {},
   "outputs": [],
   "source": [
    "# create a dictionary using zip and a dictionary comprehension\n",
    "dept_dict = {k: v for k, v in zip(df_dept['department_id'], df_dept['department'])}"
   ]
  },
  {
   "cell_type": "code",
   "execution_count": 48,
   "id": "4bd56968",
   "metadata": {},
   "outputs": [
    {
     "data": {
      "text/plain": [
       "{1: 'frozen',\n",
       " 2: 'other',\n",
       " 3: 'bakery',\n",
       " 4: 'produce',\n",
       " 5: 'alcohol',\n",
       " 6: 'international',\n",
       " 7: 'beverages',\n",
       " 8: 'pets',\n",
       " 9: 'dry goods pasta',\n",
       " 10: 'bulk',\n",
       " 11: 'personal care',\n",
       " 12: 'meat seafood',\n",
       " 13: 'pantry',\n",
       " 14: 'breakfast',\n",
       " 15: 'canned goods',\n",
       " 16: 'dairy eggs',\n",
       " 17: 'household',\n",
       " 18: 'babies',\n",
       " 19: 'snacks',\n",
       " 20: 'deli',\n",
       " 21: 'missing'}"
      ]
     },
     "execution_count": 48,
     "metadata": {},
     "output_type": "execute_result"
    }
   ],
   "source": [
    "dept_dict"
   ]
  },
  {
   "cell_type": "code",
   "execution_count": 49,
   "id": "70ca01fc",
   "metadata": {},
   "outputs": [
    {
     "name": "stderr",
     "output_type": "stream",
     "text": [
      "C:\\Users\\praha\\AppData\\Local\\Temp\\ipykernel_5464\\2167874648.py:3: SettingWithCopyWarning: \n",
      "A value is trying to be set on a copy of a slice from a DataFrame.\n",
      "Try using .loc[row_indexer,col_indexer] = value instead\n",
      "\n",
      "See the caveats in the documentation: https://pandas.pydata.org/pandas-docs/stable/user_guide/indexing.html#returning-a-view-versus-a-copy\n",
      "  df_customers['department'] = df_customers['department_id'].map(dept_dict)\n"
     ]
    }
   ],
   "source": [
    "# derive 'department' column into 'df_customers' dataframe using map() function\n",
    "\n",
    "df_customers['department'] = df_customers['department_id'].map(dept_dict)"
   ]
  },
  {
   "cell_type": "code",
   "execution_count": 50,
   "id": "4fc3b349",
   "metadata": {},
   "outputs": [
    {
     "data": {
      "text/plain": [
       "produce            6834944\n",
       "dairy eggs         3892801\n",
       "snacks             2067470\n",
       "beverages          1924512\n",
       "frozen             1538641\n",
       "pantry             1307873\n",
       "bakery              835178\n",
       "canned goods        744749\n",
       "deli                740043\n",
       "dry goods pasta     599624\n",
       "household           508510\n",
       "meat seafood        496155\n",
       "breakfast           494849\n",
       "babies              317126\n",
       "personal care       309279\n",
       "international       187201\n",
       "alcohol             103071\n",
       "pets                 68151\n",
       "missing              54473\n",
       "bulk                 26004\n",
       "other                25446\n",
       "Name: department, dtype: int64"
      ]
     },
     "execution_count": 50,
     "metadata": {},
     "output_type": "execute_result"
    }
   ],
   "source": [
    "#check the frequency of 'department' column\n",
    "df_customers['department'].value_counts(dropna = False)"
   ]
  },
  {
   "cell_type": "code",
   "execution_count": 51,
   "id": "5ad2417b",
   "metadata": {},
   "outputs": [
    {
     "data": {
      "text/plain": [
       "(23076100, 38)"
      ]
     },
     "execution_count": 51,
     "metadata": {},
     "output_type": "execute_result"
    }
   ],
   "source": [
    "#check dataframe size\n",
    "df_customers.shape"
   ]
  },
  {
   "cell_type": "code",
   "execution_count": 52,
   "id": "f5a21bcb",
   "metadata": {},
   "outputs": [
    {
     "data": {
      "text/plain": [
       "Index(['user_id', 'gender', 'state', 'age', 'date_joined', 'n_dependants',\n",
       "       'fam_status', 'income', 'product_id', 'product_name', 'aisle_id',\n",
       "       'department_id', 'prices', 'order_id', 'order_number',\n",
       "       'orders_day_of_week', 'order_hour_of_day', 'days_since_prior_order',\n",
       "       'add_to_cart_order', 'reordered', '_merge', 'price_label',\n",
       "       'busiest_day', 'busiest_days', 'busiest_period_of_day', 'max_order',\n",
       "       'loyalty_flag', 'max_prices', 'max_price', 'Spending_flag',\n",
       "       'average_price', 'regularity_of_users_ordering_behavior',\n",
       "       'frequency_flag', 'region', 'exclusion_flag', 'age_group',\n",
       "       'income_group', 'department'],\n",
       "      dtype='object')"
      ]
     },
     "execution_count": 52,
     "metadata": {},
     "output_type": "execute_result"
    }
   ],
   "source": [
    "df_customers.columns"
   ]
  },
  {
   "cell_type": "markdown",
   "id": "edc82126",
   "metadata": {},
   "source": [
    "#### 5.3.1. Profilling Customer by Alcohol Behavior"
   ]
  },
  {
   "cell_type": "code",
   "execution_count": 53,
   "id": "f9856268",
   "metadata": {
    "scrolled": true
   },
   "outputs": [
    {
     "name": "stderr",
     "output_type": "stream",
     "text": [
      "C:\\Users\\praha\\AppData\\Local\\Temp\\ipykernel_5464\\2613900474.py:2: SettingWithCopyWarning: \n",
      "A value is trying to be set on a copy of a slice from a DataFrame.\n",
      "Try using .loc[row_indexer,col_indexer] = value instead\n",
      "\n",
      "See the caveats in the documentation: https://pandas.pydata.org/pandas-docs/stable/user_guide/indexing.html#returning-a-view-versus-a-copy\n",
      "  df_customers.loc[df_customers['department'] == 'alcohol', 'alcohol_behavior'] = 'alcoholic customers'\n"
     ]
    }
   ],
   "source": [
    "#derive 'alcohol_behavior' column using loc() function\n",
    "df_customers.loc[df_customers['department'] == 'alcohol', 'alcohol_behavior'] = 'alcoholic customers'\n",
    "df_customers.loc[df_customers['department'] != 'alcohol', 'alcohol_behavior'] = 'non-alcoholic customers'"
   ]
  },
  {
   "cell_type": "code",
   "execution_count": 54,
   "id": "49a625f5",
   "metadata": {},
   "outputs": [
    {
     "data": {
      "text/plain": [
       "non-alcoholic customers    22973029\n",
       "alcoholic customers          103071\n",
       "Name: alcohol_behavior, dtype: int64"
      ]
     },
     "execution_count": 54,
     "metadata": {},
     "output_type": "execute_result"
    }
   ],
   "source": [
    "df_customers['alcohol_behavior'].value_counts(dropna=False)"
   ]
  },
  {
   "cell_type": "code",
   "execution_count": 55,
   "id": "a80c449c",
   "metadata": {},
   "outputs": [
    {
     "data": {
      "text/plain": [
       "(23076100, 39)"
      ]
     },
     "execution_count": 55,
     "metadata": {},
     "output_type": "execute_result"
    }
   ],
   "source": [
    "#check dataframe size\n",
    "df_customers.shape"
   ]
  },
  {
   "cell_type": "markdown",
   "id": "5e7c5d73",
   "metadata": {},
   "source": [
    "#### 5.3.2. Profilling Customer by Pet Ownership"
   ]
  },
  {
   "cell_type": "code",
   "execution_count": 56,
   "id": "765cbdee",
   "metadata": {},
   "outputs": [
    {
     "name": "stderr",
     "output_type": "stream",
     "text": [
      "C:\\Users\\praha\\AppData\\Local\\Temp\\ipykernel_5464\\2152833140.py:2: SettingWithCopyWarning: \n",
      "A value is trying to be set on a copy of a slice from a DataFrame.\n",
      "Try using .loc[row_indexer,col_indexer] = value instead\n",
      "\n",
      "See the caveats in the documentation: https://pandas.pydata.org/pandas-docs/stable/user_guide/indexing.html#returning-a-view-versus-a-copy\n",
      "  df_customers.loc[df_customers['department'] == 'pets', 'pet_ownership'] = 'pet owner'\n"
     ]
    }
   ],
   "source": [
    "#derive 'pet_ownership' column using loc() function\n",
    "df_customers.loc[df_customers['department'] == 'pets', 'pet_ownership'] = 'pet owner'\n",
    "df_customers.loc[df_customers['department'] != 'pets', 'pet_ownership'] = 'non-pet owner'"
   ]
  },
  {
   "cell_type": "code",
   "execution_count": 57,
   "id": "799b14f0",
   "metadata": {},
   "outputs": [
    {
     "data": {
      "text/plain": [
       "non-pet owner    23007949\n",
       "pet owner           68151\n",
       "Name: pet_ownership, dtype: int64"
      ]
     },
     "execution_count": 57,
     "metadata": {},
     "output_type": "execute_result"
    }
   ],
   "source": [
    "df_customers['pet_ownership'].value_counts(dropna=False)"
   ]
  },
  {
   "cell_type": "code",
   "execution_count": 58,
   "id": "b45a6010",
   "metadata": {},
   "outputs": [
    {
     "data": {
      "text/plain": [
       "(23076100, 40)"
      ]
     },
     "execution_count": 58,
     "metadata": {},
     "output_type": "execute_result"
    }
   ],
   "source": [
    "#check dataframe size\n",
    "df_customers.shape"
   ]
  },
  {
   "cell_type": "markdown",
   "id": "b3b4e86b",
   "metadata": {},
   "source": [
    "### 5.4. Profilling Customers by Number of Dependants & Family Status"
   ]
  },
  {
   "cell_type": "code",
   "execution_count": 59,
   "id": "9118fcc1",
   "metadata": {},
   "outputs": [
    {
     "data": {
      "text/plain": [
       "3    5789340\n",
       "2    5768245\n",
       "0    5766770\n",
       "1    5751745\n",
       "Name: n_dependants, dtype: int64"
      ]
     },
     "execution_count": 59,
     "metadata": {},
     "output_type": "execute_result"
    }
   ],
   "source": [
    "#check the frequency of 'n_dependats' column\n",
    "df_customers['n_dependants'].value_counts(dropna=False)"
   ]
  },
  {
   "cell_type": "code",
   "execution_count": 60,
   "id": "e962d95e",
   "metadata": {},
   "outputs": [],
   "source": [
    "#explore data with making crosstab between 'n_dependants' & 'fam_status' columns\n",
    "df_cross_deps_fam = pd.crosstab(df_customers['n_dependants'],df_customers['fam_status'],dropna = False)"
   ]
  },
  {
   "cell_type": "code",
   "execution_count": 61,
   "id": "00de749a",
   "metadata": {},
   "outputs": [
    {
     "data": {
      "text/html": [
       "<div>\n",
       "<style scoped>\n",
       "    .dataframe tbody tr th:only-of-type {\n",
       "        vertical-align: middle;\n",
       "    }\n",
       "\n",
       "    .dataframe tbody tr th {\n",
       "        vertical-align: top;\n",
       "    }\n",
       "\n",
       "    .dataframe thead th {\n",
       "        text-align: right;\n",
       "    }\n",
       "</style>\n",
       "<table border=\"1\" class=\"dataframe\">\n",
       "  <thead>\n",
       "    <tr style=\"text-align: right;\">\n",
       "      <th>fam_status</th>\n",
       "      <th>divorced/widowed</th>\n",
       "      <th>living with parents and siblings</th>\n",
       "      <th>married</th>\n",
       "      <th>single</th>\n",
       "    </tr>\n",
       "    <tr>\n",
       "      <th>n_dependants</th>\n",
       "      <th></th>\n",
       "      <th></th>\n",
       "      <th></th>\n",
       "      <th></th>\n",
       "    </tr>\n",
       "  </thead>\n",
       "  <tbody>\n",
       "    <tr>\n",
       "      <th>0</th>\n",
       "      <td>1984561</td>\n",
       "      <td>0</td>\n",
       "      <td>0</td>\n",
       "      <td>3782209</td>\n",
       "    </tr>\n",
       "    <tr>\n",
       "      <th>1</th>\n",
       "      <td>0</td>\n",
       "      <td>387917</td>\n",
       "      <td>5363828</td>\n",
       "      <td>0</td>\n",
       "    </tr>\n",
       "    <tr>\n",
       "      <th>2</th>\n",
       "      <td>0</td>\n",
       "      <td>359959</td>\n",
       "      <td>5408286</td>\n",
       "      <td>0</td>\n",
       "    </tr>\n",
       "    <tr>\n",
       "      <th>3</th>\n",
       "      <td>0</td>\n",
       "      <td>363769</td>\n",
       "      <td>5425571</td>\n",
       "      <td>0</td>\n",
       "    </tr>\n",
       "  </tbody>\n",
       "</table>\n",
       "</div>"
      ],
      "text/plain": [
       "fam_status    divorced/widowed  living with parents and siblings  married  \\\n",
       "n_dependants                                                                \n",
       "0                      1984561                                 0        0   \n",
       "1                            0                            387917  5363828   \n",
       "2                            0                            359959  5408286   \n",
       "3                            0                            363769  5425571   \n",
       "\n",
       "fam_status     single  \n",
       "n_dependants           \n",
       "0             3782209  \n",
       "1                   0  \n",
       "2                   0  \n",
       "3                   0  "
      ]
     },
     "execution_count": 61,
     "metadata": {},
     "output_type": "execute_result"
    }
   ],
   "source": [
    "df_cross_deps_fam"
   ]
  },
  {
   "cell_type": "markdown",
   "id": "3299d6fb",
   "metadata": {},
   "source": [
    "According to the ILO (International Labour Organization), The types of households are classified as follows:\n",
    "- One person: These households have only one member who is listed as the “household head” under the household relationship variable.\n",
    "- Couple without children: These households have two members. One member is listed as the “household head” and the other is listed as the “spouse of head”, or other indicator of union with the head, under the household relationship variable.\n",
    "- Couple with children: These households have three or more members. One member is listed as the “household head”, one member is listed as the “spouse of head” and at least one member is listed as a “child of head”. In these households, a child is only defined by their relationship to the head of household (i.e. being a child here is regardless of age). There can also be multiple children. These households necessarily have a household head, their spouse (or partner) and children.\n",
    "- Lone parent: These households have two or more members. One member is listed as the “household head” and at least one member is listed as a “child of head”. In these households a child is only defined by their relationship to the head of household (i.e. being a child here is regardless of age). There can also be multiple children. These households always only have a head of household and the children of the head.\n",
    "- Extended family: These households have two or more members. One member is listed as the “household head” and at least one member is listed as a relative of the household head other than “spouse of head” or “child of head”. These households may contain heads, spouses, children of the head, and any other familial relative. However, they must not include any extra-familial members."
   ]
  },
  {
   "cell_type": "code",
   "execution_count": 62,
   "id": "c4ef8380",
   "metadata": {},
   "outputs": [
    {
     "name": "stderr",
     "output_type": "stream",
     "text": [
      "C:\\Users\\praha\\AppData\\Local\\Temp\\ipykernel_5464\\1075960763.py:2: SettingWithCopyWarning: \n",
      "A value is trying to be set on a copy of a slice from a DataFrame.\n",
      "Try using .loc[row_indexer,col_indexer] = value instead\n",
      "\n",
      "See the caveats in the documentation: https://pandas.pydata.org/pandas-docs/stable/user_guide/indexing.html#returning-a-view-versus-a-copy\n",
      "  df_customers.loc[(df_customers['fam_status'] == 'divorced/widowed')|(df_customers['fam_status'] == 'single'), 'household'] = 'One Person'\n"
     ]
    }
   ],
   "source": [
    "#derive new variable namely 'household' using loc() function\n",
    "df_customers.loc[(df_customers['fam_status'] == 'divorced/widowed')|(df_customers['fam_status'] == 'single'), 'household'] = 'One Person'"
   ]
  },
  {
   "cell_type": "code",
   "execution_count": 63,
   "id": "f5c8032c",
   "metadata": {
    "scrolled": true
   },
   "outputs": [],
   "source": [
    "df_customers.loc[(df_customers['fam_status'] == 'married') & (df_customers['n_dependants'] == 1), 'household'] = 'Couple without Children'"
   ]
  },
  {
   "cell_type": "code",
   "execution_count": 64,
   "id": "571ff842",
   "metadata": {},
   "outputs": [],
   "source": [
    "df_customers.loc[(df_customers['fam_status'] == 'married') & (df_customers['n_dependants'] > 1), 'household'] = 'Couple with children'"
   ]
  },
  {
   "cell_type": "code",
   "execution_count": 65,
   "id": "06021353",
   "metadata": {},
   "outputs": [],
   "source": [
    "df_customers.loc[(df_customers['fam_status'] == 'living with parents and siblings'), 'household'] = 'Extended Family'"
   ]
  },
  {
   "cell_type": "code",
   "execution_count": 66,
   "id": "4c6e79e4",
   "metadata": {},
   "outputs": [
    {
     "data": {
      "text/plain": [
       "Couple with children       10833857\n",
       "One Person                  5766770\n",
       "Couple without Children     5363828\n",
       "Extended Family             1111645\n",
       "Name: household, dtype: int64"
      ]
     },
     "execution_count": 66,
     "metadata": {},
     "output_type": "execute_result"
    }
   ],
   "source": [
    "# check the frequency of 'household' column\n",
    "df_customers['household'].value_counts(dropna=False)"
   ]
  },
  {
   "cell_type": "code",
   "execution_count": 67,
   "id": "00c2bc3b",
   "metadata": {},
   "outputs": [
    {
     "data": {
      "text/plain": [
       "(23076100, 41)"
      ]
     },
     "execution_count": 67,
     "metadata": {},
     "output_type": "execute_result"
    }
   ],
   "source": [
    "#check the size of dataframe\n",
    "df_customers.shape"
   ]
  },
  {
   "cell_type": "code",
   "execution_count": 68,
   "id": "7a599cc0",
   "metadata": {},
   "outputs": [
    {
     "data": {
      "text/plain": [
       "Index(['user_id', 'gender', 'state', 'age', 'date_joined', 'n_dependants',\n",
       "       'fam_status', 'income', 'product_id', 'product_name', 'aisle_id',\n",
       "       'department_id', 'prices', 'order_id', 'order_number',\n",
       "       'orders_day_of_week', 'order_hour_of_day', 'days_since_prior_order',\n",
       "       'add_to_cart_order', 'reordered', '_merge', 'price_label',\n",
       "       'busiest_day', 'busiest_days', 'busiest_period_of_day', 'max_order',\n",
       "       'loyalty_flag', 'max_prices', 'max_price', 'Spending_flag',\n",
       "       'average_price', 'regularity_of_users_ordering_behavior',\n",
       "       'frequency_flag', 'region', 'exclusion_flag', 'age_group',\n",
       "       'income_group', 'department', 'alcohol_behavior', 'pet_ownership',\n",
       "       'household'],\n",
       "      dtype='object')"
      ]
     },
     "execution_count": 68,
     "metadata": {},
     "output_type": "execute_result"
    }
   ],
   "source": [
    "df_customers.columns"
   ]
  },
  {
   "cell_type": "markdown",
   "id": "371f2803",
   "metadata": {},
   "source": [
    "## 6. Creating Visualization"
   ]
  },
  {
   "cell_type": "markdown",
   "id": "0cd462f4",
   "metadata": {},
   "source": [
    "### 6.1. Creating Bar Charts from the 'region' variable"
   ]
  },
  {
   "cell_type": "code",
   "execution_count": 165,
   "id": "c6e9237f",
   "metadata": {},
   "outputs": [
    {
     "data": {
      "image/png": "[encoded data removed]",
      "text/plain": [
       "<Figure size 640x480 with 1 Axes>"
      ]
     },
     "metadata": {},
     "output_type": "display_data"
    }
   ],
   "source": [
    "#create bar charts from 'region' column\n",
    "bar_region = df['region'].value_counts().sort_index().plot.bar()\n",
    "plt.title('The Frequency of Orders in Every Region', fontsize = 18, pad=20)\n",
    "plt.ylabel('Frequency (in millions)', fontsize = 12)\n",
    "plt.xlabel('Region',  fontsize = 12)\n",
    "\n",
    "#save the bar chart from the region variable\n",
    "bar_region.figure.savefig(os.path.join(path, '04. Analysis', 'Visualizations', 'bar_region.png'))"
   ]
  },
  {
   "cell_type": "markdown",
   "id": "c7abf717",
   "metadata": {},
   "source": [
    "### 6.2. Creating Bar Charts from the 'Customer Activity' Variable"
   ]
  },
  {
   "cell_type": "code",
   "execution_count": 166,
   "id": "9e5460f0",
   "metadata": {},
   "outputs": [
    {
     "data": {
      "image/png": "[encoded data removed]",
      "text/plain": [
       "<Figure size 640x480 with 1 Axes>"
      ]
     },
     "metadata": {},
     "output_type": "display_data"
    }
   ],
   "source": [
    "#create bar charts from 'exclusion_flag' column\n",
    "bar_activity = df['exclusion_flag'].value_counts().sort_index().plot.bar()\n",
    "plt.title('The Bar Chart of IC Customer Activities', fontsize = 18, pad=20)\n",
    "plt.ylabel('Frequency (in millions)', fontsize = 12)\n",
    "plt.xlabel('Customer Activities',  fontsize = 12)\n",
    "\n",
    "#save the bar chart from the customer activity variable\n",
    "bar_activity.figure.savefig(os.path.join(path, '04. Analysis', 'Visualizations', 'bar_activity.png'))"
   ]
  },
  {
   "cell_type": "markdown",
   "id": "894273f7",
   "metadata": {},
   "source": [
    "### 6.3. Creating Bar Charts from the 'age group' variable"
   ]
  },
  {
   "cell_type": "code",
   "execution_count": 167,
   "id": "bddef5d1",
   "metadata": {},
   "outputs": [
    {
     "data": {
      "image/png": "[encoded data removed]",
      "text/plain": [
       "<Figure size 640x480 with 1 Axes>"
      ]
     },
     "metadata": {},
     "output_type": "display_data"
    }
   ],
   "source": [
    "#create bar charts from 'age_group' column\n",
    "bar_age_group = df_customers['age_group'].value_counts().sort_index().plot.bar()\n",
    "plt.title('The Bar Chart of IC Customer Age Groups', fontsize = 18, pad=20)\n",
    "plt.ylabel('Frequency (in millions)', fontsize = 12)\n",
    "plt.xlabel('Age Groups',  fontsize = 12)\n",
    "\n",
    "#save the bar chart from the age group variable\n",
    "bar_age_group.figure.savefig(os.path.join(path, '04. Analysis', 'Visualizations', 'bar_age_group.png'))"
   ]
  },
  {
   "cell_type": "markdown",
   "id": "0dca649f",
   "metadata": {},
   "source": [
    "### 6.4. Creating Bar Charts from the 'income group' variable"
   ]
  },
  {
   "cell_type": "code",
   "execution_count": 168,
   "id": "1bed2b5f",
   "metadata": {},
   "outputs": [
    {
     "data": {
      "image/png": "[encoded data removed]",
      "text/plain": [
       "<Figure size 640x480 with 1 Axes>"
      ]
     },
     "metadata": {},
     "output_type": "display_data"
    }
   ],
   "source": [
    "#create bar charts from 'income_group' column\n",
    "bar_income_group = df_customers['income_group'].value_counts().sort_index().plot.bar()\n",
    "plt.title('The Bar Chart of IC Customer Income Groups', fontsize = 18, pad=20)\n",
    "plt.ylabel('Frequency (in millions)', fontsize = 12)\n",
    "plt.xlabel('Income Groups',  fontsize = 12)\n",
    "\n",
    "#save the bar chart from the income group variable\n",
    "bar_income_group.figure.savefig(os.path.join(path, '04. Analysis', 'Visualizations', 'bar_income_group.png'))"
   ]
  },
  {
   "cell_type": "markdown",
   "id": "9507da80",
   "metadata": {},
   "source": [
    "### 6.5. Creating Pie Chart from 'Alcohol Behavior' Variable"
   ]
  },
  {
   "cell_type": "code",
   "execution_count": 73,
   "id": "88602a26",
   "metadata": {},
   "outputs": [
    {
     "data": {
      "text/plain": [
       "non-alcoholic customers    22973029\n",
       "alcoholic customers          103071\n",
       "Name: alcohol_behavior, dtype: int64"
      ]
     },
     "execution_count": 73,
     "metadata": {},
     "output_type": "execute_result"
    }
   ],
   "source": [
    "df_customers['alcohol_behavior'].value_counts(dropna=False)"
   ]
  },
  {
   "cell_type": "code",
   "execution_count": 74,
   "id": "d53086e5",
   "metadata": {},
   "outputs": [],
   "source": [
    "# count values of each category\n",
    "alcohol_counts = df_customers['alcohol_behavior'].value_counts(dropna=False)"
   ]
  },
  {
   "cell_type": "code",
   "execution_count": 148,
   "id": "f86cb240",
   "metadata": {},
   "outputs": [
    {
     "data": {
      "image/png": "[encoded data removed]",
      "text/plain": [
       "<Figure size 640x480 with 1 Axes>"
      ]
     },
     "metadata": {},
     "output_type": "display_data"
    }
   ],
   "source": [
    "# create pie chart\n",
    "plt.pie(alcohol_counts, labels=alcohol_counts.index, autopct='%1.1f%%')\n",
    "plt.axis('equal')\n",
    "plt.title('Alcohol behavior')\n",
    "plt.legend(title='Categories')\n",
    "\n",
    "# save the pie chart as an image\n",
    "plt.savefig(os.path.join(path, '04. Analysis', 'Visualizations', 'pie_alcohol_behavior.png'))"
   ]
  },
  {
   "cell_type": "markdown",
   "id": "9dd314ce",
   "metadata": {},
   "source": [
    "### 6.6. Creating Pie Chart from 'Pet Ownership' Variable"
   ]
  },
  {
   "cell_type": "code",
   "execution_count": 76,
   "id": "83cdc198",
   "metadata": {},
   "outputs": [],
   "source": [
    "# count values of each category\n",
    "counts_pets = df_customers['pet_ownership'].value_counts(dropna=False)"
   ]
  },
  {
   "cell_type": "code",
   "execution_count": 77,
   "id": "ffe7ba36",
   "metadata": {},
   "outputs": [],
   "source": [
    "# set colors for each category\n",
    "colors = ['#ff9999', '#66b3ff']"
   ]
  },
  {
   "cell_type": "code",
   "execution_count": 149,
   "id": "7a8cbb12",
   "metadata": {},
   "outputs": [
    {
     "data": {
      "image/png": "[encoded data removed]",
      "text/plain": [
       "<Figure size 640x480 with 1 Axes>"
      ]
     },
     "metadata": {},
     "output_type": "display_data"
    }
   ],
   "source": [
    "# create pie chart\n",
    "plt.pie(counts_pets.values, labels=counts_pets.index, colors=colors, autopct='%1.1f%%')\n",
    "plt.title('Pet Ownership of Customers')\n",
    "plt.legend(title='Categories')\n",
    "\n",
    "# save the pie chart as an image\n",
    "plt.savefig(os.path.join(path, '04. Analysis', 'Visualizations', 'pie_pet_ownership.png'))"
   ]
  },
  {
   "cell_type": "markdown",
   "id": "c7ba1d76",
   "metadata": {},
   "source": [
    "### 6.7. Creating Pie Chart from 'Household' Variable"
   ]
  },
  {
   "cell_type": "code",
   "execution_count": 79,
   "id": "7daff2cd",
   "metadata": {},
   "outputs": [],
   "source": [
    "# count values of each category\n",
    "household_counts = df_customers['household'].value_counts(dropna=False)"
   ]
  },
  {
   "cell_type": "code",
   "execution_count": 150,
   "id": "8a00f6e8",
   "metadata": {},
   "outputs": [
    {
     "data": {
      "image/png": "[encoded data removed]",
      "text/plain": [
       "<Figure size 640x480 with 1 Axes>"
      ]
     },
     "metadata": {},
     "output_type": "display_data"
    }
   ],
   "source": [
    "# create pie chart\n",
    "plt.pie(household_counts, labels=household_counts.index, autopct='%1.1f%%')\n",
    "plt.axis('equal')\n",
    "plt.title('Household distribution')\n",
    "plt.legend(title='Categories')\n",
    "\n",
    "# save the pie chart as an image\n",
    "plt.savefig(os.path.join(path, '04. Analysis', 'Visualizations', 'pie_household_distribution.png'))"
   ]
  },
  {
   "cell_type": "markdown",
   "id": "2aef8668",
   "metadata": {},
   "source": [
    "### 6.8. Creating Bar Chart from 'the busiest day of the week' Variable"
   ]
  },
  {
   "cell_type": "code",
   "execution_count": 81,
   "id": "ae795b60",
   "metadata": {},
   "outputs": [
    {
     "data": {
      "text/plain": [
       "0    4350589\n",
       "1    4043994\n",
       "6    3163643\n",
       "5    3040130\n",
       "2    3001398\n",
       "3    2745375\n",
       "4    2730971\n",
       "Name: orders_day_of_week, dtype: int64"
      ]
     },
     "execution_count": 81,
     "metadata": {},
     "output_type": "execute_result"
    }
   ],
   "source": [
    "#check the frequency of the variable\n",
    "df_customers['orders_day_of_week'].value_counts(dropna = False)"
   ]
  },
  {
   "cell_type": "code",
   "execution_count": 82,
   "id": "f27647c1",
   "metadata": {},
   "outputs": [],
   "source": [
    "#make a dictionary\n",
    "day_dict = {0: 'Saturday',\n",
    "           1: 'Sunday',\n",
    "           2: 'Monday',\n",
    "           3: 'Tuesday',\n",
    "           4: 'Wednesday', \n",
    "           5: 'Thursday',\n",
    "           6: 'Friday'}"
   ]
  },
  {
   "cell_type": "code",
   "execution_count": 83,
   "id": "8ace0a16",
   "metadata": {},
   "outputs": [
    {
     "data": {
      "text/plain": [
       "{0: 'Saturday',\n",
       " 1: 'Sunday',\n",
       " 2: 'Monday',\n",
       " 3: 'Tuesday',\n",
       " 4: 'Wednesday',\n",
       " 5: 'Thursday',\n",
       " 6: 'Friday'}"
      ]
     },
     "execution_count": 83,
     "metadata": {},
     "output_type": "execute_result"
    }
   ],
   "source": [
    "day_dict"
   ]
  },
  {
   "cell_type": "code",
   "execution_count": 84,
   "id": "60acd63c",
   "metadata": {},
   "outputs": [
    {
     "name": "stderr",
     "output_type": "stream",
     "text": [
      "C:\\Users\\praha\\AppData\\Local\\Temp\\ipykernel_5464\\3893955840.py:2: SettingWithCopyWarning: \n",
      "A value is trying to be set on a copy of a slice from a DataFrame.\n",
      "Try using .loc[row_indexer,col_indexer] = value instead\n",
      "\n",
      "See the caveats in the documentation: https://pandas.pydata.org/pandas-docs/stable/user_guide/indexing.html#returning-a-view-versus-a-copy\n",
      "  df_customers['orders_week'] = df_customers['orders_day_of_week'].map(day_dict)\n"
     ]
    }
   ],
   "source": [
    "# derive 'orders_week' column into 'df_customers' dataframe using map() function\n",
    "df_customers['orders_week'] = df_customers['orders_day_of_week'].map(day_dict)"
   ]
  },
  {
   "cell_type": "code",
   "execution_count": 85,
   "id": "6048956a",
   "metadata": {},
   "outputs": [
    {
     "data": {
      "text/plain": [
       "Saturday     4350589\n",
       "Sunday       4043994\n",
       "Friday       3163643\n",
       "Thursday     3040130\n",
       "Monday       3001398\n",
       "Tuesday      2745375\n",
       "Wednesday    2730971\n",
       "Name: orders_week, dtype: int64"
      ]
     },
     "execution_count": 85,
     "metadata": {},
     "output_type": "execute_result"
    }
   ],
   "source": [
    "df_customers['orders_week'].value_counts(dropna = False)"
   ]
  },
  {
   "cell_type": "code",
   "execution_count": 151,
   "id": "b6c4217f",
   "metadata": {},
   "outputs": [
    {
     "data": {
      "image/png": "[encoded data removed]",
      "text/plain": [
       "<Figure size 640x480 with 1 Axes>"
      ]
     },
     "metadata": {},
     "output_type": "display_data"
    }
   ],
   "source": [
    "# Define the desired order of days\n",
    "day_order = ['Sunday', 'Monday', 'Tuesday', 'Wednesday', 'Thursday', 'Friday', 'Saturday']\n",
    "\n",
    "# Create a bar chart of the 'orders_week' column, ordered by the desired day order\n",
    "bar_day_week = df_customers['orders_week'].value_counts().reindex(day_order).plot.bar()\n",
    "\n",
    "# Set the chart title and axis labels\n",
    "plt.title('The Bar Chart of The Weekly Orders', fontsize=18, pad=20)\n",
    "plt.ylabel('Frequency (in millions)', fontsize=12)\n",
    "plt.xlabel('Days', fontsize=12)\n",
    "\n",
    "# Save the bar chart as an image\n",
    "bar_day_week.figure.savefig(os.path.join(path, '04. Analysis', 'Visualizations', 'bar_day_week.png'))"
   ]
  },
  {
   "cell_type": "markdown",
   "id": "f9fab542",
   "metadata": {},
   "source": [
    "### 6.9. Creating Bar Chart from 'order_hour_of_day' Variable"
   ]
  },
  {
   "cell_type": "code",
   "execution_count": 87,
   "id": "09651251",
   "metadata": {},
   "outputs": [
    {
     "data": {
      "text/plain": [
       "10    2002195\n",
       "11    1958812\n",
       "14    1908563\n",
       "13    1889503\n",
       "15    1880525\n",
       "12    1852994\n",
       "9     1804761\n",
       "16    1779397\n",
       "17    1450761\n",
       "8     1274991\n",
       "18    1125096\n",
       "19     868890\n",
       "20     684418\n",
       "7      665077\n",
       "21     568641\n",
       "22     450304\n",
       "23     282419\n",
       "6      215544\n",
       "0      151706\n",
       "1       78642\n",
       "5       64362\n",
       "2       46895\n",
       "4       36778\n",
       "3       34826\n",
       "Name: order_hour_of_day, dtype: int64"
      ]
     },
     "execution_count": 87,
     "metadata": {},
     "output_type": "execute_result"
    }
   ],
   "source": [
    "#check the frequency of the variable\n",
    "df_customers['order_hour_of_day'].value_counts(dropna = False)"
   ]
  },
  {
   "cell_type": "code",
   "execution_count": 88,
   "id": "a39e9e06",
   "metadata": {},
   "outputs": [],
   "source": [
    "#make a dictionary\n",
    "hour_dict = {0: '12 a.m.',\n",
    "           1: '1 a.m.',\n",
    "           2: '2 a.m.',\n",
    "           3: '3 a.m.',\n",
    "           4: '4 a.m.', \n",
    "           5: '5 a.m.',\n",
    "           6: '6 a.m.',\n",
    "           7: '7 a.m.',\n",
    "           8: '8 a.m.',\n",
    "           9: '9 a.m.',\n",
    "           10: '10 a.m.',\n",
    "           11: '11 a.m.',\n",
    "           12: '12 p.m.',\n",
    "           13: '1 p.m.',\n",
    "           14: '2 p.m.',\n",
    "           15: '3 p.m.',\n",
    "           16: '4 p.m.',\n",
    "           17: '5 p.m.',\n",
    "           18: '6 p.m.',\n",
    "           19: '7 p.m.',\n",
    "           20: '8 p.m.',\n",
    "           21: '9 p.m.',\n",
    "           22: '10 p.m.',\n",
    "           23: '11 p.m.'}"
   ]
  },
  {
   "cell_type": "code",
   "execution_count": 89,
   "id": "c2937dec",
   "metadata": {},
   "outputs": [
    {
     "data": {
      "text/plain": [
       "{0: '12 a.m.',\n",
       " 1: '1 a.m.',\n",
       " 2: '2 a.m.',\n",
       " 3: '3 a.m.',\n",
       " 4: '4 a.m.',\n",
       " 5: '5 a.m.',\n",
       " 6: '6 a.m.',\n",
       " 7: '7 a.m.',\n",
       " 8: '8 a.m.',\n",
       " 9: '9 a.m.',\n",
       " 10: '10 a.m.',\n",
       " 11: '11 a.m.',\n",
       " 12: '12 p.m.',\n",
       " 13: '1 p.m.',\n",
       " 14: '2 p.m.',\n",
       " 15: '3 p.m.',\n",
       " 16: '4 p.m.',\n",
       " 17: '5 p.m.',\n",
       " 18: '6 p.m.',\n",
       " 19: '7 p.m.',\n",
       " 20: '8 p.m.',\n",
       " 21: '9 p.m.',\n",
       " 22: '10 p.m.',\n",
       " 23: '11 p.m.'}"
      ]
     },
     "execution_count": 89,
     "metadata": {},
     "output_type": "execute_result"
    }
   ],
   "source": [
    "hour_dict"
   ]
  },
  {
   "cell_type": "code",
   "execution_count": 137,
   "id": "b2b65500",
   "metadata": {},
   "outputs": [
    {
     "name": "stderr",
     "output_type": "stream",
     "text": [
      "C:\\Users\\praha\\AppData\\Local\\Temp\\ipykernel_5464\\3539635357.py:2: SettingWithCopyWarning: \n",
      "A value is trying to be set on a copy of a slice from a DataFrame.\n",
      "Try using .loc[row_indexer,col_indexer] = value instead\n",
      "\n",
      "See the caveats in the documentation: https://pandas.pydata.org/pandas-docs/stable/user_guide/indexing.html#returning-a-view-versus-a-copy\n",
      "  df_customers['orders_day'] = df_customers['order_hour_of_day'].map(hour_dict)\n"
     ]
    }
   ],
   "source": [
    "# derive 'orders_day' column into 'df_customers' dataframe using map() function\n",
    "df_customers['orders_day'] = df_customers['order_hour_of_day'].map(hour_dict)"
   ]
  },
  {
   "cell_type": "code",
   "execution_count": 138,
   "id": "3ca10e65",
   "metadata": {},
   "outputs": [
    {
     "data": {
      "text/plain": [
       "10 a.m.    2002195\n",
       "11 a.m.    1958812\n",
       "2 p.m.     1908563\n",
       "1 p.m.     1889503\n",
       "3 p.m.     1880525\n",
       "12 p.m.    1852994\n",
       "9 a.m.     1804761\n",
       "4 p.m.     1779397\n",
       "5 p.m.     1450761\n",
       "8 a.m.     1274991\n",
       "6 p.m.     1125096\n",
       "7 p.m.      868890\n",
       "8 p.m.      684418\n",
       "7 a.m.      665077\n",
       "9 p.m.      568641\n",
       "10 p.m.     450304\n",
       "11 p.m.     282419\n",
       "6 a.m.      215544\n",
       "12 a.m.     151706\n",
       "1 a.m.       78642\n",
       "5 a.m.       64362\n",
       "2 a.m.       46895\n",
       "4 a.m.       36778\n",
       "3 a.m.       34826\n",
       "Name: orders_day, dtype: int64"
      ]
     },
     "execution_count": 138,
     "metadata": {},
     "output_type": "execute_result"
    }
   ],
   "source": [
    "df_customers['orders_day'].value_counts(dropna = False)"
   ]
  },
  {
   "cell_type": "code",
   "execution_count": 153,
   "id": "ae471587",
   "metadata": {},
   "outputs": [
    {
     "data": {
      "image/png": "[encoded data removed]",
      "text/plain": [
       "<Figure size 640x480 with 1 Axes>"
      ]
     },
     "metadata": {},
     "output_type": "display_data"
    }
   ],
   "source": [
    "# Define the desired order of days\n",
    "hour_order = ['12 a.m.','1 a.m.','2 a.m.','3 a.m.','4 a.m.', '5 a.m.','6 a.m.','7 a.m.','8 a.m.','9 a.m.', '10 a.m.','11 a.m.','12 p.m.','1 p.m.',  '2 p.m.', '3 p.m.',  '4 p.m.', '5 p.m.', '6 p.m.', '7 p.m.', '8 p.m.', '9 p.m.',  '10 p.m.', '11 p.m.']\n",
    "\n",
    "# Create a bar chart of the 'orders_day' column, ordered by the desired day order\n",
    "bar_hour_day = df_customers['orders_day'].value_counts().reindex(hour_order).plot.bar()\n",
    "\n",
    "# Set the chart title and axis labels\n",
    "plt.title('The Bar Chart of The daily Orders', fontsize=18, pad=20)\n",
    "plt.ylabel('Frequency (in millions)', fontsize=12)\n",
    "plt.xlabel('Hours', fontsize=12)\n",
    "\n",
    "# Save the chart as an image\n",
    "bar_hour_day.get_figure().savefig(os.path.join(path, '04. Analysis', 'Visualizations', 'bar_hour_day.png'))\n",
    "\n",
    "# Show the chart\n",
    "plt.show()\n"
   ]
  },
  {
   "cell_type": "markdown",
   "id": "ce4ba734",
   "metadata": {},
   "source": [
    "### 6.10. Creating Bar Chart from The 'Age Group & Household' Variables"
   ]
  },
  {
   "cell_type": "code",
   "execution_count": 93,
   "id": "9921a760",
   "metadata": {},
   "outputs": [],
   "source": [
    "#create crosstab from 'age_group' & 'household' columns\n",
    "cross_age_hhd = pd.crosstab(df_customers['age_group'], df_customers['household'], dropna = False)"
   ]
  },
  {
   "cell_type": "code",
   "execution_count": 94,
   "id": "b6db3aaf",
   "metadata": {},
   "outputs": [
    {
     "data": {
      "text/html": [
       "<div>\n",
       "<style scoped>\n",
       "    .dataframe tbody tr th:only-of-type {\n",
       "        vertical-align: middle;\n",
       "    }\n",
       "\n",
       "    .dataframe tbody tr th {\n",
       "        vertical-align: top;\n",
       "    }\n",
       "\n",
       "    .dataframe thead th {\n",
       "        text-align: right;\n",
       "    }\n",
       "</style>\n",
       "<table border=\"1\" class=\"dataframe\">\n",
       "  <thead>\n",
       "    <tr style=\"text-align: right;\">\n",
       "      <th>household</th>\n",
       "      <th>Couple with children</th>\n",
       "      <th>Couple without Children</th>\n",
       "      <th>Extended Family</th>\n",
       "      <th>One Person</th>\n",
       "    </tr>\n",
       "    <tr>\n",
       "      <th>age_group</th>\n",
       "      <th></th>\n",
       "      <th></th>\n",
       "      <th></th>\n",
       "      <th></th>\n",
       "    </tr>\n",
       "  </thead>\n",
       "  <tbody>\n",
       "    <tr>\n",
       "      <th>Middle-Aged Adults</th>\n",
       "      <td>3583825</td>\n",
       "      <td>1846657</td>\n",
       "      <td>0</td>\n",
       "      <td>1817017</td>\n",
       "    </tr>\n",
       "    <tr>\n",
       "      <th>Old Adults</th>\n",
       "      <td>3977201</td>\n",
       "      <td>1914757</td>\n",
       "      <td>0</td>\n",
       "      <td>1984561</td>\n",
       "    </tr>\n",
       "    <tr>\n",
       "      <th>Young Adults</th>\n",
       "      <td>3272831</td>\n",
       "      <td>1602414</td>\n",
       "      <td>1111645</td>\n",
       "      <td>1965192</td>\n",
       "    </tr>\n",
       "  </tbody>\n",
       "</table>\n",
       "</div>"
      ],
      "text/plain": [
       "household           Couple with children  Couple without Children  \\\n",
       "age_group                                                           \n",
       "Middle-Aged Adults               3583825                  1846657   \n",
       "Old Adults                       3977201                  1914757   \n",
       "Young Adults                     3272831                  1602414   \n",
       "\n",
       "household           Extended Family  One Person  \n",
       "age_group                                        \n",
       "Middle-Aged Adults                0     1817017  \n",
       "Old Adults                        0     1984561  \n",
       "Young Adults                1111645     1965192  "
      ]
     },
     "execution_count": 94,
     "metadata": {},
     "output_type": "execute_result"
    }
   ],
   "source": [
    "cross_age_hhd"
   ]
  },
  {
   "cell_type": "code",
   "execution_count": 154,
   "id": "169f0c6d",
   "metadata": {},
   "outputs": [
    {
     "data": {
      "image/png": "[encoded data removed]",
      "text/plain": [
       "<Figure size 640x480 with 1 Axes>"
      ]
     },
     "metadata": {},
     "output_type": "display_data"
    }
   ],
   "source": [
    "# plot clustered bar chart\n",
    "ax = cross_age_hhd.plot(kind='bar', width=0.8)\n",
    "\n",
    "# set chart title and axis labels\n",
    "ax.set_title('Age Group by Household')\n",
    "ax.set_xlabel('Age Group')\n",
    "ax.set_ylabel('Frequency(in millions)')\n",
    "\n",
    "# add legend\n",
    "legend = ax.legend(title='Household Type')\n",
    "for text in legend.get_texts():\n",
    "    text.set_fontsize(6)\n",
    "\n",
    "# save the chart as an image\n",
    "fig = ax.get_figure()\n",
    "fig.savefig(os.path.join(path, '04. Analysis', 'Visualizations', 'age_group_by_household.png'))\n",
    "\n",
    "# show chart\n",
    "plt.show()"
   ]
  },
  {
   "cell_type": "markdown",
   "id": "cdd48576",
   "metadata": {},
   "source": [
    "## 7. Creating A Customer-profile Aggregation for Usage Frequency and Expenditure"
   ]
  },
  {
   "cell_type": "markdown",
   "id": "5acc0b7b",
   "metadata": {},
   "source": [
    "### 7.1. Creating the Region Frequency Aggregation"
   ]
  },
  {
   "cell_type": "markdown",
   "id": "dcda4d12",
   "metadata": {},
   "source": [
    "### 7.2. Creating the Customer Activity Expenditure Aggregation"
   ]
  },
  {
   "cell_type": "code",
   "execution_count": 96,
   "id": "84083171",
   "metadata": {},
   "outputs": [
    {
     "data": {
      "text/html": [
       "<div>\n",
       "<style scoped>\n",
       "    .dataframe tbody tr th:only-of-type {\n",
       "        vertical-align: middle;\n",
       "    }\n",
       "\n",
       "    .dataframe tbody tr th {\n",
       "        vertical-align: top;\n",
       "    }\n",
       "\n",
       "    .dataframe thead tr th {\n",
       "        text-align: left;\n",
       "    }\n",
       "\n",
       "    .dataframe thead tr:last-of-type th {\n",
       "        text-align: right;\n",
       "    }\n",
       "</style>\n",
       "<table border=\"1\" class=\"dataframe\">\n",
       "  <thead>\n",
       "    <tr>\n",
       "      <th></th>\n",
       "      <th colspan=\"3\" halign=\"left\">prices</th>\n",
       "    </tr>\n",
       "    <tr>\n",
       "      <th></th>\n",
       "      <th>max</th>\n",
       "      <th>mean</th>\n",
       "      <th>min</th>\n",
       "    </tr>\n",
       "    <tr>\n",
       "      <th>exclusion_flag</th>\n",
       "      <th></th>\n",
       "      <th></th>\n",
       "      <th></th>\n",
       "    </tr>\n",
       "  </thead>\n",
       "  <tbody>\n",
       "    <tr>\n",
       "      <th>high_activity_customer</th>\n",
       "      <td>99999.0</td>\n",
       "      <td>11.756827</td>\n",
       "      <td>1.0</td>\n",
       "    </tr>\n",
       "    <tr>\n",
       "      <th>low_activity_customer</th>\n",
       "      <td>99999.0</td>\n",
       "      <td>12.405465</td>\n",
       "      <td>1.0</td>\n",
       "    </tr>\n",
       "  </tbody>\n",
       "</table>\n",
       "</div>"
      ],
      "text/plain": [
       "                         prices                \n",
       "                            max       mean  min\n",
       "exclusion_flag                                 \n",
       "high_activity_customer  99999.0  11.756827  1.0\n",
       "low_activity_customer   99999.0  12.405465  1.0"
      ]
     },
     "execution_count": 96,
     "metadata": {},
     "output_type": "execute_result"
    }
   ],
   "source": [
    "#create the Customer Activity expenditure aggregation\n",
    "df.groupby('exclusion_flag').agg({'prices' : ['max', 'mean', 'min']})"
   ]
  },
  {
   "cell_type": "markdown",
   "id": "57d18426",
   "metadata": {},
   "source": [
    "### 7.3. Creating the Age Group Expenditure Aggregation"
   ]
  },
  {
   "cell_type": "code",
   "execution_count": 97,
   "id": "fb167f0d",
   "metadata": {},
   "outputs": [
    {
     "data": {
      "text/html": [
       "<div>\n",
       "<style scoped>\n",
       "    .dataframe tbody tr th:only-of-type {\n",
       "        vertical-align: middle;\n",
       "    }\n",
       "\n",
       "    .dataframe tbody tr th {\n",
       "        vertical-align: top;\n",
       "    }\n",
       "\n",
       "    .dataframe thead tr th {\n",
       "        text-align: left;\n",
       "    }\n",
       "\n",
       "    .dataframe thead tr:last-of-type th {\n",
       "        text-align: right;\n",
       "    }\n",
       "</style>\n",
       "<table border=\"1\" class=\"dataframe\">\n",
       "  <thead>\n",
       "    <tr>\n",
       "      <th></th>\n",
       "      <th colspan=\"3\" halign=\"left\">prices</th>\n",
       "    </tr>\n",
       "    <tr>\n",
       "      <th></th>\n",
       "      <th>max</th>\n",
       "      <th>mean</th>\n",
       "      <th>min</th>\n",
       "    </tr>\n",
       "    <tr>\n",
       "      <th>age_group</th>\n",
       "      <th></th>\n",
       "      <th></th>\n",
       "      <th></th>\n",
       "    </tr>\n",
       "  </thead>\n",
       "  <tbody>\n",
       "    <tr>\n",
       "      <th>Middle-Aged Adults</th>\n",
       "      <td>99999.0</td>\n",
       "      <td>11.943264</td>\n",
       "      <td>1.0</td>\n",
       "    </tr>\n",
       "    <tr>\n",
       "      <th>Old Adults</th>\n",
       "      <td>99999.0</td>\n",
       "      <td>11.452336</td>\n",
       "      <td>1.0</td>\n",
       "    </tr>\n",
       "    <tr>\n",
       "      <th>Young Adults</th>\n",
       "      <td>99999.0</td>\n",
       "      <td>11.888508</td>\n",
       "      <td>1.0</td>\n",
       "    </tr>\n",
       "  </tbody>\n",
       "</table>\n",
       "</div>"
      ],
      "text/plain": [
       "                     prices                \n",
       "                        max       mean  min\n",
       "age_group                                  \n",
       "Middle-Aged Adults  99999.0  11.943264  1.0\n",
       "Old Adults          99999.0  11.452336  1.0\n",
       "Young Adults        99999.0  11.888508  1.0"
      ]
     },
     "execution_count": 97,
     "metadata": {},
     "output_type": "execute_result"
    }
   ],
   "source": [
    "#create the Age Group expenditure aggregation\n",
    "df_customers.groupby('age_group').agg({'prices' : ['max', 'mean', 'min']})"
   ]
  },
  {
   "cell_type": "markdown",
   "id": "a5c64c4b",
   "metadata": {},
   "source": [
    "### 7.4. Creating the Income Group Expenditure Aggregation"
   ]
  },
  {
   "cell_type": "code",
   "execution_count": 98,
   "id": "91981af7",
   "metadata": {},
   "outputs": [
    {
     "data": {
      "text/html": [
       "<div>\n",
       "<style scoped>\n",
       "    .dataframe tbody tr th:only-of-type {\n",
       "        vertical-align: middle;\n",
       "    }\n",
       "\n",
       "    .dataframe tbody tr th {\n",
       "        vertical-align: top;\n",
       "    }\n",
       "\n",
       "    .dataframe thead tr th {\n",
       "        text-align: left;\n",
       "    }\n",
       "\n",
       "    .dataframe thead tr:last-of-type th {\n",
       "        text-align: right;\n",
       "    }\n",
       "</style>\n",
       "<table border=\"1\" class=\"dataframe\">\n",
       "  <thead>\n",
       "    <tr>\n",
       "      <th></th>\n",
       "      <th colspan=\"3\" halign=\"left\">prices</th>\n",
       "    </tr>\n",
       "    <tr>\n",
       "      <th></th>\n",
       "      <th>max</th>\n",
       "      <th>mean</th>\n",
       "      <th>min</th>\n",
       "    </tr>\n",
       "    <tr>\n",
       "      <th>income_group</th>\n",
       "      <th></th>\n",
       "      <th></th>\n",
       "      <th></th>\n",
       "    </tr>\n",
       "  </thead>\n",
       "  <tbody>\n",
       "    <tr>\n",
       "      <th>High Income</th>\n",
       "      <td>99999.0</td>\n",
       "      <td>37.100123</td>\n",
       "      <td>1.0</td>\n",
       "    </tr>\n",
       "    <tr>\n",
       "      <th>Low Income</th>\n",
       "      <td>25.0</td>\n",
       "      <td>6.777445</td>\n",
       "      <td>1.0</td>\n",
       "    </tr>\n",
       "    <tr>\n",
       "      <th>Middle Income</th>\n",
       "      <td>99999.0</td>\n",
       "      <td>9.543216</td>\n",
       "      <td>1.0</td>\n",
       "    </tr>\n",
       "  </tbody>\n",
       "</table>\n",
       "</div>"
      ],
      "text/plain": [
       "                prices                \n",
       "                   max       mean  min\n",
       "income_group                          \n",
       "High Income    99999.0  37.100123  1.0\n",
       "Low Income        25.0   6.777445  1.0\n",
       "Middle Income  99999.0   9.543216  1.0"
      ]
     },
     "execution_count": 98,
     "metadata": {},
     "output_type": "execute_result"
    }
   ],
   "source": [
    "#create the Age Group expenditure aggregation\n",
    "df_customers.groupby('income_group').agg({'prices' : ['max', 'mean', 'min']})"
   ]
  },
  {
   "cell_type": "markdown",
   "id": "59022dc3",
   "metadata": {},
   "source": [
    "### 7.5. Creating the Alcohol Behavior Frequency Aggregation"
   ]
  },
  {
   "cell_type": "code",
   "execution_count": 99,
   "id": "79e0708f",
   "metadata": {},
   "outputs": [
    {
     "data": {
      "text/html": [
       "<div>\n",
       "<style scoped>\n",
       "    .dataframe tbody tr th:only-of-type {\n",
       "        vertical-align: middle;\n",
       "    }\n",
       "\n",
       "    .dataframe tbody tr th {\n",
       "        vertical-align: top;\n",
       "    }\n",
       "\n",
       "    .dataframe thead tr th {\n",
       "        text-align: left;\n",
       "    }\n",
       "\n",
       "    .dataframe thead tr:last-of-type th {\n",
       "        text-align: right;\n",
       "    }\n",
       "</style>\n",
       "<table border=\"1\" class=\"dataframe\">\n",
       "  <thead>\n",
       "    <tr>\n",
       "      <th></th>\n",
       "      <th colspan=\"3\" halign=\"left\">order_number</th>\n",
       "    </tr>\n",
       "    <tr>\n",
       "      <th></th>\n",
       "      <th>max</th>\n",
       "      <th>mean</th>\n",
       "      <th>min</th>\n",
       "    </tr>\n",
       "    <tr>\n",
       "      <th>alcohol_behavior</th>\n",
       "      <th></th>\n",
       "      <th></th>\n",
       "      <th></th>\n",
       "    </tr>\n",
       "  </thead>\n",
       "  <tbody>\n",
       "    <tr>\n",
       "      <th>alcoholic customers</th>\n",
       "      <td>99</td>\n",
       "      <td>20.635300</td>\n",
       "      <td>5</td>\n",
       "    </tr>\n",
       "    <tr>\n",
       "      <th>non-alcoholic customers</th>\n",
       "      <td>99</td>\n",
       "      <td>21.932321</td>\n",
       "      <td>5</td>\n",
       "    </tr>\n",
       "  </tbody>\n",
       "</table>\n",
       "</div>"
      ],
      "text/plain": [
       "                        order_number               \n",
       "                                 max       mean min\n",
       "alcohol_behavior                                   \n",
       "alcoholic customers               99  20.635300   5\n",
       "non-alcoholic customers           99  21.932321   5"
      ]
     },
     "execution_count": 99,
     "metadata": {},
     "output_type": "execute_result"
    }
   ],
   "source": [
    "#create the Alcohol Behavior frequency aggregation\n",
    "df_customers.groupby('alcohol_behavior').agg({'order_number' : ['max', 'mean', 'min']})"
   ]
  },
  {
   "cell_type": "markdown",
   "id": "bf9716d0",
   "metadata": {},
   "source": [
    "### 7.6. Creating the Pet Ownership Frequency Aggregation"
   ]
  },
  {
   "cell_type": "code",
   "execution_count": 100,
   "id": "f1e38b72",
   "metadata": {},
   "outputs": [
    {
     "data": {
      "text/html": [
       "<div>\n",
       "<style scoped>\n",
       "    .dataframe tbody tr th:only-of-type {\n",
       "        vertical-align: middle;\n",
       "    }\n",
       "\n",
       "    .dataframe tbody tr th {\n",
       "        vertical-align: top;\n",
       "    }\n",
       "\n",
       "    .dataframe thead tr th {\n",
       "        text-align: left;\n",
       "    }\n",
       "\n",
       "    .dataframe thead tr:last-of-type th {\n",
       "        text-align: right;\n",
       "    }\n",
       "</style>\n",
       "<table border=\"1\" class=\"dataframe\">\n",
       "  <thead>\n",
       "    <tr>\n",
       "      <th></th>\n",
       "      <th colspan=\"3\" halign=\"left\">order_number</th>\n",
       "    </tr>\n",
       "    <tr>\n",
       "      <th></th>\n",
       "      <th>max</th>\n",
       "      <th>mean</th>\n",
       "      <th>min</th>\n",
       "    </tr>\n",
       "    <tr>\n",
       "      <th>pet_ownership</th>\n",
       "      <th></th>\n",
       "      <th></th>\n",
       "      <th></th>\n",
       "    </tr>\n",
       "  </thead>\n",
       "  <tbody>\n",
       "    <tr>\n",
       "      <th>non-pet owner</th>\n",
       "      <td>99</td>\n",
       "      <td>21.932158</td>\n",
       "      <td>5</td>\n",
       "    </tr>\n",
       "    <tr>\n",
       "      <th>pet owner</th>\n",
       "      <td>99</td>\n",
       "      <td>20.025766</td>\n",
       "      <td>5</td>\n",
       "    </tr>\n",
       "  </tbody>\n",
       "</table>\n",
       "</div>"
      ],
      "text/plain": [
       "              order_number               \n",
       "                       max       mean min\n",
       "pet_ownership                            \n",
       "non-pet owner           99  21.932158   5\n",
       "pet owner               99  20.025766   5"
      ]
     },
     "execution_count": 100,
     "metadata": {},
     "output_type": "execute_result"
    }
   ],
   "source": [
    "#create the pet ownership frequency aggregation\n",
    "df_customers.groupby('pet_ownership').agg({'order_number' : ['max', 'mean', 'min']})"
   ]
  },
  {
   "cell_type": "markdown",
   "id": "9a625c25",
   "metadata": {},
   "source": [
    "### 7.7. Creating the Household Expenditure Aggregation"
   ]
  },
  {
   "cell_type": "code",
   "execution_count": 101,
   "id": "8bde4c63",
   "metadata": {},
   "outputs": [
    {
     "data": {
      "text/html": [
       "<div>\n",
       "<style scoped>\n",
       "    .dataframe tbody tr th:only-of-type {\n",
       "        vertical-align: middle;\n",
       "    }\n",
       "\n",
       "    .dataframe tbody tr th {\n",
       "        vertical-align: top;\n",
       "    }\n",
       "\n",
       "    .dataframe thead tr th {\n",
       "        text-align: left;\n",
       "    }\n",
       "\n",
       "    .dataframe thead tr:last-of-type th {\n",
       "        text-align: right;\n",
       "    }\n",
       "</style>\n",
       "<table border=\"1\" class=\"dataframe\">\n",
       "  <thead>\n",
       "    <tr>\n",
       "      <th></th>\n",
       "      <th colspan=\"3\" halign=\"left\">prices</th>\n",
       "    </tr>\n",
       "    <tr>\n",
       "      <th></th>\n",
       "      <th>max</th>\n",
       "      <th>mean</th>\n",
       "      <th>min</th>\n",
       "    </tr>\n",
       "    <tr>\n",
       "      <th>household</th>\n",
       "      <th></th>\n",
       "      <th></th>\n",
       "      <th></th>\n",
       "    </tr>\n",
       "  </thead>\n",
       "  <tbody>\n",
       "    <tr>\n",
       "      <th>Couple with children</th>\n",
       "      <td>99999.0</td>\n",
       "      <td>11.819304</td>\n",
       "      <td>1.0</td>\n",
       "    </tr>\n",
       "    <tr>\n",
       "      <th>Couple without Children</th>\n",
       "      <td>99999.0</td>\n",
       "      <td>11.540975</td>\n",
       "      <td>1.0</td>\n",
       "    </tr>\n",
       "    <tr>\n",
       "      <th>Extended Family</th>\n",
       "      <td>99999.0</td>\n",
       "      <td>10.821449</td>\n",
       "      <td>1.0</td>\n",
       "    </tr>\n",
       "    <tr>\n",
       "      <th>One Person</th>\n",
       "      <td>99999.0</td>\n",
       "      <td>12.020536</td>\n",
       "      <td>1.0</td>\n",
       "    </tr>\n",
       "  </tbody>\n",
       "</table>\n",
       "</div>"
      ],
      "text/plain": [
       "                          prices                \n",
       "                             max       mean  min\n",
       "household                                       \n",
       "Couple with children     99999.0  11.819304  1.0\n",
       "Couple without Children  99999.0  11.540975  1.0\n",
       "Extended Family          99999.0  10.821449  1.0\n",
       "One Person               99999.0  12.020536  1.0"
      ]
     },
     "execution_count": 101,
     "metadata": {},
     "output_type": "execute_result"
    }
   ],
   "source": [
    "#create the household expenditure aggregation\n",
    "df_customers.groupby('household').agg({'prices' : ['max', 'mean', 'min']})"
   ]
  },
  {
   "cell_type": "markdown",
   "id": "2d58d3db",
   "metadata": {},
   "source": [
    "## 8. Comparing Customer Profiles with Region and Departments"
   ]
  },
  {
   "cell_type": "markdown",
   "id": "685ef30f",
   "metadata": {},
   "source": [
    "### 8.1. Comparing Income Group with Department"
   ]
  },
  {
   "cell_type": "code",
   "execution_count": 102,
   "id": "9d83546f",
   "metadata": {},
   "outputs": [],
   "source": [
    "#create crosstab from 'region' & 'income_group' columns\n",
    "cross_dept_inc = pd.crosstab(df_customers['department'], df_customers['income_group'], dropna = False)"
   ]
  },
  {
   "cell_type": "code",
   "execution_count": 103,
   "id": "ff7d5940",
   "metadata": {},
   "outputs": [
    {
     "data": {
      "text/html": [
       "<div>\n",
       "<style scoped>\n",
       "    .dataframe tbody tr th:only-of-type {\n",
       "        vertical-align: middle;\n",
       "    }\n",
       "\n",
       "    .dataframe tbody tr th {\n",
       "        vertical-align: top;\n",
       "    }\n",
       "\n",
       "    .dataframe thead th {\n",
       "        text-align: right;\n",
       "    }\n",
       "</style>\n",
       "<table border=\"1\" class=\"dataframe\">\n",
       "  <thead>\n",
       "    <tr style=\"text-align: right;\">\n",
       "      <th>income_group</th>\n",
       "      <th>High Income</th>\n",
       "      <th>Low Income</th>\n",
       "      <th>Middle Income</th>\n",
       "    </tr>\n",
       "    <tr>\n",
       "      <th>department</th>\n",
       "      <th></th>\n",
       "      <th></th>\n",
       "      <th></th>\n",
       "    </tr>\n",
       "  </thead>\n",
       "  <tbody>\n",
       "    <tr>\n",
       "      <th>alcohol</th>\n",
       "      <td>13921</td>\n",
       "      <td>12630</td>\n",
       "      <td>76520</td>\n",
       "    </tr>\n",
       "    <tr>\n",
       "      <th>babies</th>\n",
       "      <td>29795</td>\n",
       "      <td>24732</td>\n",
       "      <td>262599</td>\n",
       "    </tr>\n",
       "    <tr>\n",
       "      <th>bakery</th>\n",
       "      <td>82852</td>\n",
       "      <td>85136</td>\n",
       "      <td>667190</td>\n",
       "    </tr>\n",
       "    <tr>\n",
       "      <th>beverages</th>\n",
       "      <td>173964</td>\n",
       "      <td>305365</td>\n",
       "      <td>1445183</td>\n",
       "    </tr>\n",
       "    <tr>\n",
       "      <th>breakfast</th>\n",
       "      <td>44874</td>\n",
       "      <td>72267</td>\n",
       "      <td>377708</td>\n",
       "    </tr>\n",
       "    <tr>\n",
       "      <th>bulk</th>\n",
       "      <td>1832</td>\n",
       "      <td>3967</td>\n",
       "      <td>20205</td>\n",
       "    </tr>\n",
       "    <tr>\n",
       "      <th>canned goods</th>\n",
       "      <td>71809</td>\n",
       "      <td>62498</td>\n",
       "      <td>610442</td>\n",
       "    </tr>\n",
       "    <tr>\n",
       "      <th>dairy eggs</th>\n",
       "      <td>362724</td>\n",
       "      <td>407008</td>\n",
       "      <td>3123069</td>\n",
       "    </tr>\n",
       "    <tr>\n",
       "      <th>deli</th>\n",
       "      <td>68139</td>\n",
       "      <td>83902</td>\n",
       "      <td>588002</td>\n",
       "    </tr>\n",
       "    <tr>\n",
       "      <th>dry goods pasta</th>\n",
       "      <td>58182</td>\n",
       "      <td>50289</td>\n",
       "      <td>491153</td>\n",
       "    </tr>\n",
       "    <tr>\n",
       "      <th>frozen</th>\n",
       "      <td>148079</td>\n",
       "      <td>166476</td>\n",
       "      <td>1224086</td>\n",
       "    </tr>\n",
       "    <tr>\n",
       "      <th>household</th>\n",
       "      <td>50908</td>\n",
       "      <td>66624</td>\n",
       "      <td>390978</td>\n",
       "    </tr>\n",
       "    <tr>\n",
       "      <th>international</th>\n",
       "      <td>17593</td>\n",
       "      <td>17101</td>\n",
       "      <td>152507</td>\n",
       "    </tr>\n",
       "    <tr>\n",
       "      <th>meat seafood</th>\n",
       "      <td>49617</td>\n",
       "      <td>27864</td>\n",
       "      <td>418674</td>\n",
       "    </tr>\n",
       "    <tr>\n",
       "      <th>missing</th>\n",
       "      <td>4987</td>\n",
       "      <td>6021</td>\n",
       "      <td>43465</td>\n",
       "    </tr>\n",
       "    <tr>\n",
       "      <th>other</th>\n",
       "      <td>2445</td>\n",
       "      <td>2957</td>\n",
       "      <td>20044</td>\n",
       "    </tr>\n",
       "    <tr>\n",
       "      <th>pantry</th>\n",
       "      <td>125123</td>\n",
       "      <td>130148</td>\n",
       "      <td>1052602</td>\n",
       "    </tr>\n",
       "    <tr>\n",
       "      <th>personal care</th>\n",
       "      <td>28853</td>\n",
       "      <td>36735</td>\n",
       "      <td>243691</td>\n",
       "    </tr>\n",
       "    <tr>\n",
       "      <th>pets</th>\n",
       "      <td>7443</td>\n",
       "      <td>6896</td>\n",
       "      <td>53812</td>\n",
       "    </tr>\n",
       "    <tr>\n",
       "      <th>produce</th>\n",
       "      <td>613147</td>\n",
       "      <td>672144</td>\n",
       "      <td>5549653</td>\n",
       "    </tr>\n",
       "    <tr>\n",
       "      <th>snacks</th>\n",
       "      <td>166601</td>\n",
       "      <td>441568</td>\n",
       "      <td>1459301</td>\n",
       "    </tr>\n",
       "  </tbody>\n",
       "</table>\n",
       "</div>"
      ],
      "text/plain": [
       "income_group     High Income  Low Income  Middle Income\n",
       "department                                             \n",
       "alcohol                13921       12630          76520\n",
       "babies                 29795       24732         262599\n",
       "bakery                 82852       85136         667190\n",
       "beverages             173964      305365        1445183\n",
       "breakfast              44874       72267         377708\n",
       "bulk                    1832        3967          20205\n",
       "canned goods           71809       62498         610442\n",
       "dairy eggs            362724      407008        3123069\n",
       "deli                   68139       83902         588002\n",
       "dry goods pasta        58182       50289         491153\n",
       "frozen                148079      166476        1224086\n",
       "household              50908       66624         390978\n",
       "international          17593       17101         152507\n",
       "meat seafood           49617       27864         418674\n",
       "missing                 4987        6021          43465\n",
       "other                   2445        2957          20044\n",
       "pantry                125123      130148        1052602\n",
       "personal care          28853       36735         243691\n",
       "pets                    7443        6896          53812\n",
       "produce               613147      672144        5549653\n",
       "snacks                166601      441568        1459301"
      ]
     },
     "execution_count": 103,
     "metadata": {},
     "output_type": "execute_result"
    }
   ],
   "source": [
    "cross_dept_inc"
   ]
  },
  {
   "cell_type": "code",
   "execution_count": 157,
   "id": "adeddfbe",
   "metadata": {},
   "outputs": [
    {
     "data": {
      "image/png": "[encoded data removed]",
      "text/plain": [
       "<Figure size 640x480 with 1 Axes>"
      ]
     },
     "metadata": {},
     "output_type": "display_data"
    }
   ],
   "source": [
    "# plot stacked bar chart\n",
    "cross_dept_inc.plot(kind='bar', stacked=True)\n",
    "\n",
    "# set chart title and axis labels\n",
    "plt.title('Departments grouped by IC Customers Income')\n",
    "plt.xlabel('Department')\n",
    "plt.ylabel('frequency (in 100.000)')\n",
    "\n",
    "#save image\n",
    "plt.savefig(os.path.join(path, '04. Analysis', 'Visualizations', 'stacked_dept_income.png'))\n",
    "\n",
    "# show chart\n",
    "plt.show()"
   ]
  },
  {
   "cell_type": "markdown",
   "id": "888c6aae",
   "metadata": {},
   "source": [
    "### 8.2. Comparing Age Group with Department"
   ]
  },
  {
   "cell_type": "code",
   "execution_count": 105,
   "id": "ac54718a",
   "metadata": {},
   "outputs": [],
   "source": [
    "#create crosstab from 'department' & 'age_group' columns\n",
    "cross_dept_age = pd.crosstab(df_customers['department'], df_customers['age_group'], dropna = False)"
   ]
  },
  {
   "cell_type": "code",
   "execution_count": 106,
   "id": "8d0e602e",
   "metadata": {},
   "outputs": [
    {
     "data": {
      "text/html": [
       "<div>\n",
       "<style scoped>\n",
       "    .dataframe tbody tr th:only-of-type {\n",
       "        vertical-align: middle;\n",
       "    }\n",
       "\n",
       "    .dataframe tbody tr th {\n",
       "        vertical-align: top;\n",
       "    }\n",
       "\n",
       "    .dataframe thead th {\n",
       "        text-align: right;\n",
       "    }\n",
       "</style>\n",
       "<table border=\"1\" class=\"dataframe\">\n",
       "  <thead>\n",
       "    <tr style=\"text-align: right;\">\n",
       "      <th>age_group</th>\n",
       "      <th>Middle-Aged Adults</th>\n",
       "      <th>Old Adults</th>\n",
       "      <th>Young Adults</th>\n",
       "    </tr>\n",
       "    <tr>\n",
       "      <th>department</th>\n",
       "      <th></th>\n",
       "      <th></th>\n",
       "      <th></th>\n",
       "    </tr>\n",
       "  </thead>\n",
       "  <tbody>\n",
       "    <tr>\n",
       "      <th>alcohol</th>\n",
       "      <td>32365</td>\n",
       "      <td>33271</td>\n",
       "      <td>37435</td>\n",
       "    </tr>\n",
       "    <tr>\n",
       "      <th>babies</th>\n",
       "      <td>101297</td>\n",
       "      <td>107108</td>\n",
       "      <td>108721</td>\n",
       "    </tr>\n",
       "    <tr>\n",
       "      <th>bakery</th>\n",
       "      <td>262755</td>\n",
       "      <td>284699</td>\n",
       "      <td>287724</td>\n",
       "    </tr>\n",
       "    <tr>\n",
       "      <th>beverages</th>\n",
       "      <td>607544</td>\n",
       "      <td>662641</td>\n",
       "      <td>654327</td>\n",
       "    </tr>\n",
       "    <tr>\n",
       "      <th>breakfast</th>\n",
       "      <td>154967</td>\n",
       "      <td>168148</td>\n",
       "      <td>171734</td>\n",
       "    </tr>\n",
       "    <tr>\n",
       "      <th>bulk</th>\n",
       "      <td>8022</td>\n",
       "      <td>8921</td>\n",
       "      <td>9061</td>\n",
       "    </tr>\n",
       "    <tr>\n",
       "      <th>canned goods</th>\n",
       "      <td>235049</td>\n",
       "      <td>252222</td>\n",
       "      <td>257478</td>\n",
       "    </tr>\n",
       "    <tr>\n",
       "      <th>dairy eggs</th>\n",
       "      <td>1219607</td>\n",
       "      <td>1324892</td>\n",
       "      <td>1348302</td>\n",
       "    </tr>\n",
       "    <tr>\n",
       "      <th>deli</th>\n",
       "      <td>231507</td>\n",
       "      <td>253325</td>\n",
       "      <td>255211</td>\n",
       "    </tr>\n",
       "    <tr>\n",
       "      <th>dry goods pasta</th>\n",
       "      <td>188842</td>\n",
       "      <td>203797</td>\n",
       "      <td>206985</td>\n",
       "    </tr>\n",
       "    <tr>\n",
       "      <th>frozen</th>\n",
       "      <td>484502</td>\n",
       "      <td>527817</td>\n",
       "      <td>526322</td>\n",
       "    </tr>\n",
       "    <tr>\n",
       "      <th>household</th>\n",
       "      <td>159532</td>\n",
       "      <td>174547</td>\n",
       "      <td>174431</td>\n",
       "    </tr>\n",
       "    <tr>\n",
       "      <th>international</th>\n",
       "      <td>59207</td>\n",
       "      <td>62870</td>\n",
       "      <td>65124</td>\n",
       "    </tr>\n",
       "    <tr>\n",
       "      <th>meat seafood</th>\n",
       "      <td>156076</td>\n",
       "      <td>170410</td>\n",
       "      <td>169669</td>\n",
       "    </tr>\n",
       "    <tr>\n",
       "      <th>missing</th>\n",
       "      <td>17259</td>\n",
       "      <td>18277</td>\n",
       "      <td>18937</td>\n",
       "    </tr>\n",
       "    <tr>\n",
       "      <th>other</th>\n",
       "      <td>7943</td>\n",
       "      <td>8526</td>\n",
       "      <td>8977</td>\n",
       "    </tr>\n",
       "    <tr>\n",
       "      <th>pantry</th>\n",
       "      <td>412000</td>\n",
       "      <td>446790</td>\n",
       "      <td>449083</td>\n",
       "    </tr>\n",
       "    <tr>\n",
       "      <th>personal care</th>\n",
       "      <td>98974</td>\n",
       "      <td>104224</td>\n",
       "      <td>106081</td>\n",
       "    </tr>\n",
       "    <tr>\n",
       "      <th>pets</th>\n",
       "      <td>21635</td>\n",
       "      <td>23406</td>\n",
       "      <td>23110</td>\n",
       "    </tr>\n",
       "    <tr>\n",
       "      <th>produce</th>\n",
       "      <td>2141147</td>\n",
       "      <td>2336655</td>\n",
       "      <td>2357142</td>\n",
       "    </tr>\n",
       "    <tr>\n",
       "      <th>snacks</th>\n",
       "      <td>647269</td>\n",
       "      <td>703973</td>\n",
       "      <td>716228</td>\n",
       "    </tr>\n",
       "  </tbody>\n",
       "</table>\n",
       "</div>"
      ],
      "text/plain": [
       "age_group        Middle-Aged Adults  Old Adults  Young Adults\n",
       "department                                                   \n",
       "alcohol                       32365       33271         37435\n",
       "babies                       101297      107108        108721\n",
       "bakery                       262755      284699        287724\n",
       "beverages                    607544      662641        654327\n",
       "breakfast                    154967      168148        171734\n",
       "bulk                           8022        8921          9061\n",
       "canned goods                 235049      252222        257478\n",
       "dairy eggs                  1219607     1324892       1348302\n",
       "deli                         231507      253325        255211\n",
       "dry goods pasta              188842      203797        206985\n",
       "frozen                       484502      527817        526322\n",
       "household                    159532      174547        174431\n",
       "international                 59207       62870         65124\n",
       "meat seafood                 156076      170410        169669\n",
       "missing                       17259       18277         18937\n",
       "other                          7943        8526          8977\n",
       "pantry                       412000      446790        449083\n",
       "personal care                 98974      104224        106081\n",
       "pets                          21635       23406         23110\n",
       "produce                     2141147     2336655       2357142\n",
       "snacks                       647269      703973        716228"
      ]
     },
     "execution_count": 106,
     "metadata": {},
     "output_type": "execute_result"
    }
   ],
   "source": [
    "cross_dept_age"
   ]
  },
  {
   "cell_type": "code",
   "execution_count": 158,
   "id": "ddfdc9a4",
   "metadata": {},
   "outputs": [
    {
     "data": {
      "image/png": "[encoded data removed]",
      "text/plain": [
       "<Figure size 640x480 with 1 Axes>"
      ]
     },
     "metadata": {},
     "output_type": "display_data"
    }
   ],
   "source": [
    "# plot stacked bar chart\n",
    "cross_dept_age.plot(kind='bar', stacked=True)\n",
    "\n",
    "# set chart title and axis labels\n",
    "plt.title('Departments grouped by IC Customers Age')\n",
    "plt.xlabel('Department')\n",
    "plt.ylabel('frequency (in 100.000)')\n",
    "\n",
    "#save image\n",
    "plt.savefig(os.path.join(path, '04. Analysis', 'Visualizations', 'stacked_dept_age.png'))\n",
    "# show chart\n",
    "plt.show()"
   ]
  },
  {
   "cell_type": "markdown",
   "id": "e9b1d211",
   "metadata": {},
   "source": [
    "### 8.3. Comparing Alcohol Behavior with Region"
   ]
  },
  {
   "cell_type": "code",
   "execution_count": 108,
   "id": "923aa849",
   "metadata": {},
   "outputs": [],
   "source": [
    "#create crosstab from 'region' & 'alcohol_behavior' columns\n",
    "cross_reg_alc = pd.crosstab(df_customers['region'], df_customers['alcohol_behavior'], dropna = False)"
   ]
  },
  {
   "cell_type": "code",
   "execution_count": 109,
   "id": "c2cd4472",
   "metadata": {},
   "outputs": [
    {
     "data": {
      "text/html": [
       "<div>\n",
       "<style scoped>\n",
       "    .dataframe tbody tr th:only-of-type {\n",
       "        vertical-align: middle;\n",
       "    }\n",
       "\n",
       "    .dataframe tbody tr th {\n",
       "        vertical-align: top;\n",
       "    }\n",
       "\n",
       "    .dataframe thead th {\n",
       "        text-align: right;\n",
       "    }\n",
       "</style>\n",
       "<table border=\"1\" class=\"dataframe\">\n",
       "  <thead>\n",
       "    <tr style=\"text-align: right;\">\n",
       "      <th>alcohol_behavior</th>\n",
       "      <th>alcoholic customers</th>\n",
       "      <th>non-alcoholic customers</th>\n",
       "    </tr>\n",
       "    <tr>\n",
       "      <th>region</th>\n",
       "      <th></th>\n",
       "      <th></th>\n",
       "    </tr>\n",
       "  </thead>\n",
       "  <tbody>\n",
       "    <tr>\n",
       "      <th>Midwest</th>\n",
       "      <td>24716</td>\n",
       "      <td>5370371</td>\n",
       "    </tr>\n",
       "    <tr>\n",
       "      <th>Northeast</th>\n",
       "      <td>17662</td>\n",
       "      <td>4071889</td>\n",
       "    </tr>\n",
       "    <tr>\n",
       "      <th>South</th>\n",
       "      <td>34393</td>\n",
       "      <td>7647978</td>\n",
       "    </tr>\n",
       "    <tr>\n",
       "      <th>West</th>\n",
       "      <td>26300</td>\n",
       "      <td>5882791</td>\n",
       "    </tr>\n",
       "  </tbody>\n",
       "</table>\n",
       "</div>"
      ],
      "text/plain": [
       "alcohol_behavior  alcoholic customers  non-alcoholic customers\n",
       "region                                                        \n",
       "Midwest                         24716                  5370371\n",
       "Northeast                       17662                  4071889\n",
       "South                           34393                  7647978\n",
       "West                            26300                  5882791"
      ]
     },
     "execution_count": 109,
     "metadata": {},
     "output_type": "execute_result"
    }
   ],
   "source": [
    "cross_reg_alc"
   ]
  },
  {
   "cell_type": "code",
   "execution_count": 159,
   "id": "a3cbe861",
   "metadata": {},
   "outputs": [
    {
     "data": {
      "image/png": "[encoded data removed]",
      "text/plain": [
       "<Figure size 640x480 with 1 Axes>"
      ]
     },
     "metadata": {},
     "output_type": "display_data"
    }
   ],
   "source": [
    "# plot stacked bar chart\n",
    "ax = cross_reg_alc.plot(kind='bar')\n",
    "\n",
    "# add data labels\n",
    "for rect in ax.patches:\n",
    "    x = rect.get_x() + rect.get_width() / 2\n",
    "    y = rect.get_y() + rect.get_height() + 10000\n",
    "    label = f\"{int(rect.get_height()):,}\"\n",
    "    ax.annotate(label, (x, y), ha='center', va='bottom')\n",
    "\n",
    "# set chart title and axis labels\n",
    "ax.set_title('Alcohol Behavior by Region')\n",
    "ax.set_xlabel('Region')\n",
    "ax.set_ylabel('Frequency(in millions)')\n",
    "\n",
    "# add legend\n",
    "ax.legend(title='Alcohol Behavior')\n",
    "\n",
    "#save image\n",
    "plt.savefig(os.path.join(path, '04. Analysis', 'Visualizations', 'bar_reg_alc.png'))\n",
    "\n",
    "# show chart\n",
    "plt.show()"
   ]
  },
  {
   "cell_type": "markdown",
   "id": "b61252bb",
   "metadata": {},
   "source": [
    "### 8.4. Comparing Pet Ownership with Region"
   ]
  },
  {
   "cell_type": "code",
   "execution_count": 111,
   "id": "35923b06",
   "metadata": {},
   "outputs": [],
   "source": [
    "#create crosstab from 'region' & 'pet_ownership' columns\n",
    "cross_reg_pet = pd.crosstab(df_customers['region'], df_customers['pet_ownership'], dropna = False)"
   ]
  },
  {
   "cell_type": "code",
   "execution_count": 112,
   "id": "124eff30",
   "metadata": {},
   "outputs": [
    {
     "data": {
      "text/html": [
       "<div>\n",
       "<style scoped>\n",
       "    .dataframe tbody tr th:only-of-type {\n",
       "        vertical-align: middle;\n",
       "    }\n",
       "\n",
       "    .dataframe tbody tr th {\n",
       "        vertical-align: top;\n",
       "    }\n",
       "\n",
       "    .dataframe thead th {\n",
       "        text-align: right;\n",
       "    }\n",
       "</style>\n",
       "<table border=\"1\" class=\"dataframe\">\n",
       "  <thead>\n",
       "    <tr style=\"text-align: right;\">\n",
       "      <th>pet_ownership</th>\n",
       "      <th>non-pet owner</th>\n",
       "      <th>pet owner</th>\n",
       "    </tr>\n",
       "    <tr>\n",
       "      <th>region</th>\n",
       "      <th></th>\n",
       "      <th></th>\n",
       "    </tr>\n",
       "  </thead>\n",
       "  <tbody>\n",
       "    <tr>\n",
       "      <th>Midwest</th>\n",
       "      <td>5379449</td>\n",
       "      <td>15638</td>\n",
       "    </tr>\n",
       "    <tr>\n",
       "      <th>Northeast</th>\n",
       "      <td>4076346</td>\n",
       "      <td>13205</td>\n",
       "    </tr>\n",
       "    <tr>\n",
       "      <th>South</th>\n",
       "      <td>7660594</td>\n",
       "      <td>21777</td>\n",
       "    </tr>\n",
       "    <tr>\n",
       "      <th>West</th>\n",
       "      <td>5891560</td>\n",
       "      <td>17531</td>\n",
       "    </tr>\n",
       "  </tbody>\n",
       "</table>\n",
       "</div>"
      ],
      "text/plain": [
       "pet_ownership  non-pet owner  pet owner\n",
       "region                                 \n",
       "Midwest              5379449      15638\n",
       "Northeast            4076346      13205\n",
       "South                7660594      21777\n",
       "West                 5891560      17531"
      ]
     },
     "execution_count": 112,
     "metadata": {},
     "output_type": "execute_result"
    }
   ],
   "source": [
    "cross_reg_pet"
   ]
  },
  {
   "cell_type": "code",
   "execution_count": 160,
   "id": "f0677636",
   "metadata": {},
   "outputs": [
    {
     "data": {
      "image/png": "[encoded data removed]",
      "text/plain": [
       "<Figure size 640x480 with 1 Axes>"
      ]
     },
     "metadata": {},
     "output_type": "display_data"
    }
   ],
   "source": [
    "# plot stacked bar chart\n",
    "ax = cross_reg_pet.plot(kind='bar')\n",
    "\n",
    "# add data labels\n",
    "for rect in ax.patches:\n",
    "    x = rect.get_x() + rect.get_width() / 2\n",
    "    y = rect.get_y() + rect.get_height() + 10000\n",
    "    label = f\"{int(rect.get_height()):,}\"\n",
    "    ax.annotate(label, (x, y), ha='center', va='bottom')\n",
    "\n",
    "# set chart title and axis labels\n",
    "ax.set_title('Pet Ownership by Region')\n",
    "ax.set_xlabel('Region')\n",
    "ax.set_ylabel('Frequency(in millions)')\n",
    "\n",
    "# add legend\n",
    "ax.legend(title='Pet Ownership')\n",
    "\n",
    "#save image\n",
    "plt.savefig(os.path.join(path, '04. Analysis', 'Visualizations', 'bar_reg_pet.png'))\n",
    "\n",
    "# show chart\n",
    "plt.show()"
   ]
  },
  {
   "cell_type": "markdown",
   "id": "0985b09a",
   "metadata": {},
   "source": [
    "### 8.5. Comparing Household with Region"
   ]
  },
  {
   "cell_type": "code",
   "execution_count": 114,
   "id": "3cf22778",
   "metadata": {},
   "outputs": [],
   "source": [
    "#create crosstab from 'region' & 'household' columns\n",
    "cross_reg_hhd = pd.crosstab(df_customers['region'], df_customers['household'], dropna = False)"
   ]
  },
  {
   "cell_type": "code",
   "execution_count": 115,
   "id": "f9c737a2",
   "metadata": {},
   "outputs": [
    {
     "data": {
      "text/html": [
       "<div>\n",
       "<style scoped>\n",
       "    .dataframe tbody tr th:only-of-type {\n",
       "        vertical-align: middle;\n",
       "    }\n",
       "\n",
       "    .dataframe tbody tr th {\n",
       "        vertical-align: top;\n",
       "    }\n",
       "\n",
       "    .dataframe thead th {\n",
       "        text-align: right;\n",
       "    }\n",
       "</style>\n",
       "<table border=\"1\" class=\"dataframe\">\n",
       "  <thead>\n",
       "    <tr style=\"text-align: right;\">\n",
       "      <th>household</th>\n",
       "      <th>Couple with children</th>\n",
       "      <th>Couple without Children</th>\n",
       "      <th>Extended Family</th>\n",
       "      <th>One Person</th>\n",
       "    </tr>\n",
       "    <tr>\n",
       "      <th>region</th>\n",
       "      <th></th>\n",
       "      <th></th>\n",
       "      <th></th>\n",
       "      <th></th>\n",
       "    </tr>\n",
       "  </thead>\n",
       "  <tbody>\n",
       "    <tr>\n",
       "      <th>Midwest</th>\n",
       "      <td>2485986</td>\n",
       "      <td>1288412</td>\n",
       "      <td>258814</td>\n",
       "      <td>1361875</td>\n",
       "    </tr>\n",
       "    <tr>\n",
       "      <th>Northeast</th>\n",
       "      <td>1925601</td>\n",
       "      <td>962204</td>\n",
       "      <td>194849</td>\n",
       "      <td>1006897</td>\n",
       "    </tr>\n",
       "    <tr>\n",
       "      <th>South</th>\n",
       "      <td>3631258</td>\n",
       "      <td>1751729</td>\n",
       "      <td>380688</td>\n",
       "      <td>1918696</td>\n",
       "    </tr>\n",
       "    <tr>\n",
       "      <th>West</th>\n",
       "      <td>2791012</td>\n",
       "      <td>1361483</td>\n",
       "      <td>277294</td>\n",
       "      <td>1479302</td>\n",
       "    </tr>\n",
       "  </tbody>\n",
       "</table>\n",
       "</div>"
      ],
      "text/plain": [
       "household  Couple with children  Couple without Children  Extended Family  \\\n",
       "region                                                                      \n",
       "Midwest                 2485986                  1288412           258814   \n",
       "Northeast               1925601                   962204           194849   \n",
       "South                   3631258                  1751729           380688   \n",
       "West                    2791012                  1361483           277294   \n",
       "\n",
       "household  One Person  \n",
       "region                 \n",
       "Midwest       1361875  \n",
       "Northeast     1006897  \n",
       "South         1918696  \n",
       "West          1479302  "
      ]
     },
     "execution_count": 115,
     "metadata": {},
     "output_type": "execute_result"
    }
   ],
   "source": [
    "cross_reg_hhd"
   ]
  },
  {
   "cell_type": "code",
   "execution_count": 161,
   "id": "40145cee",
   "metadata": {},
   "outputs": [
    {
     "data": {
      "image/png": "[encoded data removed]",
      "text/plain": [
       "<Figure size 640x480 with 1 Axes>"
      ]
     },
     "metadata": {},
     "output_type": "display_data"
    }
   ],
   "source": [
    "# plot clustered bar chart\n",
    "ax = cross_reg_hhd.plot(kind='bar', width=0.8)\n",
    "\n",
    "# set chart title and axis labels\n",
    "ax.set_title('Customers Household by Region')\n",
    "ax.set_xlabel('Region')\n",
    "ax.set_ylabel('Frequency(in millions)')\n",
    "\n",
    "# add legend\n",
    "ax.legend(title='Household Size')\n",
    "\n",
    "#save image\n",
    "plt.savefig(os.path.join(path, '04. Analysis', 'Visualizations', 'bar_reg_hhd.png'))\n",
    "\n",
    "# show chart\n",
    "plt.show()"
   ]
  },
  {
   "cell_type": "code",
   "execution_count": 162,
   "id": "b20f662e",
   "metadata": {},
   "outputs": [
    {
     "data": {
      "image/png": "[encoded data removed]",
      "text/plain": [
       "<Figure size 640x480 with 1 Axes>"
      ]
     },
     "metadata": {},
     "output_type": "display_data"
    }
   ],
   "source": [
    "# calculate total values for each row in cross_reg_hhd\n",
    "total = cross_reg_hhd.sum(axis=1)\n",
    "\n",
    "# plot stacked bar chart\n",
    "ax = cross_reg_hhd.plot(kind='bar', stacked=True)\n",
    "\n",
    "# add data labels\n",
    "for rect in ax.patches:\n",
    "    x = round(rect.get_x() + rect.get_width() / 2)\n",
    "    y = rect.get_y() + rect.get_height() + 10000\n",
    "    label = f\"{rect.get_height()/total[x]:.2%}\" # calculate proportion and format as percentage\n",
    "    ax.annotate(label, (x, y), ha='center', va='bottom')\n",
    "\n",
    "# set chart title and axis labels\n",
    "ax.set_title('Customers Household by Region')\n",
    "ax.set_xlabel('Region')\n",
    "ax.set_ylabel('Frequency (in millions)')\n",
    "\n",
    "# add legend\n",
    "legend = ax.legend(title='Household Size')\n",
    "for text in legend.get_texts():\n",
    "    text.set_fontsize(6)\n",
    "\n",
    "#save image\n",
    "plt.savefig(os.path.join(path, '04. Analysis', 'Visualizations', 'stacked_reg_hhd.png'))\n",
    "\n",
    "# show chart\n",
    "plt.show()"
   ]
  },
  {
   "cell_type": "markdown",
   "id": "ff4892c9",
   "metadata": {},
   "source": [
    "### 8.6. Comparing the Busiest Period of day with Department"
   ]
  },
  {
   "cell_type": "code",
   "execution_count": 118,
   "id": "3bf563d6",
   "metadata": {},
   "outputs": [],
   "source": [
    "#create crosstab from 'department' & 'busiest_period_of_day' columns\n",
    "cross_dept_bpday = pd.crosstab(df_customers['department'], df_customers['busiest_period_of_day'], dropna = False)"
   ]
  },
  {
   "cell_type": "code",
   "execution_count": 119,
   "id": "ff06dd63",
   "metadata": {},
   "outputs": [
    {
     "data": {
      "text/html": [
       "<div>\n",
       "<style scoped>\n",
       "    .dataframe tbody tr th:only-of-type {\n",
       "        vertical-align: middle;\n",
       "    }\n",
       "\n",
       "    .dataframe tbody tr th {\n",
       "        vertical-align: top;\n",
       "    }\n",
       "\n",
       "    .dataframe thead th {\n",
       "        text-align: right;\n",
       "    }\n",
       "</style>\n",
       "<table border=\"1\" class=\"dataframe\">\n",
       "  <thead>\n",
       "    <tr style=\"text-align: right;\">\n",
       "      <th>busiest_period_of_day</th>\n",
       "      <th>Average Orders</th>\n",
       "      <th>Fewest Orders</th>\n",
       "      <th>Most Orders</th>\n",
       "    </tr>\n",
       "    <tr>\n",
       "      <th>department</th>\n",
       "      <th></th>\n",
       "      <th></th>\n",
       "      <th></th>\n",
       "    </tr>\n",
       "  </thead>\n",
       "  <tbody>\n",
       "    <tr>\n",
       "      <th>alcohol</th>\n",
       "      <td>34650</td>\n",
       "      <td>1580</td>\n",
       "      <td>66841</td>\n",
       "    </tr>\n",
       "    <tr>\n",
       "      <th>babies</th>\n",
       "      <td>138645</td>\n",
       "      <td>8435</td>\n",
       "      <td>170046</td>\n",
       "    </tr>\n",
       "    <tr>\n",
       "      <th>bakery</th>\n",
       "      <td>330934</td>\n",
       "      <td>22044</td>\n",
       "      <td>482200</td>\n",
       "    </tr>\n",
       "    <tr>\n",
       "      <th>beverages</th>\n",
       "      <td>752259</td>\n",
       "      <td>52113</td>\n",
       "      <td>1120140</td>\n",
       "    </tr>\n",
       "    <tr>\n",
       "      <th>breakfast</th>\n",
       "      <td>203104</td>\n",
       "      <td>13166</td>\n",
       "      <td>278579</td>\n",
       "    </tr>\n",
       "    <tr>\n",
       "      <th>bulk</th>\n",
       "      <td>10405</td>\n",
       "      <td>698</td>\n",
       "      <td>14901</td>\n",
       "    </tr>\n",
       "    <tr>\n",
       "      <th>canned goods</th>\n",
       "      <td>285211</td>\n",
       "      <td>20017</td>\n",
       "      <td>439521</td>\n",
       "    </tr>\n",
       "    <tr>\n",
       "      <th>dairy eggs</th>\n",
       "      <td>1574271</td>\n",
       "      <td>103900</td>\n",
       "      <td>2214630</td>\n",
       "    </tr>\n",
       "    <tr>\n",
       "      <th>deli</th>\n",
       "      <td>290617</td>\n",
       "      <td>19520</td>\n",
       "      <td>429906</td>\n",
       "    </tr>\n",
       "    <tr>\n",
       "      <th>dry goods pasta</th>\n",
       "      <td>234749</td>\n",
       "      <td>16015</td>\n",
       "      <td>348860</td>\n",
       "    </tr>\n",
       "    <tr>\n",
       "      <th>frozen</th>\n",
       "      <td>622524</td>\n",
       "      <td>43802</td>\n",
       "      <td>872315</td>\n",
       "    </tr>\n",
       "    <tr>\n",
       "      <th>household</th>\n",
       "      <td>203776</td>\n",
       "      <td>15161</td>\n",
       "      <td>289573</td>\n",
       "    </tr>\n",
       "    <tr>\n",
       "      <th>international</th>\n",
       "      <td>70901</td>\n",
       "      <td>5162</td>\n",
       "      <td>111138</td>\n",
       "    </tr>\n",
       "    <tr>\n",
       "      <th>meat seafood</th>\n",
       "      <td>194124</td>\n",
       "      <td>13380</td>\n",
       "      <td>288651</td>\n",
       "    </tr>\n",
       "    <tr>\n",
       "      <th>missing</th>\n",
       "      <td>21712</td>\n",
       "      <td>1652</td>\n",
       "      <td>31109</td>\n",
       "    </tr>\n",
       "    <tr>\n",
       "      <th>other</th>\n",
       "      <td>10161</td>\n",
       "      <td>732</td>\n",
       "      <td>14553</td>\n",
       "    </tr>\n",
       "    <tr>\n",
       "      <th>pantry</th>\n",
       "      <td>509212</td>\n",
       "      <td>36790</td>\n",
       "      <td>761871</td>\n",
       "    </tr>\n",
       "    <tr>\n",
       "      <th>personal care</th>\n",
       "      <td>125450</td>\n",
       "      <td>9749</td>\n",
       "      <td>174080</td>\n",
       "    </tr>\n",
       "    <tr>\n",
       "      <th>pets</th>\n",
       "      <td>27206</td>\n",
       "      <td>2232</td>\n",
       "      <td>38713</td>\n",
       "    </tr>\n",
       "    <tr>\n",
       "      <th>produce</th>\n",
       "      <td>2730586</td>\n",
       "      <td>192452</td>\n",
       "      <td>3911906</td>\n",
       "    </tr>\n",
       "    <tr>\n",
       "      <th>snacks</th>\n",
       "      <td>804861</td>\n",
       "      <td>50153</td>\n",
       "      <td>1212456</td>\n",
       "    </tr>\n",
       "  </tbody>\n",
       "</table>\n",
       "</div>"
      ],
      "text/plain": [
       "busiest_period_of_day  Average Orders  Fewest Orders  Most Orders\n",
       "department                                                       \n",
       "alcohol                         34650           1580        66841\n",
       "babies                         138645           8435       170046\n",
       "bakery                         330934          22044       482200\n",
       "beverages                      752259          52113      1120140\n",
       "breakfast                      203104          13166       278579\n",
       "bulk                            10405            698        14901\n",
       "canned goods                   285211          20017       439521\n",
       "dairy eggs                    1574271         103900      2214630\n",
       "deli                           290617          19520       429906\n",
       "dry goods pasta                234749          16015       348860\n",
       "frozen                         622524          43802       872315\n",
       "household                      203776          15161       289573\n",
       "international                   70901           5162       111138\n",
       "meat seafood                   194124          13380       288651\n",
       "missing                         21712           1652        31109\n",
       "other                           10161            732        14553\n",
       "pantry                         509212          36790       761871\n",
       "personal care                  125450           9749       174080\n",
       "pets                            27206           2232        38713\n",
       "produce                       2730586         192452      3911906\n",
       "snacks                         804861          50153      1212456"
      ]
     },
     "execution_count": 119,
     "metadata": {},
     "output_type": "execute_result"
    }
   ],
   "source": [
    "cross_dept_bpday"
   ]
  },
  {
   "cell_type": "code",
   "execution_count": 163,
   "id": "f24ea978",
   "metadata": {},
   "outputs": [
    {
     "data": {
      "image/png": "[encoded data removed]",
      "text/plain": [
       "<Figure size 640x480 with 1 Axes>"
      ]
     },
     "metadata": {},
     "output_type": "display_data"
    }
   ],
   "source": [
    "# plot stacked bar chart\n",
    "cross_dept_bpday.plot(kind='bar')\n",
    "\n",
    "# set chart title and axis labels\n",
    "plt.title('The busiest period of the day by departments')\n",
    "plt.xlabel('Departments')\n",
    "plt.ylabel('frequency (in 100.000)')\n",
    "\n",
    "#save image\n",
    "plt.savefig(os.path.join(path, '04. Analysis', 'Visualizations', 'bar_dept_bpday.png'))\n",
    "\n",
    "# show chart\n",
    "plt.show()"
   ]
  },
  {
   "cell_type": "code",
   "execution_count": 121,
   "id": "2f236392",
   "metadata": {},
   "outputs": [],
   "source": [
    "#create crosstab from 'region' & 'spending_flag' columns\n",
    "cross_reg_spend = pd.crosstab(df_customers['region'], df_customers['Spending_flag'], dropna = False)"
   ]
  },
  {
   "cell_type": "code",
   "execution_count": 122,
   "id": "a6327f86",
   "metadata": {},
   "outputs": [
    {
     "data": {
      "text/html": [
       "<div>\n",
       "<style scoped>\n",
       "    .dataframe tbody tr th:only-of-type {\n",
       "        vertical-align: middle;\n",
       "    }\n",
       "\n",
       "    .dataframe tbody tr th {\n",
       "        vertical-align: top;\n",
       "    }\n",
       "\n",
       "    .dataframe thead th {\n",
       "        text-align: right;\n",
       "    }\n",
       "</style>\n",
       "<table border=\"1\" class=\"dataframe\">\n",
       "  <thead>\n",
       "    <tr style=\"text-align: right;\">\n",
       "      <th>Spending_flag</th>\n",
       "      <th>High spender</th>\n",
       "      <th>Low spender</th>\n",
       "    </tr>\n",
       "    <tr>\n",
       "      <th>region</th>\n",
       "      <th></th>\n",
       "      <th></th>\n",
       "    </tr>\n",
       "  </thead>\n",
       "  <tbody>\n",
       "    <tr>\n",
       "      <th>Midwest</th>\n",
       "      <td>114483</td>\n",
       "      <td>5280604</td>\n",
       "    </tr>\n",
       "    <tr>\n",
       "      <th>Northeast</th>\n",
       "      <td>77314</td>\n",
       "      <td>4012237</td>\n",
       "    </tr>\n",
       "    <tr>\n",
       "      <th>South</th>\n",
       "      <td>148627</td>\n",
       "      <td>7533744</td>\n",
       "    </tr>\n",
       "    <tr>\n",
       "      <th>West</th>\n",
       "      <td>112069</td>\n",
       "      <td>5797022</td>\n",
       "    </tr>\n",
       "  </tbody>\n",
       "</table>\n",
       "</div>"
      ],
      "text/plain": [
       "Spending_flag  High spender  Low spender\n",
       "region                                  \n",
       "Midwest              114483      5280604\n",
       "Northeast             77314      4012237\n",
       "South                148627      7533744\n",
       "West                 112069      5797022"
      ]
     },
     "execution_count": 122,
     "metadata": {},
     "output_type": "execute_result"
    }
   ],
   "source": [
    "cross_reg_spend"
   ]
  },
  {
   "cell_type": "code",
   "execution_count": 164,
   "id": "064da750",
   "metadata": {},
   "outputs": [
    {
     "data": {
      "image/png": "[encoded data removed]",
      "text/plain": [
       "<Figure size 640x480 with 1 Axes>"
      ]
     },
     "metadata": {},
     "output_type": "display_data"
    }
   ],
   "source": [
    "# plot clustered bar chart\n",
    "ax = cross_reg_spend.plot(kind='bar', width=0.8)\n",
    "\n",
    "# add data labels\n",
    "for rect in ax.patches:\n",
    "    x = rect.get_x() + rect.get_width() / 2\n",
    "    y = rect.get_y() + rect.get_height() + 10000\n",
    "    label = f\"{int(rect.get_height()):,}\"\n",
    "    ax.annotate(label, (x, y), ha='center', va='bottom')\n",
    "\n",
    "# set chart title and axis labels\n",
    "ax.set_title('Spending Size by Region')\n",
    "ax.set_xlabel('Region')\n",
    "ax.set_ylabel('Frequency(in millions)')\n",
    "\n",
    "# add legend\n",
    "ax.legend(title='IC Customer by Spending Size')\n",
    "\n",
    "#save image\n",
    "plt.savefig(os.path.join(path, '04. Analysis', 'Visualizations', 'bar_reg_spend.png'))\n",
    "\n",
    "# show chart\n",
    "plt.show()"
   ]
  },
  {
   "cell_type": "markdown",
   "id": "02cc2075",
   "metadata": {},
   "source": [
    "## 9. Exporting Final Data Set"
   ]
  },
  {
   "cell_type": "code",
   "execution_count": 124,
   "id": "2fdad403",
   "metadata": {},
   "outputs": [
    {
     "data": {
      "text/plain": [
       "Index(['user_id', 'gender', 'state', 'age', 'date_joined', 'n_dependants',\n",
       "       'fam_status', 'income', 'product_id', 'product_name', 'aisle_id',\n",
       "       'department_id', 'prices', 'order_id', 'order_number',\n",
       "       'orders_day_of_week', 'order_hour_of_day', 'days_since_prior_order',\n",
       "       'add_to_cart_order', 'reordered', '_merge', 'price_label',\n",
       "       'busiest_day', 'busiest_days', 'busiest_period_of_day', 'max_order',\n",
       "       'loyalty_flag', 'max_prices', 'max_price', 'Spending_flag',\n",
       "       'average_price', 'regularity_of_users_ordering_behavior',\n",
       "       'frequency_flag', 'region', 'exclusion_flag', 'age_group',\n",
       "       'income_group', 'department', 'alcohol_behavior', 'pet_ownership',\n",
       "       'household', 'orders_week', 'orders_day'],\n",
       "      dtype='object')"
      ]
     },
     "execution_count": 124,
     "metadata": {},
     "output_type": "execute_result"
    }
   ],
   "source": [
    "#check colums of final dataset\n",
    "df_customers.columns"
   ]
  },
  {
   "cell_type": "code",
   "execution_count": 125,
   "id": "1b7ecac7",
   "metadata": {},
   "outputs": [
    {
     "data": {
      "text/plain": [
       "(23076100, 43)"
      ]
     },
     "execution_count": 125,
     "metadata": {},
     "output_type": "execute_result"
    }
   ],
   "source": [
    "#check size of final dataset\n",
    "df_customers.shape"
   ]
  },
  {
   "cell_type": "code",
   "execution_count": 126,
   "id": "883b456f",
   "metadata": {},
   "outputs": [],
   "source": [
    "#export dataset as 'final_IC_dataframe' \n",
    "df_customers.to_pickle(os.path.join(path, '02. Data', 'Prepared Data', 'final_IC_dataframe.pkl'))"
   ]
  }
 ],
 "metadata": {
  "kernelspec": {
   "display_name": "Python 3 (ipykernel)",
   "language": "python",
   "name": "python3"
  },
  "language_info": {
   "codemirror_mode": {
    "name": "ipython",
    "version": 3
   },
   "file_extension": ".py",
   "mimetype": "text/x-python",
   "name": "python",
   "nbconvert_exporter": "python",
   "pygments_lexer": "ipython3",
   "version": "3.9.13"
  }
 },
 "nbformat": 4,
 "nbformat_minor": 5
}

{
 "cells": [
  {
   "cell_type": "markdown",
   "id": "9c4ec0a2",
   "metadata": {},
   "source": [
    "## Direction #1"
   ]
  },
  {
   "cell_type": "markdown",
   "id": "5d5244e0",
   "metadata": {},
   "source": [
    "### Importing Libraries"
   ]
  },
  {
   "cell_type": "code",
   "execution_count": 1,
   "id": "689e40b8",
   "metadata": {},
   "outputs": [],
   "source": [
    "#Import libraries\n",
    "import pandas as pd\n",
    "import numpy as np\n",
    "import os\n",
    "import matplotlib.pyplot as plt\n",
    "import seaborn as sns\n",
    "import scipy"
   ]
  },
  {
   "cell_type": "markdown",
   "id": "eafbb6f6",
   "metadata": {},
   "source": [
    "### Importing Data"
   ]
  },
  {
   "cell_type": "code",
   "execution_count": 2,
   "id": "057d4a3c",
   "metadata": {},
   "outputs": [],
   "source": [
    "#Create Path\n",
    "path = r'C:\\Users\\praha\\OneDrive\\Documents\\Python\\02-2023 Instachart Basket Analysis'"
   ]
  },
  {
   "cell_type": "code",
   "execution_count": 3,
   "id": "551c1706",
   "metadata": {},
   "outputs": [],
   "source": [
    "#import dataframe 'customers_orders_products_merged_3.pkl'\n",
    "df_data_merged = pd.read_pickle(os.path.join(path, '02. Data', 'Prepared Data', 'customers_orders_products_merged.pkl'))"
   ]
  },
  {
   "cell_type": "code",
   "execution_count": 4,
   "id": "e8b6f233",
   "metadata": {
    "scrolled": true
   },
   "outputs": [
    {
     "name": "stdout",
     "output_type": "stream",
     "text": [
      "<class 'pandas.core.frame.DataFrame'>\n",
      "Int64Index: 30629741 entries, 0 to 30629740\n",
      "Data columns (total 35 columns):\n",
      " #   Column                                 Dtype   \n",
      "---  ------                                 -----   \n",
      " 0   user_id                                int64   \n",
      " 1   first_name                             object  \n",
      " 2   surname                                object  \n",
      " 3   gender                                 object  \n",
      " 4   state                                  object  \n",
      " 5   age                                    int64   \n",
      " 6   date_joined                            object  \n",
      " 7   n_dependants                           int64   \n",
      " 8   fam_status                             object  \n",
      " 9   income                                 int64   \n",
      " 10  product_id                             int64   \n",
      " 11  product_name                           object  \n",
      " 12  aisle_id                               int64   \n",
      " 13  department_id                          int64   \n",
      " 14  prices                                 float64 \n",
      " 15  order_id                               int64   \n",
      " 16  order_number                           int64   \n",
      " 17  orders_day_of_week                     int64   \n",
      " 18  order_hour_of_day                      int64   \n",
      " 19  days_since_prior_order                 float64 \n",
      " 20  add_to_cart_order                      int64   \n",
      " 21  reordered                              int64   \n",
      " 22  _merge                                 category\n",
      " 23  price_label                            object  \n",
      " 24  busiest_day                            object  \n",
      " 25  busiest_days                           object  \n",
      " 26  busiest_period_of_day                  object  \n",
      " 27  max_order                              int64   \n",
      " 28  loyalty_flag                           object  \n",
      " 29  max_prices                             float64 \n",
      " 30  max_price                              float64 \n",
      " 31  Spending_flag                          object  \n",
      " 32  average_price                          float64 \n",
      " 33  regularity_of_users_ordering_behavior  float64 \n",
      " 34  frequency_flag                         object  \n",
      "dtypes: category(1), float64(6), int64(14), object(14)\n",
      "memory usage: 8.0+ GB\n"
     ]
    }
   ],
   "source": [
    "df_data_merged.info()"
   ]
  },
  {
   "cell_type": "markdown",
   "id": "34669f78",
   "metadata": {},
   "source": [
    "## Direction #2"
   ]
  },
  {
   "cell_type": "markdown",
   "id": "a93f81f2",
   "metadata": {},
   "source": [
    "### Creating Bar Charts"
   ]
  },
  {
   "cell_type": "code",
   "execution_count": 5,
   "id": "505f1e6a",
   "metadata": {},
   "outputs": [
    {
     "data": {
      "text/plain": [
       "<AxesSubplot:>"
      ]
     },
     "execution_count": 5,
     "metadata": {},
     "output_type": "execute_result"
    },
    {
     "data": {
      "image/png": "[encoded data removed]",
      "text/plain": [
       "<Figure size 640x480 with 1 Axes>"
      ]
     },
     "metadata": {},
     "output_type": "display_data"
    }
   ],
   "source": [
    "#Create bar charts from 'orders_day_of_week'\n",
    "df_data_merged['orders_day_of_week'].value_counts().plot.bar()"
   ]
  },
  {
   "cell_type": "code",
   "execution_count": 6,
   "id": "409c316a",
   "metadata": {
    "scrolled": true
   },
   "outputs": [
    {
     "data": {
      "image/png": "[encoded data removed]",
      "text/plain": [
       "<Figure size 640x480 with 1 Axes>"
      ]
     },
     "metadata": {},
     "output_type": "display_data"
    }
   ],
   "source": [
    "#Create bar charts from 'orders_day_of_week' sorted by index\n",
    "bar_1 = df_data_merged['orders_day_of_week'].value_counts().sort_index().plot.bar()"
   ]
  },
  {
   "cell_type": "code",
   "execution_count": 7,
   "id": "5170e900",
   "metadata": {},
   "outputs": [],
   "source": [
    "# save the bar charts\n",
    "bar_1.figure.savefig(os.path.join(path, '04. Analysis', 'Visualizations', 'bar_orders_day_of_week.png'))"
   ]
  },
  {
   "cell_type": "markdown",
   "id": "55a8fb00",
   "metadata": {},
   "source": [
    "### Creating Histograms and Scatterplots"
   ]
  },
  {
   "cell_type": "markdown",
   "id": "4aa06ff2",
   "metadata": {},
   "source": [
    "#### Creating Scatterplot of the 'prices' column"
   ]
  },
  {
   "cell_type": "code",
   "execution_count": 8,
   "id": "37a35cdb",
   "metadata": {},
   "outputs": [
    {
     "data": {
      "text/plain": [
       "<AxesSubplot:ylabel='Frequency'>"
      ]
     },
     "execution_count": 8,
     "metadata": {},
     "output_type": "execute_result"
    },
    {
     "data": {
      "image/png": "[encoded data removed]",
      "text/plain": [
       "<Figure size 640x480 with 1 Axes>"
      ]
     },
     "metadata": {},
     "output_type": "display_data"
    }
   ],
   "source": [
    "#create histogram of the 'prices' column\n",
    "df_data_merged['prices'].plot.hist(bins = 25)"
   ]
  },
  {
   "cell_type": "code",
   "execution_count": 9,
   "id": "a76bb95a",
   "metadata": {},
   "outputs": [
    {
     "data": {
      "image/png": "[encoded data removed]",
      "text/plain": [
       "<Figure size 640x480 with 1 Axes>"
      ]
     },
     "metadata": {},
     "output_type": "display_data"
    }
   ],
   "source": [
    "#create scatterplot of the 'prices' column\n",
    "scatterplot_1 = sns.scatterplot(x = 'prices', y = 'prices', data = df_data_merged)"
   ]
  },
  {
   "cell_type": "code",
   "execution_count": 11,
   "id": "876a4850",
   "metadata": {},
   "outputs": [],
   "source": [
    "# save the scatterplot\n",
    "scatterplot_1.figure.savefig(os.path.join(path, '04. Analysis', 'Visualizations', 'scatterplot_prices.png'))"
   ]
  },
  {
   "cell_type": "markdown",
   "id": "9fd2580c",
   "metadata": {},
   "source": [
    "#### Creating Histogram of the 'prices' column"
   ]
  },
  {
   "cell_type": "code",
   "execution_count": 12,
   "id": "67f3d3f8",
   "metadata": {},
   "outputs": [],
   "source": [
    "#mark the values more than 100 as 'NaN'\n",
    "df_data_merged.loc[df_data_merged['prices'] > 100, 'prices'] = np.nan"
   ]
  },
  {
   "cell_type": "code",
   "execution_count": 13,
   "id": "50e29c06",
   "metadata": {},
   "outputs": [
    {
     "data": {
      "text/plain": [
       "25.0"
      ]
     },
     "execution_count": 13,
     "metadata": {},
     "output_type": "execute_result"
    }
   ],
   "source": [
    "df_data_merged['prices'].max()"
   ]
  },
  {
   "cell_type": "code",
   "execution_count": 14,
   "id": "7c5c7372",
   "metadata": {},
   "outputs": [
    {
     "data": {
      "text/plain": [
       "<AxesSubplot:ylabel='Frequency'>"
      ]
     },
     "execution_count": 14,
     "metadata": {},
     "output_type": "execute_result"
    },
    {
     "data": {
      "image/png": "[encoded data removed]",
      "text/plain": [
       "<Figure size 640x480 with 1 Axes>"
      ]
     },
     "metadata": {},
     "output_type": "display_data"
    }
   ],
   "source": [
    "df_data_merged['prices'].plot.hist(bins = 25)"
   ]
  },
  {
   "cell_type": "code",
   "execution_count": 15,
   "id": "8afd72bb",
   "metadata": {},
   "outputs": [
    {
     "data": {
      "image/png": "[encoded data removed]",
      "text/plain": [
       "<Figure size 640x480 with 1 Axes>"
      ]
     },
     "metadata": {},
     "output_type": "display_data"
    }
   ],
   "source": [
    "hist_1 = df_data_merged['prices'].plot.hist(bins = 75)"
   ]
  },
  {
   "cell_type": "code",
   "execution_count": 17,
   "id": "4f8272d9",
   "metadata": {},
   "outputs": [],
   "source": [
    "# save the histogram\n",
    "hist_1.figure.savefig(os.path.join(path, '04. Analysis', 'Visualizations', 'hist_prices.png'))"
   ]
  },
  {
   "cell_type": "markdown",
   "id": "c14d8d0d",
   "metadata": {},
   "source": [
    "### Creating Line Charts"
   ]
  },
  {
   "cell_type": "code",
   "execution_count": 18,
   "id": "9de08ab6",
   "metadata": {},
   "outputs": [],
   "source": [
    "#create a list holding true/False values to the test np.random.rant() <= 0.7\n",
    "np.random.seed(4)\n",
    "dev = np.random.rand(len(df_data_merged)) <= 0.7"
   ]
  },
  {
   "cell_type": "code",
   "execution_count": 19,
   "id": "76ee1b70",
   "metadata": {},
   "outputs": [
    {
     "data": {
      "text/plain": [
       "array([False,  True, False, ..., False,  True,  True])"
      ]
     },
     "execution_count": 19,
     "metadata": {},
     "output_type": "execute_result"
    }
   ],
   "source": [
    "dev"
   ]
  },
  {
   "cell_type": "code",
   "execution_count": 20,
   "id": "76297af8",
   "metadata": {},
   "outputs": [
    {
     "data": {
      "text/plain": [
       "array([0.53426058, 0.1164678 , 0.14395424, 0.78195852, 0.62353212,\n",
       "       0.48137107, 0.86283216, 0.66335623, 0.51869021, 0.1310415 ])"
      ]
     },
     "execution_count": 20,
     "metadata": {},
     "output_type": "execute_result"
    }
   ],
   "source": [
    "np.random.rand(10)"
   ]
  },
  {
   "cell_type": "code",
   "execution_count": 21,
   "id": "b9bafd6e",
   "metadata": {},
   "outputs": [],
   "source": [
    "#store 70% of the sample in the dataframe big\n",
    "big = df_data_merged[dev]"
   ]
  },
  {
   "cell_type": "code",
   "execution_count": 22,
   "id": "a6aaf0bb",
   "metadata": {},
   "outputs": [],
   "source": [
    "#store 30% of the sample in the dataframe small\n",
    "small = df_data_merged[~dev]"
   ]
  },
  {
   "cell_type": "code",
   "execution_count": 23,
   "id": "42045fe0",
   "metadata": {},
   "outputs": [
    {
     "data": {
      "text/plain": [
       "30629741"
      ]
     },
     "execution_count": 23,
     "metadata": {},
     "output_type": "execute_result"
    }
   ],
   "source": [
    "len(df_data_merged)"
   ]
  },
  {
   "cell_type": "code",
   "execution_count": 24,
   "id": "785f067d",
   "metadata": {},
   "outputs": [
    {
     "data": {
      "text/plain": [
       "30629741"
      ]
     },
     "execution_count": 24,
     "metadata": {},
     "output_type": "execute_result"
    }
   ],
   "source": [
    "len(big) + len(small)"
   ]
  },
  {
   "cell_type": "code",
   "execution_count": null,
   "id": "b8caef87",
   "metadata": {},
   "outputs": [],
   "source": [
    "df_2 = small[['orders_day_of_week','prices']]"
   ]
  },
  {
   "cell_type": "code",
   "execution_count": null,
   "id": "df9e5355",
   "metadata": {},
   "outputs": [],
   "source": [
    "line = sns.lineplot(data = df_2, x = 'orders_day_of_week', y = 'prices')"
   ]
  },
  {
   "cell_type": "code",
   "execution_count": null,
   "id": "4902a36c",
   "metadata": {},
   "outputs": [],
   "source": [
    "# save the histogram\n",
    "line.savefig(os.path.join(path, '04. Analysis', 'Visualizations', 'line_prices_vs_order_day_of_week.png'))"
   ]
  },
  {
   "cell_type": "code",
   "execution_count": null,
   "id": "929c9f22",
   "metadata": {},
   "outputs": [],
   "source": [
    "df_4 = df_data_merged[['orders_day_of_week','prices']]"
   ]
  },
  {
   "cell_type": "code",
   "execution_count": null,
   "id": "98cbaf60",
   "metadata": {},
   "outputs": [],
   "source": [
    "#line_2 = sns.lineplot(data = df_4, x = 'orders_day_of_week', y ='prices')"
   ]
  },
  {
   "cell_type": "markdown",
   "id": "97785135",
   "metadata": {},
   "source": [
    "## Direction #3"
   ]
  },
  {
   "cell_type": "markdown",
   "id": "f0854b9e",
   "metadata": {},
   "source": [
    "### Creating Histogram of the 'order_hour_of_day' column"
   ]
  },
  {
   "cell_type": "code",
   "execution_count": null,
   "id": "c00de71f",
   "metadata": {},
   "outputs": [],
   "source": [
    "#create histogram of the 'order_hour_of_day' column\n",
    "hist_2 = df_data_merged['order_hour_of_day'].plot.hist(bins = 25)"
   ]
  },
  {
   "cell_type": "code",
   "execution_count": null,
   "id": "6846bcdd",
   "metadata": {},
   "outputs": [],
   "source": [
    "# save the histogram\n",
    "hist_2.figure.savefig(os.path.join(path, '04. Analysis', 'Visualizations', 'hist_order_hour_of_day.png'))"
   ]
  },
  {
   "cell_type": "code",
   "execution_count": null,
   "id": "76780dec",
   "metadata": {},
   "outputs": [],
   "source": [
    "hist_2_75 = df_data_merged['order_hour_of_day'].plot.hist(bins = 75)"
   ]
  },
  {
   "cell_type": "code",
   "execution_count": null,
   "id": "e7f53a51",
   "metadata": {},
   "outputs": [],
   "source": [
    "#print the frequency of 'order_hour_of_day'\n",
    "df_data_merged['order_hour_of_day'].value_counts().sort_index()"
   ]
  },
  {
   "cell_type": "code",
   "execution_count": null,
   "id": "eb7a3ddc",
   "metadata": {},
   "outputs": [],
   "source": [
    "df_data_merged['order_hour_of_day'].describe()"
   ]
  },
  {
   "cell_type": "markdown",
   "id": "dd173970",
   "metadata": {},
   "source": [
    "Analysis: The 'order_hour_of_day' column has a normal distribution because mean and median value are almost the same (1.34e+01 and 1.30e+1). The order peak are at 10 a.m (2609878 orders) and the most bussiest hours are in the range between 8 a.m and 6 p.m. "
   ]
  },
  {
   "cell_type": "markdown",
   "id": "df0c19d3",
   "metadata": {},
   "source": [
    "## Direction #4"
   ]
  },
  {
   "cell_type": "markdown",
   "id": "ad844724",
   "metadata": {},
   "source": [
    "### Creating a bar chart from the 'loyalty_flag' column"
   ]
  },
  {
   "cell_type": "code",
   "execution_count": null,
   "id": "735cc967",
   "metadata": {},
   "outputs": [],
   "source": [
    "#print the frequency of 'loyalty_flag'\n",
    "df_data_merged['loyalty_flag'].value_counts()"
   ]
  },
  {
   "cell_type": "code",
   "execution_count": null,
   "id": "a9dac29c",
   "metadata": {},
   "outputs": [],
   "source": [
    "#Create bar charts from 'loyalty_flag'\n",
    "bar_loyalty_flag = df_data_merged['loyalty_flag'].value_counts().plot.bar()"
   ]
  },
  {
   "cell_type": "code",
   "execution_count": null,
   "id": "969a738e",
   "metadata": {},
   "outputs": [],
   "source": [
    "# save the bar chart\n",
    "bar_loyalty_flag.figure.savefig(os.path.join(path, '04. Analysis', 'Visualizations', 'bar_loyalty_flag'))"
   ]
  },
  {
   "cell_type": "markdown",
   "id": "e2f02171",
   "metadata": {},
   "source": [
    "## Direction #5"
   ]
  },
  {
   "cell_type": "markdown",
   "id": "095d5c20",
   "metadata": {},
   "source": [
    "### Creating a line chart from the 'prices' column and the 'order_hour_of_the_day' column"
   ]
  },
  {
   "cell_type": "code",
   "execution_count": null,
   "id": "78c3220a",
   "metadata": {},
   "outputs": [],
   "source": [
    "df_5 = small[['order_hour_of_day','prices']]"
   ]
  },
  {
   "cell_type": "code",
   "execution_count": null,
   "id": "6e504dd1",
   "metadata": {},
   "outputs": [],
   "source": [
    "#create a line chart \n",
    "line_5 = sns.lineplot(data = df_5, x = 'order_hour_of_day', y = 'prices')"
   ]
  },
  {
   "cell_type": "code",
   "execution_count": null,
   "id": "8b1769ff",
   "metadata": {},
   "outputs": [],
   "source": [
    "#save the line chart\n",
    "line_5.figure.savefig(os.path.join(path, '04. Analysis', 'Visualizations', 'line_prices_vs_order_hour_of_day'))"
   ]
  },
  {
   "cell_type": "markdown",
   "id": "aa9d73a1",
   "metadata": {},
   "source": [
    "## Direction #6"
   ]
  },
  {
   "cell_type": "markdown",
   "id": "eb79f98c",
   "metadata": {},
   "source": [
    "### Creating a line chart from age and n_dependants"
   ]
  },
  {
   "cell_type": "code",
   "execution_count": 25,
   "id": "922a8d8e",
   "metadata": {},
   "outputs": [
    {
     "data": {
      "text/plain": [
       "18    472863\n",
       "19    491977\n",
       "20    478887\n",
       "21    485541\n",
       "22    483586\n",
       "       ...  \n",
       "77    474757\n",
       "78    471533\n",
       "79    498415\n",
       "80    482775\n",
       "81    478367\n",
       "Name: age, Length: 64, dtype: int64"
      ]
     },
     "execution_count": 25,
     "metadata": {},
     "output_type": "execute_result"
    }
   ],
   "source": [
    "#print the frequency of 'age'\n",
    "df_data_merged['age'].value_counts().sort_index()"
   ]
  },
  {
   "cell_type": "code",
   "execution_count": 26,
   "id": "a8548583",
   "metadata": {},
   "outputs": [
    {
     "data": {
      "text/plain": [
       "0    7649698\n",
       "1    7643067\n",
       "2    7656940\n",
       "3    7680036\n",
       "Name: n_dependants, dtype: int64"
      ]
     },
     "execution_count": 26,
     "metadata": {},
     "output_type": "execute_result"
    }
   ],
   "source": [
    "#print the frequency of 'n_dependants'\n",
    "df_data_merged['n_dependants'].value_counts().sort_index()"
   ]
  },
  {
   "cell_type": "code",
   "execution_count": 27,
   "id": "969879c3",
   "metadata": {},
   "outputs": [],
   "source": [
    "df_6 = small[['age','n_dependants']]"
   ]
  },
  {
   "cell_type": "code",
   "execution_count": 28,
   "id": "4d721dc9",
   "metadata": {},
   "outputs": [
    {
     "data": {
      "image/png": "[encoded data removed]",
      "text/plain": [
       "<Figure size 640x480 with 1 Axes>"
      ]
     },
     "metadata": {},
     "output_type": "display_data"
    }
   ],
   "source": [
    "#create a line chart \n",
    "line_6 = sns.lineplot(data = df_6, x = 'age', y = 'n_dependants')"
   ]
  },
  {
   "cell_type": "code",
   "execution_count": 30,
   "id": "3055ff6f",
   "metadata": {},
   "outputs": [],
   "source": [
    "#save the line chart\n",
    "line_6.figure.savefig(os.path.join(path, '04. Analysis', 'Visualizations', 'line_age(x)_vs_n_dependants(y)'))"
   ]
  },
  {
   "cell_type": "code",
   "execution_count": 31,
   "id": "db351cca",
   "metadata": {},
   "outputs": [
    {
     "data": {
      "image/png": "[encoded data removed]",
      "text/plain": [
       "<Figure size 640x480 with 1 Axes>"
      ]
     },
     "metadata": {},
     "output_type": "display_data"
    }
   ],
   "source": [
    "#create a line chart \n",
    "line_7 = sns.lineplot(data = df_6, x = 'n_dependants', y = 'age')"
   ]
  },
  {
   "cell_type": "code",
   "execution_count": 33,
   "id": "44aa5008",
   "metadata": {},
   "outputs": [],
   "source": [
    "#save the line chart\n",
    "line_7.figure.savefig(os.path.join(path, '04. Analysis', 'Visualizations', 'line_n_dependants(x)_vs_age(y)'))"
   ]
  },
  {
   "cell_type": "code",
   "execution_count": 35,
   "id": "ec0f07d3",
   "metadata": {},
   "outputs": [],
   "source": [
    "pd.options.display.max_rows = None"
   ]
  },
  {
   "cell_type": "code",
   "execution_count": 36,
   "id": "487fef5d",
   "metadata": {},
   "outputs": [
    {
     "data": {
      "text/html": [
       "<div>\n",
       "<style scoped>\n",
       "    .dataframe tbody tr th:only-of-type {\n",
       "        vertical-align: middle;\n",
       "    }\n",
       "\n",
       "    .dataframe tbody tr th {\n",
       "        vertical-align: top;\n",
       "    }\n",
       "\n",
       "    .dataframe thead tr th {\n",
       "        text-align: left;\n",
       "    }\n",
       "\n",
       "    .dataframe thead tr:last-of-type th {\n",
       "        text-align: right;\n",
       "    }\n",
       "</style>\n",
       "<table border=\"1\" class=\"dataframe\">\n",
       "  <thead>\n",
       "    <tr>\n",
       "      <th></th>\n",
       "      <th colspan=\"4\" halign=\"left\">n_dependants</th>\n",
       "    </tr>\n",
       "    <tr>\n",
       "      <th></th>\n",
       "      <th>mean</th>\n",
       "      <th>min</th>\n",
       "      <th>max</th>\n",
       "      <th>count</th>\n",
       "    </tr>\n",
       "    <tr>\n",
       "      <th>age</th>\n",
       "      <th></th>\n",
       "      <th></th>\n",
       "      <th></th>\n",
       "      <th></th>\n",
       "    </tr>\n",
       "  </thead>\n",
       "  <tbody>\n",
       "    <tr>\n",
       "      <th>18</th>\n",
       "      <td>1.510575</td>\n",
       "      <td>0</td>\n",
       "      <td>3</td>\n",
       "      <td>472863</td>\n",
       "    </tr>\n",
       "    <tr>\n",
       "      <th>19</th>\n",
       "      <td>1.568071</td>\n",
       "      <td>0</td>\n",
       "      <td>3</td>\n",
       "      <td>491977</td>\n",
       "    </tr>\n",
       "    <tr>\n",
       "      <th>20</th>\n",
       "      <td>1.470637</td>\n",
       "      <td>0</td>\n",
       "      <td>3</td>\n",
       "      <td>478887</td>\n",
       "    </tr>\n",
       "    <tr>\n",
       "      <th>21</th>\n",
       "      <td>1.495559</td>\n",
       "      <td>0</td>\n",
       "      <td>3</td>\n",
       "      <td>485541</td>\n",
       "    </tr>\n",
       "    <tr>\n",
       "      <th>22</th>\n",
       "      <td>1.468727</td>\n",
       "      <td>0</td>\n",
       "      <td>3</td>\n",
       "      <td>483586</td>\n",
       "    </tr>\n",
       "    <tr>\n",
       "      <th>23</th>\n",
       "      <td>1.542729</td>\n",
       "      <td>0</td>\n",
       "      <td>3</td>\n",
       "      <td>492360</td>\n",
       "    </tr>\n",
       "    <tr>\n",
       "      <th>24</th>\n",
       "      <td>1.528990</td>\n",
       "      <td>0</td>\n",
       "      <td>3</td>\n",
       "      <td>476657</td>\n",
       "    </tr>\n",
       "    <tr>\n",
       "      <th>25</th>\n",
       "      <td>1.444538</td>\n",
       "      <td>0</td>\n",
       "      <td>3</td>\n",
       "      <td>443622</td>\n",
       "    </tr>\n",
       "    <tr>\n",
       "      <th>26</th>\n",
       "      <td>1.503551</td>\n",
       "      <td>0</td>\n",
       "      <td>3</td>\n",
       "      <td>480907</td>\n",
       "    </tr>\n",
       "    <tr>\n",
       "      <th>27</th>\n",
       "      <td>1.460473</td>\n",
       "      <td>0</td>\n",
       "      <td>3</td>\n",
       "      <td>490528</td>\n",
       "    </tr>\n",
       "    <tr>\n",
       "      <th>28</th>\n",
       "      <td>1.552947</td>\n",
       "      <td>0</td>\n",
       "      <td>3</td>\n",
       "      <td>461422</td>\n",
       "    </tr>\n",
       "    <tr>\n",
       "      <th>29</th>\n",
       "      <td>1.508954</td>\n",
       "      <td>0</td>\n",
       "      <td>3</td>\n",
       "      <td>491862</td>\n",
       "    </tr>\n",
       "    <tr>\n",
       "      <th>30</th>\n",
       "      <td>1.531160</td>\n",
       "      <td>0</td>\n",
       "      <td>3</td>\n",
       "      <td>481032</td>\n",
       "    </tr>\n",
       "    <tr>\n",
       "      <th>31</th>\n",
       "      <td>1.518789</td>\n",
       "      <td>0</td>\n",
       "      <td>3</td>\n",
       "      <td>498374</td>\n",
       "    </tr>\n",
       "    <tr>\n",
       "      <th>32</th>\n",
       "      <td>1.512667</td>\n",
       "      <td>0</td>\n",
       "      <td>3</td>\n",
       "      <td>467682</td>\n",
       "    </tr>\n",
       "    <tr>\n",
       "      <th>33</th>\n",
       "      <td>1.476198</td>\n",
       "      <td>0</td>\n",
       "      <td>3</td>\n",
       "      <td>460243</td>\n",
       "    </tr>\n",
       "    <tr>\n",
       "      <th>34</th>\n",
       "      <td>1.497416</td>\n",
       "      <td>0</td>\n",
       "      <td>3</td>\n",
       "      <td>481705</td>\n",
       "    </tr>\n",
       "    <tr>\n",
       "      <th>35</th>\n",
       "      <td>1.541474</td>\n",
       "      <td>0</td>\n",
       "      <td>3</td>\n",
       "      <td>487885</td>\n",
       "    </tr>\n",
       "    <tr>\n",
       "      <th>36</th>\n",
       "      <td>1.482176</td>\n",
       "      <td>0</td>\n",
       "      <td>3</td>\n",
       "      <td>460004</td>\n",
       "    </tr>\n",
       "    <tr>\n",
       "      <th>37</th>\n",
       "      <td>1.521329</td>\n",
       "      <td>0</td>\n",
       "      <td>3</td>\n",
       "      <td>476532</td>\n",
       "    </tr>\n",
       "    <tr>\n",
       "      <th>38</th>\n",
       "      <td>1.511530</td>\n",
       "      <td>0</td>\n",
       "      <td>3</td>\n",
       "      <td>495140</td>\n",
       "    </tr>\n",
       "    <tr>\n",
       "      <th>39</th>\n",
       "      <td>1.459060</td>\n",
       "      <td>0</td>\n",
       "      <td>3</td>\n",
       "      <td>486851</td>\n",
       "    </tr>\n",
       "    <tr>\n",
       "      <th>40</th>\n",
       "      <td>1.472431</td>\n",
       "      <td>0</td>\n",
       "      <td>3</td>\n",
       "      <td>477479</td>\n",
       "    </tr>\n",
       "    <tr>\n",
       "      <th>41</th>\n",
       "      <td>1.473663</td>\n",
       "      <td>0</td>\n",
       "      <td>3</td>\n",
       "      <td>447823</td>\n",
       "    </tr>\n",
       "    <tr>\n",
       "      <th>42</th>\n",
       "      <td>1.510473</td>\n",
       "      <td>0</td>\n",
       "      <td>3</td>\n",
       "      <td>478682</td>\n",
       "    </tr>\n",
       "    <tr>\n",
       "      <th>43</th>\n",
       "      <td>1.494121</td>\n",
       "      <td>0</td>\n",
       "      <td>3</td>\n",
       "      <td>493430</td>\n",
       "    </tr>\n",
       "    <tr>\n",
       "      <th>44</th>\n",
       "      <td>1.489525</td>\n",
       "      <td>0</td>\n",
       "      <td>3</td>\n",
       "      <td>488163</td>\n",
       "    </tr>\n",
       "    <tr>\n",
       "      <th>45</th>\n",
       "      <td>1.523941</td>\n",
       "      <td>0</td>\n",
       "      <td>3</td>\n",
       "      <td>480064</td>\n",
       "    </tr>\n",
       "    <tr>\n",
       "      <th>46</th>\n",
       "      <td>1.477179</td>\n",
       "      <td>0</td>\n",
       "      <td>3</td>\n",
       "      <td>468007</td>\n",
       "    </tr>\n",
       "    <tr>\n",
       "      <th>47</th>\n",
       "      <td>1.526725</td>\n",
       "      <td>0</td>\n",
       "      <td>3</td>\n",
       "      <td>483609</td>\n",
       "    </tr>\n",
       "    <tr>\n",
       "      <th>48</th>\n",
       "      <td>1.508892</td>\n",
       "      <td>0</td>\n",
       "      <td>3</td>\n",
       "      <td>500821</td>\n",
       "    </tr>\n",
       "    <tr>\n",
       "      <th>49</th>\n",
       "      <td>1.507850</td>\n",
       "      <td>0</td>\n",
       "      <td>3</td>\n",
       "      <td>497822</td>\n",
       "    </tr>\n",
       "    <tr>\n",
       "      <th>50</th>\n",
       "      <td>1.519894</td>\n",
       "      <td>0</td>\n",
       "      <td>3</td>\n",
       "      <td>462985</td>\n",
       "    </tr>\n",
       "    <tr>\n",
       "      <th>51</th>\n",
       "      <td>1.536981</td>\n",
       "      <td>0</td>\n",
       "      <td>3</td>\n",
       "      <td>488470</td>\n",
       "    </tr>\n",
       "    <tr>\n",
       "      <th>52</th>\n",
       "      <td>1.470909</td>\n",
       "      <td>0</td>\n",
       "      <td>3</td>\n",
       "      <td>476260</td>\n",
       "    </tr>\n",
       "    <tr>\n",
       "      <th>53</th>\n",
       "      <td>1.490514</td>\n",
       "      <td>0</td>\n",
       "      <td>3</td>\n",
       "      <td>471177</td>\n",
       "    </tr>\n",
       "    <tr>\n",
       "      <th>54</th>\n",
       "      <td>1.525348</td>\n",
       "      <td>0</td>\n",
       "      <td>3</td>\n",
       "      <td>495963</td>\n",
       "    </tr>\n",
       "    <tr>\n",
       "      <th>55</th>\n",
       "      <td>1.460087</td>\n",
       "      <td>0</td>\n",
       "      <td>3</td>\n",
       "      <td>490662</td>\n",
       "    </tr>\n",
       "    <tr>\n",
       "      <th>56</th>\n",
       "      <td>1.504836</td>\n",
       "      <td>0</td>\n",
       "      <td>3</td>\n",
       "      <td>498707</td>\n",
       "    </tr>\n",
       "    <tr>\n",
       "      <th>57</th>\n",
       "      <td>1.493215</td>\n",
       "      <td>0</td>\n",
       "      <td>3</td>\n",
       "      <td>472668</td>\n",
       "    </tr>\n",
       "    <tr>\n",
       "      <th>58</th>\n",
       "      <td>1.466344</td>\n",
       "      <td>0</td>\n",
       "      <td>3</td>\n",
       "      <td>475741</td>\n",
       "    </tr>\n",
       "    <tr>\n",
       "      <th>59</th>\n",
       "      <td>1.458563</td>\n",
       "      <td>0</td>\n",
       "      <td>3</td>\n",
       "      <td>471687</td>\n",
       "    </tr>\n",
       "    <tr>\n",
       "      <th>60</th>\n",
       "      <td>1.583946</td>\n",
       "      <td>0</td>\n",
       "      <td>3</td>\n",
       "      <td>458818</td>\n",
       "    </tr>\n",
       "    <tr>\n",
       "      <th>61</th>\n",
       "      <td>1.429138</td>\n",
       "      <td>0</td>\n",
       "      <td>3</td>\n",
       "      <td>464699</td>\n",
       "    </tr>\n",
       "    <tr>\n",
       "      <th>62</th>\n",
       "      <td>1.532012</td>\n",
       "      <td>0</td>\n",
       "      <td>3</td>\n",
       "      <td>471803</td>\n",
       "    </tr>\n",
       "    <tr>\n",
       "      <th>63</th>\n",
       "      <td>1.472047</td>\n",
       "      <td>0</td>\n",
       "      <td>3</td>\n",
       "      <td>472942</td>\n",
       "    </tr>\n",
       "    <tr>\n",
       "      <th>64</th>\n",
       "      <td>1.464309</td>\n",
       "      <td>0</td>\n",
       "      <td>3</td>\n",
       "      <td>498028</td>\n",
       "    </tr>\n",
       "    <tr>\n",
       "      <th>65</th>\n",
       "      <td>1.505021</td>\n",
       "      <td>0</td>\n",
       "      <td>3</td>\n",
       "      <td>452920</td>\n",
       "    </tr>\n",
       "    <tr>\n",
       "      <th>66</th>\n",
       "      <td>1.564827</td>\n",
       "      <td>0</td>\n",
       "      <td>3</td>\n",
       "      <td>451409</td>\n",
       "    </tr>\n",
       "    <tr>\n",
       "      <th>67</th>\n",
       "      <td>1.467074</td>\n",
       "      <td>0</td>\n",
       "      <td>3</td>\n",
       "      <td>463909</td>\n",
       "    </tr>\n",
       "    <tr>\n",
       "      <th>68</th>\n",
       "      <td>1.564103</td>\n",
       "      <td>0</td>\n",
       "      <td>3</td>\n",
       "      <td>497907</td>\n",
       "    </tr>\n",
       "    <tr>\n",
       "      <th>69</th>\n",
       "      <td>1.502963</td>\n",
       "      <td>0</td>\n",
       "      <td>3</td>\n",
       "      <td>485501</td>\n",
       "    </tr>\n",
       "    <tr>\n",
       "      <th>70</th>\n",
       "      <td>1.492471</td>\n",
       "      <td>0</td>\n",
       "      <td>3</td>\n",
       "      <td>478319</td>\n",
       "    </tr>\n",
       "    <tr>\n",
       "      <th>71</th>\n",
       "      <td>1.533481</td>\n",
       "      <td>0</td>\n",
       "      <td>3</td>\n",
       "      <td>459207</td>\n",
       "    </tr>\n",
       "    <tr>\n",
       "      <th>72</th>\n",
       "      <td>1.520758</td>\n",
       "      <td>0</td>\n",
       "      <td>3</td>\n",
       "      <td>478875</td>\n",
       "    </tr>\n",
       "    <tr>\n",
       "      <th>73</th>\n",
       "      <td>1.496552</td>\n",
       "      <td>0</td>\n",
       "      <td>3</td>\n",
       "      <td>496109</td>\n",
       "    </tr>\n",
       "    <tr>\n",
       "      <th>74</th>\n",
       "      <td>1.531565</td>\n",
       "      <td>0</td>\n",
       "      <td>3</td>\n",
       "      <td>464220</td>\n",
       "    </tr>\n",
       "    <tr>\n",
       "      <th>75</th>\n",
       "      <td>1.455954</td>\n",
       "      <td>0</td>\n",
       "      <td>3</td>\n",
       "      <td>492188</td>\n",
       "    </tr>\n",
       "    <tr>\n",
       "      <th>76</th>\n",
       "      <td>1.512304</td>\n",
       "      <td>0</td>\n",
       "      <td>3</td>\n",
       "      <td>471160</td>\n",
       "    </tr>\n",
       "    <tr>\n",
       "      <th>77</th>\n",
       "      <td>1.516393</td>\n",
       "      <td>0</td>\n",
       "      <td>3</td>\n",
       "      <td>474757</td>\n",
       "    </tr>\n",
       "    <tr>\n",
       "      <th>78</th>\n",
       "      <td>1.435486</td>\n",
       "      <td>0</td>\n",
       "      <td>3</td>\n",
       "      <td>471533</td>\n",
       "    </tr>\n",
       "    <tr>\n",
       "      <th>79</th>\n",
       "      <td>1.529703</td>\n",
       "      <td>0</td>\n",
       "      <td>3</td>\n",
       "      <td>498415</td>\n",
       "    </tr>\n",
       "    <tr>\n",
       "      <th>80</th>\n",
       "      <td>1.519428</td>\n",
       "      <td>0</td>\n",
       "      <td>3</td>\n",
       "      <td>482775</td>\n",
       "    </tr>\n",
       "    <tr>\n",
       "      <th>81</th>\n",
       "      <td>1.455004</td>\n",
       "      <td>0</td>\n",
       "      <td>3</td>\n",
       "      <td>478367</td>\n",
       "    </tr>\n",
       "  </tbody>\n",
       "</table>\n",
       "</div>"
      ],
      "text/plain": [
       "    n_dependants                \n",
       "            mean min max   count\n",
       "age                             \n",
       "18      1.510575   0   3  472863\n",
       "19      1.568071   0   3  491977\n",
       "20      1.470637   0   3  478887\n",
       "21      1.495559   0   3  485541\n",
       "22      1.468727   0   3  483586\n",
       "23      1.542729   0   3  492360\n",
       "24      1.528990   0   3  476657\n",
       "25      1.444538   0   3  443622\n",
       "26      1.503551   0   3  480907\n",
       "27      1.460473   0   3  490528\n",
       "28      1.552947   0   3  461422\n",
       "29      1.508954   0   3  491862\n",
       "30      1.531160   0   3  481032\n",
       "31      1.518789   0   3  498374\n",
       "32      1.512667   0   3  467682\n",
       "33      1.476198   0   3  460243\n",
       "34      1.497416   0   3  481705\n",
       "35      1.541474   0   3  487885\n",
       "36      1.482176   0   3  460004\n",
       "37      1.521329   0   3  476532\n",
       "38      1.511530   0   3  495140\n",
       "39      1.459060   0   3  486851\n",
       "40      1.472431   0   3  477479\n",
       "41      1.473663   0   3  447823\n",
       "42      1.510473   0   3  478682\n",
       "43      1.494121   0   3  493430\n",
       "44      1.489525   0   3  488163\n",
       "45      1.523941   0   3  480064\n",
       "46      1.477179   0   3  468007\n",
       "47      1.526725   0   3  483609\n",
       "48      1.508892   0   3  500821\n",
       "49      1.507850   0   3  497822\n",
       "50      1.519894   0   3  462985\n",
       "51      1.536981   0   3  488470\n",
       "52      1.470909   0   3  476260\n",
       "53      1.490514   0   3  471177\n",
       "54      1.525348   0   3  495963\n",
       "55      1.460087   0   3  490662\n",
       "56      1.504836   0   3  498707\n",
       "57      1.493215   0   3  472668\n",
       "58      1.466344   0   3  475741\n",
       "59      1.458563   0   3  471687\n",
       "60      1.583946   0   3  458818\n",
       "61      1.429138   0   3  464699\n",
       "62      1.532012   0   3  471803\n",
       "63      1.472047   0   3  472942\n",
       "64      1.464309   0   3  498028\n",
       "65      1.505021   0   3  452920\n",
       "66      1.564827   0   3  451409\n",
       "67      1.467074   0   3  463909\n",
       "68      1.564103   0   3  497907\n",
       "69      1.502963   0   3  485501\n",
       "70      1.492471   0   3  478319\n",
       "71      1.533481   0   3  459207\n",
       "72      1.520758   0   3  478875\n",
       "73      1.496552   0   3  496109\n",
       "74      1.531565   0   3  464220\n",
       "75      1.455954   0   3  492188\n",
       "76      1.512304   0   3  471160\n",
       "77      1.516393   0   3  474757\n",
       "78      1.435486   0   3  471533\n",
       "79      1.529703   0   3  498415\n",
       "80      1.519428   0   3  482775\n",
       "81      1.455004   0   3  478367"
      ]
     },
     "execution_count": 36,
     "metadata": {},
     "output_type": "execute_result"
    }
   ],
   "source": [
    "#perform multiple aggregations\n",
    "df_data_merged.groupby('age').agg({'n_dependants':['mean', 'min', 'max', 'count']})"
   ]
  },
  {
   "cell_type": "markdown",
   "id": "fb5ade3f",
   "metadata": {},
   "source": [
    "Analysis: There is a good connection between age and family situation (number of dependants). As we can see on the charts, that every age has the average of dependants between 1 and 2 dependants (around 1.425 to 1.6). When we performed multiple aggregations, almost all of the age has the mean value around 1.5, which means that it has the same conclusion with the line charts, which every age has the number of dependants between 1 and 2."
   ]
  },
  {
   "cell_type": "markdown",
   "id": "cd04788f",
   "metadata": {},
   "source": [
    "## Direction #7"
   ]
  },
  {
   "cell_type": "markdown",
   "id": "7184550b",
   "metadata": {},
   "source": [
    "### Creating Scatterplot from 'age' and 'income' columns"
   ]
  },
  {
   "cell_type": "code",
   "execution_count": 34,
   "id": "1ec6c826",
   "metadata": {},
   "outputs": [
    {
     "data": {
      "image/png": "[encoded data removed]",
      "text/plain": [
       "<Figure size 640x480 with 1 Axes>"
      ]
     },
     "metadata": {},
     "output_type": "display_data"
    }
   ],
   "source": [
    "#create scatterplot of the 'age' & 'income' columns\n",
    "scatterplot_2 = sns.scatterplot(x = 'age', y = 'income', data = df_data_merged)"
   ]
  },
  {
   "cell_type": "code",
   "execution_count": 38,
   "id": "5fd8618c",
   "metadata": {},
   "outputs": [],
   "source": [
    "#save the scatterplot\n",
    "scatterplot_2.figure.savefig(os.path.join(path, '04. Analysis', 'Visualizations', 'scatterplot_income_vs_age'))"
   ]
  },
  {
   "cell_type": "code",
   "execution_count": 37,
   "id": "ddc1ad93",
   "metadata": {},
   "outputs": [
    {
     "data": {
      "text/html": [
       "<div>\n",
       "<style scoped>\n",
       "    .dataframe tbody tr th:only-of-type {\n",
       "        vertical-align: middle;\n",
       "    }\n",
       "\n",
       "    .dataframe tbody tr th {\n",
       "        vertical-align: top;\n",
       "    }\n",
       "\n",
       "    .dataframe thead tr th {\n",
       "        text-align: left;\n",
       "    }\n",
       "\n",
       "    .dataframe thead tr:last-of-type th {\n",
       "        text-align: right;\n",
       "    }\n",
       "</style>\n",
       "<table border=\"1\" class=\"dataframe\">\n",
       "  <thead>\n",
       "    <tr>\n",
       "      <th></th>\n",
       "      <th colspan=\"4\" halign=\"left\">income</th>\n",
       "    </tr>\n",
       "    <tr>\n",
       "      <th></th>\n",
       "      <th>mean</th>\n",
       "      <th>min</th>\n",
       "      <th>max</th>\n",
       "      <th>count</th>\n",
       "    </tr>\n",
       "    <tr>\n",
       "      <th>age</th>\n",
       "      <th></th>\n",
       "      <th></th>\n",
       "      <th></th>\n",
       "      <th></th>\n",
       "    </tr>\n",
       "  </thead>\n",
       "  <tbody>\n",
       "    <tr>\n",
       "      <th>18</th>\n",
       "      <td>70519.999727</td>\n",
       "      <td>26067</td>\n",
       "      <td>357226</td>\n",
       "      <td>472863</td>\n",
       "    </tr>\n",
       "    <tr>\n",
       "      <th>19</th>\n",
       "      <td>69908.858256</td>\n",
       "      <td>25972</td>\n",
       "      <td>396364</td>\n",
       "      <td>491977</td>\n",
       "    </tr>\n",
       "    <tr>\n",
       "      <th>20</th>\n",
       "      <td>70985.344014</td>\n",
       "      <td>26024</td>\n",
       "      <td>338939</td>\n",
       "      <td>478887</td>\n",
       "    </tr>\n",
       "    <tr>\n",
       "      <th>21</th>\n",
       "      <td>70473.382810</td>\n",
       "      <td>26119</td>\n",
       "      <td>372571</td>\n",
       "      <td>485541</td>\n",
       "    </tr>\n",
       "    <tr>\n",
       "      <th>22</th>\n",
       "      <td>70049.403289</td>\n",
       "      <td>26070</td>\n",
       "      <td>354808</td>\n",
       "      <td>483586</td>\n",
       "    </tr>\n",
       "    <tr>\n",
       "      <th>23</th>\n",
       "      <td>70492.472997</td>\n",
       "      <td>26146</td>\n",
       "      <td>381379</td>\n",
       "      <td>492360</td>\n",
       "    </tr>\n",
       "    <tr>\n",
       "      <th>24</th>\n",
       "      <td>71967.467984</td>\n",
       "      <td>26072</td>\n",
       "      <td>391834</td>\n",
       "      <td>476657</td>\n",
       "    </tr>\n",
       "    <tr>\n",
       "      <th>25</th>\n",
       "      <td>71387.317895</td>\n",
       "      <td>26137</td>\n",
       "      <td>385324</td>\n",
       "      <td>443622</td>\n",
       "    </tr>\n",
       "    <tr>\n",
       "      <th>26</th>\n",
       "      <td>70660.423317</td>\n",
       "      <td>26045</td>\n",
       "      <td>371450</td>\n",
       "      <td>480907</td>\n",
       "    </tr>\n",
       "    <tr>\n",
       "      <th>27</th>\n",
       "      <td>70895.974744</td>\n",
       "      <td>25979</td>\n",
       "      <td>378234</td>\n",
       "      <td>490528</td>\n",
       "    </tr>\n",
       "    <tr>\n",
       "      <th>28</th>\n",
       "      <td>69694.347361</td>\n",
       "      <td>26580</td>\n",
       "      <td>376208</td>\n",
       "      <td>461422</td>\n",
       "    </tr>\n",
       "    <tr>\n",
       "      <th>29</th>\n",
       "      <td>70313.846219</td>\n",
       "      <td>26013</td>\n",
       "      <td>392552</td>\n",
       "      <td>491862</td>\n",
       "    </tr>\n",
       "    <tr>\n",
       "      <th>30</th>\n",
       "      <td>69265.059932</td>\n",
       "      <td>25991</td>\n",
       "      <td>381351</td>\n",
       "      <td>481032</td>\n",
       "    </tr>\n",
       "    <tr>\n",
       "      <th>31</th>\n",
       "      <td>69638.467579</td>\n",
       "      <td>26039</td>\n",
       "      <td>381340</td>\n",
       "      <td>498374</td>\n",
       "    </tr>\n",
       "    <tr>\n",
       "      <th>32</th>\n",
       "      <td>69949.061292</td>\n",
       "      <td>25955</td>\n",
       "      <td>367501</td>\n",
       "      <td>467682</td>\n",
       "    </tr>\n",
       "    <tr>\n",
       "      <th>33</th>\n",
       "      <td>70739.226800</td>\n",
       "      <td>26061</td>\n",
       "      <td>395178</td>\n",
       "      <td>460243</td>\n",
       "    </tr>\n",
       "    <tr>\n",
       "      <th>34</th>\n",
       "      <td>70690.314605</td>\n",
       "      <td>25911</td>\n",
       "      <td>387860</td>\n",
       "      <td>481705</td>\n",
       "    </tr>\n",
       "    <tr>\n",
       "      <th>35</th>\n",
       "      <td>71477.527057</td>\n",
       "      <td>25999</td>\n",
       "      <td>388874</td>\n",
       "      <td>487885</td>\n",
       "    </tr>\n",
       "    <tr>\n",
       "      <th>36</th>\n",
       "      <td>71089.290347</td>\n",
       "      <td>26170</td>\n",
       "      <td>351375</td>\n",
       "      <td>460004</td>\n",
       "    </tr>\n",
       "    <tr>\n",
       "      <th>37</th>\n",
       "      <td>70259.005540</td>\n",
       "      <td>25986</td>\n",
       "      <td>397929</td>\n",
       "      <td>476532</td>\n",
       "    </tr>\n",
       "    <tr>\n",
       "      <th>38</th>\n",
       "      <td>69733.147308</td>\n",
       "      <td>26234</td>\n",
       "      <td>390410</td>\n",
       "      <td>495140</td>\n",
       "    </tr>\n",
       "    <tr>\n",
       "      <th>39</th>\n",
       "      <td>70510.456025</td>\n",
       "      <td>25903</td>\n",
       "      <td>382018</td>\n",
       "      <td>486851</td>\n",
       "    </tr>\n",
       "    <tr>\n",
       "      <th>40</th>\n",
       "      <td>71050.106991</td>\n",
       "      <td>26154</td>\n",
       "      <td>395360</td>\n",
       "      <td>477479</td>\n",
       "    </tr>\n",
       "    <tr>\n",
       "      <th>41</th>\n",
       "      <td>116468.623644</td>\n",
       "      <td>29017</td>\n",
       "      <td>551849</td>\n",
       "      <td>447823</td>\n",
       "    </tr>\n",
       "    <tr>\n",
       "      <th>42</th>\n",
       "      <td>116619.986356</td>\n",
       "      <td>29081</td>\n",
       "      <td>549286</td>\n",
       "      <td>478682</td>\n",
       "    </tr>\n",
       "    <tr>\n",
       "      <th>43</th>\n",
       "      <td>116493.398046</td>\n",
       "      <td>29463</td>\n",
       "      <td>590790</td>\n",
       "      <td>493430</td>\n",
       "    </tr>\n",
       "    <tr>\n",
       "      <th>44</th>\n",
       "      <td>114882.506456</td>\n",
       "      <td>29076</td>\n",
       "      <td>567729</td>\n",
       "      <td>488163</td>\n",
       "    </tr>\n",
       "    <tr>\n",
       "      <th>45</th>\n",
       "      <td>117902.967442</td>\n",
       "      <td>29082</td>\n",
       "      <td>569810</td>\n",
       "      <td>480064</td>\n",
       "    </tr>\n",
       "    <tr>\n",
       "      <th>46</th>\n",
       "      <td>115592.973289</td>\n",
       "      <td>29053</td>\n",
       "      <td>550917</td>\n",
       "      <td>468007</td>\n",
       "    </tr>\n",
       "    <tr>\n",
       "      <th>47</th>\n",
       "      <td>115851.613061</td>\n",
       "      <td>29044</td>\n",
       "      <td>584097</td>\n",
       "      <td>483609</td>\n",
       "    </tr>\n",
       "    <tr>\n",
       "      <th>48</th>\n",
       "      <td>117207.910144</td>\n",
       "      <td>29663</td>\n",
       "      <td>536156</td>\n",
       "      <td>500821</td>\n",
       "    </tr>\n",
       "    <tr>\n",
       "      <th>49</th>\n",
       "      <td>117092.302447</td>\n",
       "      <td>29112</td>\n",
       "      <td>559700</td>\n",
       "      <td>497822</td>\n",
       "    </tr>\n",
       "    <tr>\n",
       "      <th>50</th>\n",
       "      <td>115909.385058</td>\n",
       "      <td>29085</td>\n",
       "      <td>574425</td>\n",
       "      <td>462985</td>\n",
       "    </tr>\n",
       "    <tr>\n",
       "      <th>51</th>\n",
       "      <td>115099.116480</td>\n",
       "      <td>29085</td>\n",
       "      <td>528184</td>\n",
       "      <td>488470</td>\n",
       "    </tr>\n",
       "    <tr>\n",
       "      <th>52</th>\n",
       "      <td>113929.651390</td>\n",
       "      <td>29257</td>\n",
       "      <td>526894</td>\n",
       "      <td>476260</td>\n",
       "    </tr>\n",
       "    <tr>\n",
       "      <th>53</th>\n",
       "      <td>115281.822937</td>\n",
       "      <td>29419</td>\n",
       "      <td>518856</td>\n",
       "      <td>471177</td>\n",
       "    </tr>\n",
       "    <tr>\n",
       "      <th>54</th>\n",
       "      <td>115404.180237</td>\n",
       "      <td>29685</td>\n",
       "      <td>531126</td>\n",
       "      <td>495963</td>\n",
       "    </tr>\n",
       "    <tr>\n",
       "      <th>55</th>\n",
       "      <td>113080.490132</td>\n",
       "      <td>29018</td>\n",
       "      <td>591089</td>\n",
       "      <td>490662</td>\n",
       "    </tr>\n",
       "    <tr>\n",
       "      <th>56</th>\n",
       "      <td>116925.178969</td>\n",
       "      <td>29149</td>\n",
       "      <td>525892</td>\n",
       "      <td>498707</td>\n",
       "    </tr>\n",
       "    <tr>\n",
       "      <th>57</th>\n",
       "      <td>116147.241645</td>\n",
       "      <td>29053</td>\n",
       "      <td>579397</td>\n",
       "      <td>472668</td>\n",
       "    </tr>\n",
       "    <tr>\n",
       "      <th>58</th>\n",
       "      <td>115799.924186</td>\n",
       "      <td>29075</td>\n",
       "      <td>462969</td>\n",
       "      <td>475741</td>\n",
       "    </tr>\n",
       "    <tr>\n",
       "      <th>59</th>\n",
       "      <td>114293.045577</td>\n",
       "      <td>29161</td>\n",
       "      <td>573617</td>\n",
       "      <td>471687</td>\n",
       "    </tr>\n",
       "    <tr>\n",
       "      <th>60</th>\n",
       "      <td>115403.616268</td>\n",
       "      <td>29192</td>\n",
       "      <td>578251</td>\n",
       "      <td>458818</td>\n",
       "    </tr>\n",
       "    <tr>\n",
       "      <th>61</th>\n",
       "      <td>116062.783275</td>\n",
       "      <td>29066</td>\n",
       "      <td>441855</td>\n",
       "      <td>464699</td>\n",
       "    </tr>\n",
       "    <tr>\n",
       "      <th>62</th>\n",
       "      <td>115270.049173</td>\n",
       "      <td>29057</td>\n",
       "      <td>552776</td>\n",
       "      <td>471803</td>\n",
       "    </tr>\n",
       "    <tr>\n",
       "      <th>63</th>\n",
       "      <td>116715.199602</td>\n",
       "      <td>29003</td>\n",
       "      <td>545128</td>\n",
       "      <td>472942</td>\n",
       "    </tr>\n",
       "    <tr>\n",
       "      <th>64</th>\n",
       "      <td>116135.834054</td>\n",
       "      <td>29134</td>\n",
       "      <td>573849</td>\n",
       "      <td>498028</td>\n",
       "    </tr>\n",
       "    <tr>\n",
       "      <th>65</th>\n",
       "      <td>116487.781864</td>\n",
       "      <td>29005</td>\n",
       "      <td>577728</td>\n",
       "      <td>452920</td>\n",
       "    </tr>\n",
       "    <tr>\n",
       "      <th>66</th>\n",
       "      <td>114693.329960</td>\n",
       "      <td>29050</td>\n",
       "      <td>350982</td>\n",
       "      <td>451409</td>\n",
       "    </tr>\n",
       "    <tr>\n",
       "      <th>67</th>\n",
       "      <td>115264.067509</td>\n",
       "      <td>29189</td>\n",
       "      <td>443761</td>\n",
       "      <td>463909</td>\n",
       "    </tr>\n",
       "    <tr>\n",
       "      <th>68</th>\n",
       "      <td>115779.016035</td>\n",
       "      <td>29011</td>\n",
       "      <td>540239</td>\n",
       "      <td>497907</td>\n",
       "    </tr>\n",
       "    <tr>\n",
       "      <th>69</th>\n",
       "      <td>116143.195270</td>\n",
       "      <td>29298</td>\n",
       "      <td>515905</td>\n",
       "      <td>485501</td>\n",
       "    </tr>\n",
       "    <tr>\n",
       "      <th>70</th>\n",
       "      <td>113610.090500</td>\n",
       "      <td>29001</td>\n",
       "      <td>456192</td>\n",
       "      <td>478319</td>\n",
       "    </tr>\n",
       "    <tr>\n",
       "      <th>71</th>\n",
       "      <td>114551.536980</td>\n",
       "      <td>29327</td>\n",
       "      <td>558033</td>\n",
       "      <td>459207</td>\n",
       "    </tr>\n",
       "    <tr>\n",
       "      <th>72</th>\n",
       "      <td>117282.854931</td>\n",
       "      <td>29484</td>\n",
       "      <td>556641</td>\n",
       "      <td>478875</td>\n",
       "    </tr>\n",
       "    <tr>\n",
       "      <th>73</th>\n",
       "      <td>115226.271390</td>\n",
       "      <td>29318</td>\n",
       "      <td>421524</td>\n",
       "      <td>496109</td>\n",
       "    </tr>\n",
       "    <tr>\n",
       "      <th>74</th>\n",
       "      <td>115139.883391</td>\n",
       "      <td>29230</td>\n",
       "      <td>497926</td>\n",
       "      <td>464220</td>\n",
       "    </tr>\n",
       "    <tr>\n",
       "      <th>75</th>\n",
       "      <td>118072.323543</td>\n",
       "      <td>29040</td>\n",
       "      <td>593901</td>\n",
       "      <td>492188</td>\n",
       "    </tr>\n",
       "    <tr>\n",
       "      <th>76</th>\n",
       "      <td>114765.402791</td>\n",
       "      <td>29302</td>\n",
       "      <td>578551</td>\n",
       "      <td>471160</td>\n",
       "    </tr>\n",
       "    <tr>\n",
       "      <th>77</th>\n",
       "      <td>116633.899974</td>\n",
       "      <td>30031</td>\n",
       "      <td>512331</td>\n",
       "      <td>474757</td>\n",
       "    </tr>\n",
       "    <tr>\n",
       "      <th>78</th>\n",
       "      <td>116840.873924</td>\n",
       "      <td>29113</td>\n",
       "      <td>381735</td>\n",
       "      <td>471533</td>\n",
       "    </tr>\n",
       "    <tr>\n",
       "      <th>79</th>\n",
       "      <td>114892.855267</td>\n",
       "      <td>29330</td>\n",
       "      <td>579169</td>\n",
       "      <td>498415</td>\n",
       "    </tr>\n",
       "    <tr>\n",
       "      <th>80</th>\n",
       "      <td>114483.820042</td>\n",
       "      <td>29008</td>\n",
       "      <td>569253</td>\n",
       "      <td>482775</td>\n",
       "    </tr>\n",
       "    <tr>\n",
       "      <th>81</th>\n",
       "      <td>115642.980304</td>\n",
       "      <td>29834</td>\n",
       "      <td>571932</td>\n",
       "      <td>478367</td>\n",
       "    </tr>\n",
       "  </tbody>\n",
       "</table>\n",
       "</div>"
      ],
      "text/plain": [
       "            income                       \n",
       "              mean    min     max   count\n",
       "age                                      \n",
       "18    70519.999727  26067  357226  472863\n",
       "19    69908.858256  25972  396364  491977\n",
       "20    70985.344014  26024  338939  478887\n",
       "21    70473.382810  26119  372571  485541\n",
       "22    70049.403289  26070  354808  483586\n",
       "23    70492.472997  26146  381379  492360\n",
       "24    71967.467984  26072  391834  476657\n",
       "25    71387.317895  26137  385324  443622\n",
       "26    70660.423317  26045  371450  480907\n",
       "27    70895.974744  25979  378234  490528\n",
       "28    69694.347361  26580  376208  461422\n",
       "29    70313.846219  26013  392552  491862\n",
       "30    69265.059932  25991  381351  481032\n",
       "31    69638.467579  26039  381340  498374\n",
       "32    69949.061292  25955  367501  467682\n",
       "33    70739.226800  26061  395178  460243\n",
       "34    70690.314605  25911  387860  481705\n",
       "35    71477.527057  25999  388874  487885\n",
       "36    71089.290347  26170  351375  460004\n",
       "37    70259.005540  25986  397929  476532\n",
       "38    69733.147308  26234  390410  495140\n",
       "39    70510.456025  25903  382018  486851\n",
       "40    71050.106991  26154  395360  477479\n",
       "41   116468.623644  29017  551849  447823\n",
       "42   116619.986356  29081  549286  478682\n",
       "43   116493.398046  29463  590790  493430\n",
       "44   114882.506456  29076  567729  488163\n",
       "45   117902.967442  29082  569810  480064\n",
       "46   115592.973289  29053  550917  468007\n",
       "47   115851.613061  29044  584097  483609\n",
       "48   117207.910144  29663  536156  500821\n",
       "49   117092.302447  29112  559700  497822\n",
       "50   115909.385058  29085  574425  462985\n",
       "51   115099.116480  29085  528184  488470\n",
       "52   113929.651390  29257  526894  476260\n",
       "53   115281.822937  29419  518856  471177\n",
       "54   115404.180237  29685  531126  495963\n",
       "55   113080.490132  29018  591089  490662\n",
       "56   116925.178969  29149  525892  498707\n",
       "57   116147.241645  29053  579397  472668\n",
       "58   115799.924186  29075  462969  475741\n",
       "59   114293.045577  29161  573617  471687\n",
       "60   115403.616268  29192  578251  458818\n",
       "61   116062.783275  29066  441855  464699\n",
       "62   115270.049173  29057  552776  471803\n",
       "63   116715.199602  29003  545128  472942\n",
       "64   116135.834054  29134  573849  498028\n",
       "65   116487.781864  29005  577728  452920\n",
       "66   114693.329960  29050  350982  451409\n",
       "67   115264.067509  29189  443761  463909\n",
       "68   115779.016035  29011  540239  497907\n",
       "69   116143.195270  29298  515905  485501\n",
       "70   113610.090500  29001  456192  478319\n",
       "71   114551.536980  29327  558033  459207\n",
       "72   117282.854931  29484  556641  478875\n",
       "73   115226.271390  29318  421524  496109\n",
       "74   115139.883391  29230  497926  464220\n",
       "75   118072.323543  29040  593901  492188\n",
       "76   114765.402791  29302  578551  471160\n",
       "77   116633.899974  30031  512331  474757\n",
       "78   116840.873924  29113  381735  471533\n",
       "79   114892.855267  29330  579169  498415\n",
       "80   114483.820042  29008  569253  482775\n",
       "81   115642.980304  29834  571932  478367"
      ]
     },
     "execution_count": 37,
     "metadata": {},
     "output_type": "execute_result"
    }
   ],
   "source": [
    "#perform multiple aggregations\n",
    "df_data_merged.groupby('age').agg({'income':['mean', 'min', 'max', 'count']})"
   ]
  },
  {
   "cell_type": "markdown",
   "id": "632a397a",
   "metadata": {},
   "source": [
    "Analysis: as we can see on the charts, there are no correlations between age and income. from the chart we can also conclude that the majority of customers have an income under 200000. The average income for customer under 40 is below 400000, whereas the average income for customer over 40 is below 600000. "
   ]
  },
  {
   "cell_type": "code",
   "execution_count": null,
   "id": "a8961c76",
   "metadata": {},
   "outputs": [],
   "source": []
  }
 ],
 "metadata": {
  "kernelspec": {
   "display_name": "Python 3 (ipykernel)",
   "language": "python",
   "name": "python3"
  },
  "language_info": {
   "codemirror_mode": {
    "name": "ipython",
    "version": 3
   },
   "file_extension": ".py",
   "mimetype": "text/x-python",
   "name": "python",
   "nbconvert_exporter": "python",
   "pygments_lexer": "ipython3",
   "version": "3.9.13"
  }
 },
 "nbformat": 4,
 "nbformat_minor": 5
}

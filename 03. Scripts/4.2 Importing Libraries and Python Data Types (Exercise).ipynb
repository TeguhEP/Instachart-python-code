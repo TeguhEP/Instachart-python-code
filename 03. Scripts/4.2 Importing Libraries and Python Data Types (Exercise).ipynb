{
 "cells": [
  {
   "cell_type": "markdown",
   "id": "a856fc98",
   "metadata": {},
   "source": [
    " # Importing libraries"
   ]
  },
  {
   "cell_type": "code",
   "execution_count": 3,
   "id": "2ad3e80f",
   "metadata": {},
   "outputs": [],
   "source": [
    "#Import libraries\n",
    "import pandas as pd\n",
    "import numpy as np\n",
    "import os"
   ]
  },
  {
   "cell_type": "markdown",
   "id": "bf202922",
   "metadata": {},
   "source": [
    "Working with Python Data Types"
   ]
  },
  {
   "cell_type": "code",
   "execution_count": 30,
   "id": "79ce2446",
   "metadata": {},
   "outputs": [],
   "source": [
    "#Task 4.2 No.7 (1)\n",
    "x = 50\n",
    "y = 50\n",
    "z = x + y"
   ]
  },
  {
   "cell_type": "code",
   "execution_count": 31,
   "id": "b321ecd4",
   "metadata": {},
   "outputs": [
    {
     "name": "stdout",
     "output_type": "stream",
     "text": [
      "100\n"
     ]
    }
   ],
   "source": [
    "print(z)"
   ]
  },
  {
   "cell_type": "code",
   "execution_count": 38,
   "id": "bd152e75",
   "metadata": {},
   "outputs": [],
   "source": [
    "#Task 4.2 No.7(2)\n",
    "a = 200\n",
    "b = 100\n",
    "c = a-b"
   ]
  },
  {
   "cell_type": "code",
   "execution_count": 39,
   "id": "f99f6d8c",
   "metadata": {},
   "outputs": [
    {
     "name": "stdout",
     "output_type": "stream",
     "text": [
      "100\n"
     ]
    }
   ],
   "source": [
    "print(c)"
   ]
  },
  {
   "cell_type": "code",
   "execution_count": 36,
   "id": "71f40f05",
   "metadata": {},
   "outputs": [],
   "source": [
    "#Task 4.2 No.7(3)\n",
    "d = 20\n",
    "e = 5\n",
    "f = d * e"
   ]
  },
  {
   "cell_type": "code",
   "execution_count": 37,
   "id": "b35db2cf",
   "metadata": {},
   "outputs": [
    {
     "name": "stdout",
     "output_type": "stream",
     "text": [
      "100\n"
     ]
    }
   ],
   "source": [
    "print(f)"
   ]
  },
  {
   "cell_type": "code",
   "execution_count": 41,
   "id": "039b2294",
   "metadata": {},
   "outputs": [],
   "source": [
    "#Task 4.2 No.8(1)\n",
    "a = 200\n",
    "b = 100\n",
    "c = a/b"
   ]
  },
  {
   "cell_type": "code",
   "execution_count": 42,
   "id": "99671489",
   "metadata": {},
   "outputs": [
    {
     "name": "stdout",
     "output_type": "stream",
     "text": [
      "2.0\n"
     ]
    }
   ],
   "source": [
    "print(c)"
   ]
  },
  {
   "cell_type": "code",
   "execution_count": 43,
   "id": "ec0d3eba",
   "metadata": {},
   "outputs": [
    {
     "data": {
      "text/plain": [
       "float"
      ]
     },
     "execution_count": 43,
     "metadata": {},
     "output_type": "execute_result"
    }
   ],
   "source": [
    "type(c)"
   ]
  },
  {
   "cell_type": "code",
   "execution_count": 47,
   "id": "9ee1a0ca",
   "metadata": {},
   "outputs": [],
   "source": [
    "#Task 4.2 No.9\n",
    "a = 'Python '\n",
    "b = 'Data '\n",
    "c = 'Types'\n",
    "d = a + b + c"
   ]
  },
  {
   "cell_type": "code",
   "execution_count": 48,
   "id": "511f319b",
   "metadata": {},
   "outputs": [
    {
     "name": "stdout",
     "output_type": "stream",
     "text": [
      "Python Data Types\n"
     ]
    }
   ],
   "source": [
    "print(d)"
   ]
  },
  {
   "cell_type": "code",
   "execution_count": 52,
   "id": "964adc19",
   "metadata": {},
   "outputs": [],
   "source": [
    "#Task 4.2 No.10(1)\n",
    "a = 'Python'\n",
    "b = 'is'\n",
    "c = 'the'\n",
    "d = 'better'\n",
    "e = 'choice'\n",
    "f = ' '\n",
    "g = a + f + b + f + c + f + d + f + e"
   ]
  },
  {
   "cell_type": "code",
   "execution_count": 53,
   "id": "b357ed91",
   "metadata": {},
   "outputs": [
    {
     "name": "stdout",
     "output_type": "stream",
     "text": [
      "Python is the better choice\n"
     ]
    }
   ],
   "source": [
    "print(g)"
   ]
  },
  {
   "cell_type": "code",
   "execution_count": 54,
   "id": "07413b08",
   "metadata": {},
   "outputs": [],
   "source": [
    "#Task 4.2 No.10(2)\n",
    "a = 'developing your research skills'\n",
    "b = 'is actually just as important as'\n",
    "c = 'developing your coding skills'\n",
    "d = ' '\n",
    "e = a + d + b + d + c"
   ]
  },
  {
   "cell_type": "code",
   "execution_count": 55,
   "id": "45650b74",
   "metadata": {},
   "outputs": [
    {
     "name": "stdout",
     "output_type": "stream",
     "text": [
      "developing your research skills is actually just as important as developing your coding skills\n"
     ]
    }
   ],
   "source": [
    "print(e)"
   ]
  },
  {
   "cell_type": "code",
   "execution_count": 56,
   "id": "0758f41a",
   "metadata": {},
   "outputs": [],
   "source": [
    "#Bonus Track\n",
    "a = 'Coding'\n",
    "b = a * 100"
   ]
  },
  {
   "cell_type": "code",
   "execution_count": 57,
   "id": "fee1d7dc",
   "metadata": {},
   "outputs": [
    {
     "name": "stdout",
     "output_type": "stream",
     "text": [
      "CodingCodingCodingCodingCodingCodingCodingCodingCodingCodingCodingCodingCodingCodingCodingCodingCodingCodingCodingCodingCodingCodingCodingCodingCodingCodingCodingCodingCodingCodingCodingCodingCodingCodingCodingCodingCodingCodingCodingCodingCodingCodingCodingCodingCodingCodingCodingCodingCodingCodingCodingCodingCodingCodingCodingCodingCodingCodingCodingCodingCodingCodingCodingCodingCodingCodingCodingCodingCodingCodingCodingCodingCodingCodingCodingCodingCodingCodingCodingCodingCodingCodingCodingCodingCodingCodingCodingCodingCodingCodingCodingCodingCodingCodingCodingCodingCodingCodingCodingCoding\n"
     ]
    }
   ],
   "source": [
    "print(b)"
   ]
  }
 ],
 "metadata": {
  "kernelspec": {
   "display_name": "Python 3 (ipykernel)",
   "language": "python",
   "name": "python3"
  },
  "language_info": {
   "codemirror_mode": {
    "name": "ipython",
    "version": 3
   },
   "file_extension": ".py",
   "mimetype": "text/x-python",
   "name": "python",
   "nbconvert_exporter": "python",
   "pygments_lexer": "ipython3",
   "version": "3.9.13"
  }
 },
 "nbformat": 4,
 "nbformat_minor": 5
}
